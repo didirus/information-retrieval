{
 "cells": [
  {
   "cell_type": "markdown",
   "metadata": {},
   "source": [
    "# Information Retrieval I #\n",
    "## Assignment 2: retrieval models [100 points + 10 bonus points] ##\n",
    "**TA**: Christophe Van Gysel (cvangysel@uva.nl; C3.258B, Science Park 904)\n",
    "\n",
    "**Secondary TAs**: Harrie Oosterhuis, Nikos Voskarides"
   ]
  },
  {
   "cell_type": "markdown",
   "metadata": {},
   "source": [
    "In this assignment you will get familiar with basic information retrieval concepts. You will implement and evaluate different information retrieval ranking models and evaluate their performance.\n",
    "\n",
    "We provide you with a VirtualBox image that comes pre-loaded with an index and a Python installation. To query the index, you'll use a Python package ([pyndri](https://github.com/cvangysel/pyndri)) that allows easy access to the underlying document statistics.\n",
    "\n",
    "For evaluation you'll use the [TREC Eval](https://github.com/usnistgov/trec_eval) utility, provided by the National Institute of Standards and Technology of the United States. TREC Eval is the de facto standard way to compute Information Retrieval measures and is frequently referenced in scientific papers.\n",
    "\n",
    "This is a **groups-of-two assignment**, the deadline is **23:59 - 25 January, 2017**. Code quality, informative comments and convincing analysis of the results will be considered when grading. Submission should be done through blackboard, questions can be asked on the course [Piazza](https://piazza.com/class/ixoz63p156g1ts).\n",
    "\n",
    "### Technicalities (must-read!) ###\n",
    "This assignment comes pre-loaded on a VirtualBox running Ubuntu. We have configured the indexing software and Python environment such that it works out of the box. You are allowed to extract the files from the VirtualBox and set-up your own non-virtualized environment. However, in this case you are on your own w.r.t. software support.\n",
    "\n",
    "The assignment directory is organized as follows:\n",
    "   * `./assignment.ipynb` (this file): the description of the assignment.\n",
    "   * `./index/`: the index we prepared for you.\n",
    "   * `./ap_88_90/`: directory with ground-truth and evaluation sets:\n",
    "      * `qrel_test`: test query relevance collection (**test set**).\n",
    "      * `qrel_validation`: validation query relevance collection (**validation set**).\n",
    "      * `topics_title`: semicolon-separated file with query identifiers and terms.\n",
    "      \n",
    "`Python + Jupyter`, `Indri`, `Gensim` and `Pyndri` come pre-installed (see `$HOME/.local`). TREC Eval can be found in `$HOME/Downloads/trec_eval.9.0`. The password of the `student` account on the VirtualBox is `datascience`."
   ]
  },
  {
   "cell_type": "markdown",
   "metadata": {},
   "source": [
    "### TREC Eval primer ###\n",
    "The TREC Eval utility can be downloaded and compiled as follows:\n",
    "\n",
    "    git clone https://github.com/usnistgov/trec_eval.git\n",
    "    cd trec_eval\n",
    "    make\n",
    "\n",
    "TREC Eval computes evaluation scores given two files: ground-truth information regarding relevant documents, named *query relevance* or *qrel*, and a ranking of documents for a set of queries, referred to as a *run*. The *qrel* will be supplied by us and should not be changed. For every retrieval model (or combinations thereof) you will generate a run of the top-1000 documents for every query. The format of the *run* file is as follows:\n",
    "\n",
    "    $query_identifier Q0 $document_identifier $rank_of_document_for_query $query_document_similarity $run_identifier\n",
    "    \n",
    "where\n",
    "   * `$query_identifier` is the unique identifier corresponding to a query (usually this follows a sequential numbering).\n",
    "   * `Q0` is a legacy field that you can ignore.\n",
    "   * `$document_identifier` corresponds to the unique identifier of a document (e.g., APXXXXXXX where AP denotes the collection and the Xs correspond to a unique numerical identifier).\n",
    "   * `$rank_of_document_for_query` denotes the rank of the document for the particular query. This field is ignored by TREC Eval and is only maintained for legacy support. The ranks are computed by TREC Eval itself using the `$query_document_similarity` field (see next). However, it remains good practice to correctly compute this field.\n",
    "   * `$query_document_similarity` is a score indicating the similarity between query and document where a higher score denotes greater similarity.\n",
    "   * `$run_identifier` is an identifier of the run. This field is for your own convenience and has no purpose beyond bookkeeping.\n",
    "   \n",
    "For example, say we have two queries: `Q1` and `Q2` and we rank three documents (`DOC1`, `DOC2`, `DOC3`). For query `Q1`, we find the following similarity scores `score(Q1, DOC1) = 1.0`, `score(Q1, DOC2) = 0.5`, `score(Q1, DOC3) = 0.75`; and for `Q2`: `score(Q2, DOC1) = -0.1`, `score(Q2, DOC2) = 1.25`, `score(Q1, DOC3) = 0.0`. We can generate run using the following snippet:"
   ]
  },
  {
   "cell_type": "code",
   "execution_count": 168,
   "metadata": {
    "collapsed": false,
    "scrolled": false
   },
   "outputs": [
    {
     "name": "stdout",
     "output_type": "stream",
     "text": [
      "Q2 Q0 DOC2 1 1.25 example\n",
      "Q2 Q0 DOC3 2 0.0 example\n",
      "Q2 Q0 DOC1 3 -0.1 example\n",
      "Q1 Q0 DOC1 1 1.0 example\n",
      "Q1 Q0 DOC3 2 0.75 example\n",
      "Q1 Q0 DOC2 3 0.5 example\n"
     ]
    }
   ],
   "source": [
    "import logging\n",
    "import sys\n",
    "\n",
    "def write_run(model_name, data, out_f,\n",
    "              max_objects_per_query=sys.maxsize,\n",
    "              skip_sorting=False):\n",
    "    \"\"\"\n",
    "    Write a run to an output file.\n",
    "    Parameters:\n",
    "        - model_name: identifier of run.\n",
    "        - data: dictionary mapping topic_id to object_assesments;\n",
    "            object_assesments is an iterable (list or tuple) of\n",
    "            (relevance, object_id) pairs.\n",
    "            The object_assesments iterable is sorted by decreasing order.\n",
    "        - out_f: output file stream.\n",
    "        - max_objects_per_query: cut-off for number of objects per query.\n",
    "    \"\"\"\n",
    "    for subject_id, object_assesments in data.items():\n",
    "        if not object_assesments:\n",
    "            logging.warning('Received empty ranking for %s; ignoring.',\n",
    "                            subject_id)\n",
    "\n",
    "            continue\n",
    "\n",
    "        # Probe types, to make sure everything goes alright.\n",
    "        # assert isinstance(object_assesments[0][0], float) or \\\n",
    "        #     isinstance(object_assesments[0][0], np.float32)\n",
    "        assert isinstance(object_assesments[0][1], str) or \\\n",
    "            isinstance(object_assesments[0][1], bytes)\n",
    "\n",
    "        if not skip_sorting:\n",
    "            object_assesments = sorted(object_assesments, reverse=True)\n",
    "\n",
    "        if max_objects_per_query < sys.maxsize:\n",
    "            object_assesments = object_assesments[:max_objects_per_query]\n",
    "\n",
    "        if isinstance(subject_id, bytes):\n",
    "            subject_id = subject_id.decode('utf8')\n",
    "\n",
    "        for rank, (relevance, object_id) in enumerate(object_assesments):\n",
    "            if isinstance(object_id, bytes):\n",
    "                object_id = object_id.decode('utf8')\n",
    "\n",
    "            out_f.write(\n",
    "                '{subject} Q0 {object} {rank} {relevance} '\n",
    "                '{model_name}\\n'.format(\n",
    "                    subject=subject_id,\n",
    "                    object=object_id,\n",
    "                    rank=rank + 1,\n",
    "                    relevance=relevance,\n",
    "                    model_name=model_name))\n",
    "            \n",
    "# The following writes the run to standard output.\n",
    "# In your code, you should write the runs to local\n",
    "# storage in order to pass them to trec_eval.\n",
    "write_run(\n",
    "    model_name='example',\n",
    "    data={\n",
    "        'Q1': ((1.0, 'DOC1'), (0.5, 'DOC2'), (0.75, 'DOC3')),\n",
    "        'Q2': ((-0.1, 'DOC1'), (1.25, 'DOC2'), (0.0, 'DOC3')),\n",
    "    },\n",
    "    out_f=sys.stdout,\n",
    "    max_objects_per_query=1000)"
   ]
  },
  {
   "cell_type": "markdown",
   "metadata": {},
   "source": [
    "Now, imagine that we know that `DOC1` is relevant and `DOC3` is non-relevant for `Q1`. In addition, for `Q2` we only know of the relevance of `DOC3`. The query relevance file looks like:\n",
    "\n",
    "    Q1 0 DOC1 1\n",
    "    Q1 0 DOC3 0\n",
    "    Q2 0 DOC3 1\n",
    "    \n",
    "We store the run and qrel in files `example.run` and `example.qrel` respectively on disk. We can now use TREC Eval to compute evaluation measures. In this example, we're only interested in Mean Average Precision and we'll only show this below for brevity. However, TREC Eval outputs much more information such as NDCG, recall, precision, etc.\n",
    "\n",
    "    $ trec_eval -m all_trec -q example.qrel example.run | grep -E \"^map\\s\"\n",
    "    > map                   \tQ1\t1.0000\n",
    "    > map                   \tQ2\t0.5000\n",
    "    > map                   \tall\t0.7500\n",
    "    \n",
    "Now that we've discussed the output format of rankings and how you can compute evaluation measures from these rankings, we'll now proceed with an overview of the indexing framework you'll use."
   ]
  },
  {
   "cell_type": "markdown",
   "metadata": {},
   "source": [
    "### Pyndri primer ###\n",
    "For this assignment you will use [Pyndri](https://github.com/cvangysel/pyndri) [[1](https://arxiv.org/abs/1701.00749)], a python interface for [Indri](https://www.lemurproject.org/indri.php). We have indexed the document collection and you can query the index using Pyndri. We will start by giving you some examples of what Pyndri can do:\n",
    "\n",
    "First we read the document collection index with Pyndri:"
   ]
  },
  {
   "cell_type": "code",
   "execution_count": 15,
   "metadata": {
    "collapsed": false,
    "scrolled": true
   },
   "outputs": [],
   "source": [
    "import pyndri\n",
    "import pyndri.compat\n",
    "import gensim\n",
    "import copy\n",
    "import logging\n",
    "import time\n",
    "index = pyndri.Index('index/')\n"
   ]
  },
  {
   "cell_type": "markdown",
   "metadata": {},
   "source": [
    "The loaded index can be used to access a collection of documents in an easy manner. We'll give you some examples to get some idea of what it can do, it is up to you to figure out how to use it for the remainder of the assignment.\n",
    "\n",
    "First let's look at the number of documents, since Pyndri indexes the documents using incremental identifiers we can simply take the lowest index and the maximum document and consider the difference:"
   ]
  },
  {
   "cell_type": "code",
   "execution_count": 6,
   "metadata": {
    "collapsed": false
   },
   "outputs": [
    {
     "name": "stdout",
     "output_type": "stream",
     "text": [
      "There are 164597 documents in this collection.\n",
      "164598\n",
      "1\n"
     ]
    },
    {
     "data": {
      "text/plain": [
       "<function print>"
      ]
     },
     "execution_count": 6,
     "metadata": {},
     "output_type": "execute_result"
    }
   ],
   "source": [
    "print(\"There are %d documents in this collection.\" % (index.maximum_document() - index.document_base()))\n",
    "print(index.maximum_document())\n",
    "print(index.document_base())\n",
    "print \n"
   ]
  },
  {
   "cell_type": "markdown",
   "metadata": {},
   "source": [
    "Let's take the first document out of the collection and take a look at it:"
   ]
  },
  {
   "cell_type": "code",
   "execution_count": 7,
   "metadata": {
    "collapsed": false,
    "scrolled": true
   },
   "outputs": [],
   "source": [
    "example_document = index.document(index.document_base())\n",
    "# print(example_document)"
   ]
  },
  {
   "cell_type": "markdown",
   "metadata": {},
   "source": [
    "Here we see a document consists of two things, a string representing the external document identifier and an integer list representing the identifiers of words that make up the document. Pyndri uses integer representations for words or terms, thus a token_id is an integer that represents a word whereas the token is the actual text of the word/term. Every id has a unique token and vice versa with the exception of stop words: words so common that there are uninformative, all of these receive the zero id.\n",
    "\n",
    "To see what some ids and their matching tokens we take a look at the dictionary of the index:"
   ]
  },
  {
   "cell_type": "code",
   "execution_count": 17,
   "metadata": {
    "collapsed": false
   },
   "outputs": [
    {
     "name": "stdout",
     "output_type": "stream",
     "text": [
      "[(1, 'new'), (2, 'percent'), (3, 'two'), (4, '1'), (5, 'people'), (6, 'million'), (7, '000'), (8, 'government'), (9, 'president'), (10, 'years'), (11, 'state'), (12, '2'), (13, 'states'), (14, 'three'), (15, 'time')]\n"
     ]
    }
   ],
   "source": [
    "token2id, id2token, _ = index.get_dictionary()\n",
    "#print(list(id2token.items())[:15])"
   ]
  },
  {
   "cell_type": "markdown",
   "metadata": {},
   "source": [
    "Using this dictionary we can see the tokens for the (non-stop) words in our example document:"
   ]
  },
  {
   "cell_type": "code",
   "execution_count": 173,
   "metadata": {
    "collapsed": false
   },
   "outputs": [],
   "source": [
    "# print([id2token[word_id] for word_id in example_document[1] if word_id > 0])"
   ]
  },
  {
   "cell_type": "markdown",
   "metadata": {},
   "source": [
    "The reverse can also be done, say we want to look for news about the \"University of Massachusetts\", the tokens of that query can be converted to ids using the reverse dictionary:"
   ]
  },
  {
   "cell_type": "code",
   "execution_count": 18,
   "metadata": {
    "collapsed": false
   },
   "outputs": [
    {
     "name": "stdout",
     "output_type": "stream",
     "text": [
      "Query by tokens: ['university', '', 'massachusetts']\n",
      "Query by ids with stopwords: [200, 0, 894]\n",
      "Query by ids without stopwords: [200, 894]\n",
      "200\n"
     ]
    }
   ],
   "source": [
    "query_tokens = index.tokenize(\"University of Massachusetts\")\n",
    "print(\"Query by tokens:\", query_tokens)\n",
    "query_id_tokens = [token2id.get(query_token,0) for query_token in query_tokens]\n",
    "print(\"Query by ids with stopwords:\", query_id_tokens)\n",
    "query_id_tokens = [word_id for word_id in query_id_tokens if word_id > 0]\n",
    "print(\"Query by ids without stopwords:\", query_id_tokens)\n",
    "print(token2id.get('university'))"
   ]
  },
  {
   "cell_type": "markdown",
   "metadata": {},
   "source": [
    "Naturally we can now match the document and query in the id space, let's see how often a word from the query occurs in our example document:"
   ]
  },
  {
   "cell_type": "code",
   "execution_count": 10,
   "metadata": {
    "collapsed": false
   },
   "outputs": [
    {
     "name": "stdout",
     "output_type": "stream",
     "text": [
      "Document AP890425-0001 has 13 word matches with query: \"university  massachusetts\".\n",
      "Document AP890425-0001 and query \"university  massachusetts\" have a 2.5% overlap.\n"
     ]
    }
   ],
   "source": [
    "matching_words = sum([True for word_id in example_document[1] if word_id in query_id_tokens])\n",
    "print(\"Document %s has %d word matches with query: \\\"%s\\\".\" % (example_document[0], matching_words, ' '.join(query_tokens)))\n",
    "print(\"Document %s and query \\\"%s\\\" have a %.01f%% overlap.\" % (example_document[0], ' '.join(query_tokens),matching_words/float(len(example_document[1]))*100))"
   ]
  },
  {
   "cell_type": "markdown",
   "metadata": {},
   "source": [
    "While this is certainly not everything Pyndri can do, it should give you an idea of how to use it. Please take a look at the [examples](https://github.com/cvangysel/pyndri) as it will help you a lot with this assignment.\n",
    "\n",
    "**CAUTION**: Avoid printing out the whole index in this Notebook as it will generate a lot of output and is likely to corrupt the Notebook."
   ]
  },
  {
   "cell_type": "markdown",
   "metadata": {},
   "source": [
    "### Parsing the query file\n",
    "You can parse the query file (`ap_88_89/topics_title`) using the following snippet:"
   ]
  },
  {
   "cell_type": "code",
   "execution_count": 19,
   "metadata": {
    "collapsed": false
   },
   "outputs": [],
   "source": [
    "import collections\n",
    "import io\n",
    "import logging\n",
    "import sys\n",
    "\n",
    "def parse_topics(file_or_files,\n",
    "                 max_topics=sys.maxsize, delimiter=';'):\n",
    "    assert max_topics >= 0 or max_topics is None\n",
    "\n",
    "    topics = collections.OrderedDict()\n",
    "\n",
    "    if not isinstance(file_or_files, list) and \\\n",
    "            not isinstance(file_or_files, tuple):\n",
    "        if hasattr(file_or_files, '__iter__'):\n",
    "            file_or_files = list(file_or_files)\n",
    "        else:\n",
    "            file_or_files = [file_or_files]\n",
    "\n",
    "    for f in file_or_files:\n",
    "        assert isinstance(f, io.IOBase)\n",
    "\n",
    "        for line in f:\n",
    "            assert(isinstance(line, str))\n",
    "\n",
    "            line = line.strip()\n",
    "\n",
    "            if not line:\n",
    "                continue\n",
    "\n",
    "            topic_id, terms = line.split(delimiter, 1)\n",
    "\n",
    "            if topic_id in topics and (topics[topic_id] != terms):\n",
    "                    logging.error('Duplicate topic \"%s\" (%s vs. %s).',\n",
    "                                  topic_id,\n",
    "                                  topics[topic_id],\n",
    "                                  terms)\n",
    "\n",
    "            topics[topic_id] = terms\n",
    "\n",
    "            if max_topics > 0 and len(topics) >= max_topics:\n",
    "                break\n",
    "\n",
    "    return topics\n",
    "\n",
    "# with open('./ap_88_89/topics_title', 'r') as f_topics:\n",
    "#     print(parse_topics([f_topics]))"
   ]
  },
  {
   "cell_type": "markdown",
   "metadata": {},
   "source": [
    "### Task 1: Implement and compare lexical IR methods [45 points] ### \n",
    "\n",
    "In this task you will implement a number of lexical methods for IR using the **Pyndri** framework. Then you will evaluate these methods on the dataset we have provided using **TREC Eval**.\n",
    "\n",
    "Use the **Pyndri** framework to get statistics of the documents (term frequency, document frequency, collection frequency; **you are not allowed to use the query functionality of Pyndri**) and implement the following scoring methods in **Python**:\n",
    "\n",
    "- [TF-IDF](http://nlp.stanford.edu/IR-book/html/htmledition/tf-idf-weighting-1.html). **[5 points]**\n",
    "- [BM25](http://nlp.stanford.edu/IR-book/html/htmledition/okapi-bm25-a-non-binary-model-1.html) with k1=1.2 and b=0.75. **[5 points]**\n",
    "- Language models ([survey](https://drive.google.com/file/d/0B-zklbckv9CHc0c3b245UW90NE0/view))\n",
    "    - Jelinek-Mercer (explore different values of 𝛌 in the range [0.1, 0.2, ..., 0.9]). **[5 points]**\n",
    "    - Dirichlet Prior (explore different values of 𝛍 [500, 1000, ..., 2000]). **[5 points]**\n",
    "    - Absolute discounting (explore different values of 𝛅 in the range [0.1, 0.2, ..., 0.9]). **[5 points]**\n",
    "    - [Positional Language Models](http://sifaka.cs.uiuc.edu/~ylv2/pub/sigir09-plm.pdf) define a language model for each position of a document, and score a document based on the scores of its PLMs. The PLM is estimated based on propagated counts of words within a document through a proximity-based density function, which both captures proximity heuristics and achieves an effect of “soft” passage retrieval. Implement the PLM, all five kernels, but only the Best position strategy to score documents. Use 𝛔 equal to 50, and Dirichlet smoothing with 𝛍 optimized on the validation set (decide how to optimize this value yourself and motivate your decision in the report). **[10 points]**\n",
    "    \n",
    "Implement the above methods and report evaluation measures (on the test set) using the hyper parameter values you optimized on the validation set (also report the values of the hyper parameters). Use TREC Eval to obtain the results and report on `NDCG@10`, Mean Average Precision (`MAP@1000`), `Precision@5` and `Recall@1000`.\n",
    "\n",
    "For the language models, create plots showing `NDCG@10` with varying values of the parameters. You can do this by chaining small scripts using shell scripting (preferred) or execute trec_eval using Python's `subprocess`.\n",
    "\n",
    "Compute significance of the results using a [two-tailed paired Student t-test](https://docs.scipy.org/doc/scipy/reference/generated/scipy.stats.ttest_rel.html) **[10 points]**. Be wary of false rejection of the null hypothesis caused by the [multiple comparisons problem](https://en.wikipedia.org/wiki/Multiple_comparisons_problem). There are multiple ways to mitigate this problem and it is up to you to choose one.\n",
    "\n",
    "Analyse the results by identifying specific queries where different methods succeed or fail and discuss possible reasons that cause these differences.\n",
    "\n",
    "**NOTE**: Don’t forget to use log computations in your calculations to avoid underflows. "
   ]
  },
  {
   "cell_type": "markdown",
   "metadata": {},
   "source": [
    "** Inverted Index List **"
   ]
  },
  {
   "cell_type": "code",
   "execution_count": 12,
   "metadata": {
    "collapsed": false
   },
   "outputs": [],
   "source": [
    "import math\n",
    "from itertools import islice\n",
    "\n",
    "def take_slice(n, iterable):\n",
    "    return list(islice(iterable, n))\n",
    "\n",
    "\n",
    "inverted_list = {}\n",
    "unique_query_toks = []\n",
    "query_list = []\n",
    "n = 20 # check only 20 documents (should be index.maximum_document() - index.document_base())\n",
    "\n",
    "with open('./ap_88_89/topics_title', 'r') as f_topics:   \n",
    "    for query in parse_topics([f_topics]).items():\n",
    "        query_list.append(query)\n",
    "        \n",
    "# getting the inverted index list\n",
    "nr = 0\n",
    "for query in query_list:\n",
    "    nr += 1\n",
    "    if nr == 20: # only check 20 queries\n",
    "        break\n",
    "        \n",
    "    # getting the query term ids\n",
    "    query_id = query[0]\n",
    "    query_string = query[1]\n",
    "    query_tokens = index.tokenize(query_string)\n",
    "    query_id_tokens = [token2id.get(query_token,0) for query_token in query_tokens]\n",
    "    query_id_tokens = [word_id for word_id in query_id_tokens if word_id > 0]\n",
    "    \n",
    "\n",
    "    for qti in query_id_tokens: # for every query term\n",
    "        if qti not in unique_query_toks: # only check unique query token once\n",
    "            inverted_list[qti] = []\n",
    "            for i in range(1,n+1):\n",
    "                if i % 50000 == 0:\n",
    "                    print(i)\n",
    "                for dti in (dti for dti in index.document(i)[1] if dti > 0):# for all document tokens (not 0)\n",
    "                    if qti == dti: # compare equality\n",
    "                        inverted_list[qti] += [index.document_ids([index.document(i)[0]])[0][1]] # add document to query tok id \n",
    "                        break"
   ]
  },
  {
   "cell_type": "markdown",
   "metadata": {},
   "source": [
    "## TF-IDF"
   ]
  },
  {
   "cell_type": "code",
   "execution_count": 178,
   "metadata": {
    "collapsed": true
   },
   "outputs": [],
   "source": [
    "def tf(x,t):     \n",
    "    if isinstance(t, str):\n",
    "        t = token2id.get(t,0)\n",
    "\n",
    "    tf = 0\n",
    "    for word in (word for word in x if word == t):\n",
    "        tf += 1\n",
    "            \n",
    "    return tf     "
   ]
  },
  {
   "cell_type": "code",
   "execution_count": 179,
   "metadata": {
    "collapsed": true
   },
   "outputs": [],
   "source": [
    "def idf(t):\n",
    "    if isinstance(t, str):\n",
    "        t = token2id.get(t,0)\n",
    "    return math.log(float(n))-math.log(len(inverted_list[float(t)]))"
   ]
  },
  {
   "cell_type": "code",
   "execution_count": 180,
   "metadata": {
    "collapsed": false
   },
   "outputs": [
    {
     "data": {
      "text/plain": [
       "1.7681482684484517"
      ]
     },
     "execution_count": 180,
     "metadata": {},
     "output_type": "execute_result"
    }
   ],
   "source": [
    "def tf_idf(t, d):\n",
    "    if isinstance(d, str):\n",
    "        d = index.document_ids([d])[0][1]\n",
    "    \n",
    "    return math.log(1+tf(index.document(d)[1],t)) * idf(t)\n",
    "\n",
    "tf_idf(213, 19)"
   ]
  },
  {
   "cell_type": "markdown",
   "metadata": {},
   "source": [
    "## BM25"
   ]
  },
  {
   "cell_type": "code",
   "execution_count": 181,
   "metadata": {
    "collapsed": true
   },
   "outputs": [],
   "source": [
    "def average_length():\n",
    "    l = 0\n",
    "    for i in range(1,n+1):\n",
    "        l += len(index.document(i)[1])\n",
    "    return l/float(n)\n",
    "\n",
    "l_av = average_length()"
   ]
  },
  {
   "cell_type": "code",
   "execution_count": 182,
   "metadata": {
    "collapsed": false
   },
   "outputs": [],
   "source": [
    "def w(t,d,q):\n",
    "    k1 = 1.2\n",
    "    k3 = 1.2\n",
    "    b = 0.75\n",
    "    query_tokens = index.tokenize(q)\n",
    "    query_id_tokens = [token2id.get(query_token,0) for query_token in query_tokens]\n",
    "    query_id_tokens = [word_id for word_id in query_id_tokens if word_id > 0]\n",
    "    first = ((k1+1)* tf(index.document(d)[1],t)) / (k1*((1-b)+b*(len(index.document(d)[1])/l_av))+tf(index.document(d)[1],t))\n",
    "    second = ((k3+1)*tf(query_id_tokens,t))/(k3*tf(query_id_tokens, t))\n",
    "    return  first*second*idf(t)"
   ]
  },
  {
   "cell_type": "code",
   "execution_count": 183,
   "metadata": {
    "collapsed": false
   },
   "outputs": [
    {
     "data": {
      "text/plain": [
       "2.682185671056863"
      ]
     },
     "execution_count": 183,
     "metadata": {},
     "output_type": "execute_result"
    }
   ],
   "source": [
    "w(523, 2,'this is awesome nice nicaraguan wimp role')\n"
   ]
  },
  {
   "cell_type": "markdown",
   "metadata": {},
   "source": [
    "**Background probability**\n"
   ]
  },
  {
   "cell_type": "code",
   "execution_count": 184,
   "metadata": {
    "collapsed": false
   },
   "outputs": [],
   "source": [
    "def background_prob(w):\n",
    "    tf_w_C = 0\n",
    "    for i in range(1,n+1):\n",
    "        tf_w_C += tf(index.document(i)[1],w) \n",
    "    return tf_w_C"
   ]
  },
  {
   "cell_type": "markdown",
   "metadata": {},
   "source": [
    "## Jelinek-Mercer\n"
   ]
  },
  {
   "cell_type": "code",
   "execution_count": 185,
   "metadata": {
    "collapsed": true
   },
   "outputs": [],
   "source": [
    "# C = entire document collection\n",
    "def jelinek_mercer(lamb, d, w):\n",
    "    if isinstance(w, str):\n",
    "        w = token2id.get(w,0)\n",
    "    if isinstance(d, str):\n",
    "        d = index.document_ids([d])[0][1]\n",
    "\n",
    "    P = (lamb * (tf(index.document(d)[1],w)/len(index.document(d)[1]))) + ((1-lamb) * background_prob(w))\n",
    "    return P"
   ]
  },
  {
   "cell_type": "code",
   "execution_count": 186,
   "metadata": {
    "collapsed": false
   },
   "outputs": [
    {
     "name": "stdout",
     "output_type": "stream",
     "text": [
      "0.1:  4.5\n",
      "0.2:  4.0\n",
      "0.3:  3.5\n",
      "0.4:  3.0\n",
      "0.5:  2.5\n",
      "0.6:  2.0\n",
      "0.7:  1.5\n",
      "0.8:  1.0\n",
      "0.9:  0.5\n"
     ]
    }
   ],
   "source": [
    "# [0.1, 0.2, ..., 0.9]\n",
    "\n",
    "print('0.1: ', round(jelinek_mercer(0.1, 3, 'good'),3))\n",
    "print('0.2: ', round(jelinek_mercer(0.2, 3, 'good'),3))\n",
    "print('0.3: ', round(jelinek_mercer(0.3, 3, 'good'),3))\n",
    "print('0.4: ', round(jelinek_mercer(0.4, 3, 'good'),3))\n",
    "print('0.5: ', round(jelinek_mercer(0.5, 3, 'good'),3))\n",
    "print('0.6: ', round(jelinek_mercer(0.6, 3, 'good'),3))\n",
    "print('0.7: ', round(jelinek_mercer(0.7, 3, 'good'),3))\n",
    "print('0.8: ', round(jelinek_mercer(0.8, 3, 'good'),3))\n",
    "print('0.9: ', round(jelinek_mercer(0.9, 3, 'good'),3))\n"
   ]
  },
  {
   "cell_type": "markdown",
   "metadata": {},
   "source": [
    "## Dirichlet Prior"
   ]
  },
  {
   "cell_type": "code",
   "execution_count": 187,
   "metadata": {
    "collapsed": true
   },
   "outputs": [],
   "source": [
    "def dirichlet_prior(mu,d,w):\n",
    "    if isinstance(d, str):\n",
    "        d = index.document_ids([d])[0][1]\n",
    "    if isinstance(w, str):\n",
    "        w = token2id.get(w,0)    \n",
    "    \n",
    "       \n",
    "    \n",
    "    return ((len(index.document(d)[1])/(len(index.document(d)[1])+mu)) * (tf(index.document(d)[1],w)/len(index.document(d)[1]))) + ((mu/(mu+len(index.document(d)[1]))) * background_prob(w))"
   ]
  },
  {
   "cell_type": "code",
   "execution_count": 188,
   "metadata": {
    "collapsed": false
   },
   "outputs": [
    {
     "name": "stdout",
     "output_type": "stream",
     "text": [
      "500:  4.065\n",
      "1000:  4.484\n",
      "1500:  4.644\n",
      "2000:  4.728\n"
     ]
    }
   ],
   "source": [
    "# 𝛍 [500, 1000, ..., 2000]\n",
    "\n",
    "print('500: ', round(dirichlet_prior(500, 3, 'good'),3))\n",
    "print('1000: ', round(dirichlet_prior(1000, 3, 'good'),3))\n",
    "print('1500: ', round(dirichlet_prior(1500, 3, 'good'),3))\n",
    "print('2000: ', round(dirichlet_prior(2000, 3, 'good'),3))\n"
   ]
  },
  {
   "cell_type": "markdown",
   "metadata": {},
   "source": [
    "## Absolute Discounting"
   ]
  },
  {
   "cell_type": "code",
   "execution_count": 189,
   "metadata": {
    "collapsed": true
   },
   "outputs": [],
   "source": [
    "def absolute_discounting(delta, d, w):\n",
    "    unique = []\n",
    "    for word in index.document(d)[1]:\n",
    "        if word not in unique:\n",
    "            unique.append(word)\n",
    "    return (max(tf(index.document(d)[1],w)-delta, 0)/len(index.document(d)[1])) + (((delta * len(unique))/len(index.document(d)[1])) * (background_prob(w)))"
   ]
  },
  {
   "cell_type": "code",
   "execution_count": 190,
   "metadata": {
    "collapsed": false
   },
   "outputs": [
    {
     "name": "stdout",
     "output_type": "stream",
     "text": [
      "0.1:  0.243\n",
      "0.2:  0.487\n",
      "0.3:  0.73\n",
      "0.4:  0.974\n",
      "0.5:  1.217\n",
      "0.6:  1.461\n",
      "0.7:  1.704\n",
      "0.8:  1.948\n",
      "0.9:  2.191\n"
     ]
    }
   ],
   "source": [
    "# delta = [0.1, 0.2, ..., 0.9]\n",
    "\n",
    "print('0.1: ', round(absolute_discounting(0.1, 3, 'good'),3))\n",
    "print('0.2: ', round(absolute_discounting(0.2, 3, 'good'),3))\n",
    "print('0.3: ', round(absolute_discounting(0.3, 3, 'good'),3))\n",
    "print('0.4: ', round(absolute_discounting(0.4, 3, 'good'),3))\n",
    "print('0.5: ', round(absolute_discounting(0.5, 3, 'good'),3))\n",
    "print('0.6: ', round(absolute_discounting(0.6, 3, 'good'),3))\n",
    "print('0.7: ', round(absolute_discounting(0.7, 3, 'good'),3))\n",
    "print('0.8: ', round(absolute_discounting(0.8, 3, 'good'),3))\n",
    "print('0.9: ', round(absolute_discounting(0.9, 3, 'good'),3))"
   ]
  },
  {
   "cell_type": "markdown",
   "metadata": {},
   "source": [
    "## Positional Language Models"
   ]
  },
  {
   "cell_type": "code",
   "execution_count": null,
   "metadata": {
    "collapsed": true
   },
   "outputs": [],
   "source": []
  },
  {
   "cell_type": "markdown",
   "metadata": {},
   "source": [
    "### Task 2: Latent Semantic Models (LSMs) [25 points + 10 bonus points] ###\n",
    "\n",
    "In this task you will experiment with applying a distributional semantics methods ([word2vec](http://arxiv.org/abs/1411.2738)  **[5 points]**, [LSI](http://lsa3.colorado.edu/papers/JASIS.lsi.90.pdf) **[5 points]**, [LDA](https://www.cs.princeton.edu/~blei/papers/BleiNgJordan2003.pdf) **[5 points]** and [doc2vec](https://cs.stanford.edu/~quocle/paragraph_vector.pdf) **[5 points]**) for retrieval.\n",
    "\n",
    "You do not need to implement word2vec, LSI, LDA and doc2vec on your own. Instead, you can use [gensim](http://radimrehurek.com/gensim/index.html) (pre-loaded on the VirtualBox). An example on how to integrate Pyndri with Gensim for word2vec can be found [here](https://github.com/cvangysel/pyndri/blob/master/examples/word2vec.py). For the remaining latent vector space models, you will need to implement connector classes (such as `IndriSentences`) by yourself.\n",
    "\n",
    "In order to use a latent semantic model for retrieval, you need to:\n",
    "   * build a representation of the query **q**,\n",
    "   * build a representation of the document **d**,\n",
    "   * calculate the similarity between **q** and **d** (e.g., cosine similarity, KL-divergence).\n",
    "     \n",
    "The exact implementation here depends on the latent semantic model you are using. For example, in the case of word2vec, you only have vectors for individual words and not for documents or phrases. Try one of the following methods for producing these representations:\n",
    "   * Average or sum the word vectors.\n",
    "   * Cluster words in the document using [k-means](http://scikit-learn.org/stable/modules/generated/sklearn.cluster.KMeans.html) and use the centroid of the most important cluster. Experiment with different values of K for k-means.\n",
    "   * Using the [bag-of-word-embeddings representation](https://ciir-publications.cs.umass.edu/pub/web/getpdf.php?id=1248). **[10 bonus points]**\n",
    "   \n",
    "Each of these LSMs come with various hyperparameters to tune. Make a choice on the parameters, and explicitly mention the reasons that led you to these decisions. You can use the validation set to optimize hyper parameters you see fit; motivate your decisions. In addition, mention clearly how the query/document representations were constructed for each LSM and explain your choices.\n",
    "\n",
    "In this experiment, you will first obtain an initial top-1000 ranking for each query using TF-IDF in **Task 1**, and then re-rank the documents using the LSMs. Use TREC Eval to obtain the results and report on `NDCG@10`, Mean Average Precision (`MAP@1000`), `Precision@5` and `Recall@1000`.\n",
    "\n",
    "Perform significance testing **[5 points]** (similar as in Task 1) in the class of semantic matching methods."
   ]
  },
  {
   "cell_type": "code",
   "execution_count": 191,
   "metadata": {
    "collapsed": false
   },
   "outputs": [
    {
     "name": "stderr",
     "output_type": "stream",
     "text": [
      "WARNING:gensim.models.word2vec:under 10 jobs per worker: consider setting a smaller `batch_words' for smoother alpha decay\n",
      "WARNING:gensim.models.word2vec:under 10 jobs per worker: consider setting a smaller `batch_words' for smoother alpha decay\n",
      "WARNING:gensim.models.word2vec:under 10 jobs per worker: consider setting a smaller `batch_words' for smoother alpha decay\n",
      "WARNING:gensim.models.word2vec:under 10 jobs per worker: consider setting a smaller `batch_words' for smoother alpha decay\n",
      "WARNING:gensim.models.word2vec:under 10 jobs per worker: consider setting a smaller `batch_words' for smoother alpha decay\n"
     ]
    },
    {
     "name": "stdout",
     "output_type": "stream",
     "text": [
      "Word2Vec(vocab=195, size=64, alpha=0.025)\n"
     ]
    }
   ],
   "source": [
    "# Provide right gensim input with pyndri for word2vec, this code is provided with the assignment.\n",
    "# IndriSentences gives sentences in the right format for word2vec.\n",
    "# It works as a bridge between gensim and pyndri -> we have to do this for the other distributional semantic methods as well.\n",
    "# Understanding which input parameters in what format that are needed for each model shows understanding of the model itself.\n",
    "\n",
    "import pyndri.compat\n",
    "import gensim\n",
    "import copy\n",
    "import logging\n",
    "word2vec_init = gensim.models.Word2Vec(\n",
    "    size=64,  # Embedding size - initially 300\n",
    "    window=5,  # One-sided window size, init was 5\n",
    "    sg=True,  # Skip-gram.\n",
    "    min_count=1,  # Minimum word frequency.\n",
    "    sample=1e-3,  # Sub-sample threshold.\n",
    "    hs=False,  # Hierarchical softmax.\n",
    "    negative=10,  # Number of negative examples.\n",
    "    iter=1,  # Number of iterations.\n",
    "    workers=8,  # Number of workers.\n",
    ")\n",
    "\n",
    "dictionary = pyndri.extract_dictionary(index)\n",
    "sentences = pyndri.compat.IndriSentences(index, dictionary, max_documents =1) # max_documents due to time complexity\n",
    "\n",
    "logging.info('Constructing word2vec vocabulary.')\n",
    "\n",
    "# Build vocab.\n",
    "word2vec_init.build_vocab(sentences, trim_rule=None)\n",
    "\n",
    "models = [word2vec_init]\n",
    "\n",
    "for epoch in range(1, 6):#range(1, 5 + 1):\n",
    "    logging.info('Epoch %d', epoch)\n",
    "    model = copy.deepcopy(models[-1])\n",
    "    model.train(sentences)\n",
    "\n",
    "    models.append(model)\n",
    "\n",
    "logging.info('Trained models: %s', models)\n",
    "print(models[-1]) # last model is most advanced\n",
    "\n",
    "### END OF CODE AS PROVIDED BY ASSIGNMENT\n",
    "\n"
   ]
  },
  {
   "cell_type": "code",
   "execution_count": 192,
   "metadata": {
    "collapsed": true
   },
   "outputs": [],
   "source": [
    "class IndriBOW(gensim.interfaces.CorpusABC):\n",
    "\n",
    "    def __init__(self, index, dictionary, max_documents=None):\n",
    "        assert isinstance(index, pyndri.Index)\n",
    "\n",
    "        self.index = index\n",
    "        self.dictionary = dictionary\n",
    "\n",
    "        self.max_documents = max_documents\n",
    "\n",
    "    def _maximum_document(self):\n",
    "        if self.max_documents is None:\n",
    "            return self.index.maximum_document()\n",
    "        else:\n",
    "            return min(\n",
    "                self.max_documents + self.index.document_base(),\n",
    "                self.index.maximum_document())\n",
    "\n",
    "    def __iter__(self): # both used for LSI and LDI\n",
    "        for int_doc_id in range(self.index.document_base(),\n",
    "                                self._maximum_document()):\n",
    "            ext_doc_id, tokens = self.index.document(int_doc_id)\n",
    "\n",
    "            yield self.dictionary.doc2bow(\n",
    "                self.dictionary[token_id]\n",
    "                for token_id in tokens\n",
    "                if token_id > 0 and token_id in self.dictionary)\n",
    "\n",
    "    def __len__(self):\n",
    "        return self._maximum_document() - self.index.document_base()"
   ]
  },
  {
   "cell_type": "code",
   "execution_count": 214,
   "metadata": {
    "collapsed": false
   },
   "outputs": [
    {
     "name": "stdout",
     "output_type": "stream",
     "text": [
      "initialised sentences\n",
      "0.07100343704223633\n",
      "going in epoch\n",
      "274.00119137763977\n",
      "273.1599049568176\n",
      "6175.089705705643\n",
      "296.12786197662354\n",
      "272.2163770198822\n",
      "Word2Vec(vocab=153153, size=64, alpha=0.025)\n",
      "Word2Vec(vocab=153153, size=64, alpha=0.025)\n"
     ]
    }
   ],
   "source": [
    "\n",
    "word2vec_init = gensim.models.Word2Vec(\n",
    "    size=64,  # Embedding size - initially 300\n",
    "    window=5,  # One-sided window size, init was 5\n",
    "    sg=True,  # Skip-gram.\n",
    "    min_count=1,  # Minimum word frequency.\n",
    "    sample=1e-3,  # Sub-sample threshold.\n",
    "    hs=False,  # Hierarchical softmax.\n",
    "    negative=10,  # Number of negative examples.\n",
    "    iter=1,  # Number of iterations.\n",
    "    workers=8,  # Number of workers.\n",
    ")\n",
    "\n",
    "dictionary = pyndri.extract_dictionary(index)\n",
    "start = time.time()\n",
    "sentences = pyndri.compat.IndriSentences(index, dictionary, max_documents=50000) # max_documents due to time complexity\n",
    "print('initialised sentences')\n",
    "print(time.time()-start)\n",
    "\n",
    "logging.info('Constructing word2vec vocabulary.')\n",
    "\n",
    "# Build vocab.\n",
    "word2vec_init.build_vocab(sentences, trim_rule=None)\n",
    "\n",
    "models = [word2vec_init]\n",
    "print('going in epoch')\n",
    "for epoch in range(1, 5+1):#range(1, 5 + 1):\n",
    "    start = time.time()\n",
    "    logging.info('Epoch %d', epoch)\n",
    "    model = copy.deepcopy(models[-1])\n",
    "    model.train(sentences)\n",
    "\n",
    "    models.append(model)\n",
    "    print(time.time()-start)\n",
    "logging.info('Trained models: %s', models)\n",
    "print(models[-1]) # last model is most advanced\n",
    "models[-1].save('Small_Morning_Run')\n",
    "savedW2Vmodel = gensim.models.Word2Vec.load('Small_Morning_Run')\n",
    "print(savedW2Vmodel)\n",
    "\n",
    "\n",
    "### END OF CODE AS PROVIDED BY ASSIGNMENT\n",
    "\n"
   ]
  },
  {
   "cell_type": "code",
   "execution_count": 79,
   "metadata": {
    "collapsed": false
   },
   "outputs": [
    {
     "name": "stdout",
     "output_type": "stream",
     "text": [
      "0.348099537217\n"
     ]
    },
    {
     "data": {
      "text/plain": [
       "0.65190053"
      ]
     },
     "execution_count": 79,
     "metadata": {},
     "output_type": "execute_result"
    }
   ],
   "source": [
    "from sklearn.metrics.pairwise import cosine_similarity\n",
    "from sklearn.metrics.cluster import mutual_info_score #is equivalent to KL divergence\n",
    "import numpy\n",
    "### Build representation for q and d and calculate cosine similarity and KL divergence.\n",
    "\n",
    "# Representation of query for Word2Vec (and Doc2Vec)\n",
    "# Takes average of all query terms in 1 query, so the query is represented by 1 vector\n",
    "savedW2Vmodel = gensim.models.Word2Vec.load('Small_Morning_Run')\n",
    "def get_q_rep(index, query, w2vmodel):\n",
    "    query_tokens = index.tokenize(query[1])\n",
    "    vectors = []\n",
    "    for token in query_tokens:\n",
    "        vector = w2vmodel['token']\n",
    "        vectors.append(vector)\n",
    "\n",
    "    avg_query = np.mean(np.array(vectors), axis=0)\n",
    "    return avg_query, query[0]\n",
    "\n",
    "avg_q, queryID = get_q_rep(index, 'University of Massachusetts', savedW2Vmodel)\n",
    "\n",
    "def get_d_rep(document, w2vmodel):\n",
    "    wordIDs = document[1][:]\n",
    "    vectors = []\n",
    "    for wordID in wordIDs:\n",
    "        if wordID > 0:\n",
    "            wordstring = id2token[wordID]\n",
    "            vector = w2vmodel[wordstring]\n",
    "            vectors.append(vector)\n",
    "\n",
    "    avg_doc = np.mean(np.array(vectors), axis=0)\n",
    "    return avg_doc\n",
    "\n",
    "avg_d = get_d_rep(index.document(1),savedW2Vmodel)\n",
    "\n",
    "# get cosine similarity: \n",
    "\n",
    "from scipy import spatial\n",
    "cosine = spatial.distance.cosine(avg_q, avg_d)\n",
    "print(cosine)\n",
    "\n",
    "cosine_similarity(numpy.reshape(avg_q, (1, -1)),  numpy.reshape(avg_d, (1, -1)))[0][0] \n",
    "#mutual_info_score(avg_q, avg_d)\n"
   ]
  },
  {
   "cell_type": "code",
   "execution_count": 82,
   "metadata": {
    "collapsed": false
   },
   "outputs": [
    {
     "name": "stdout",
     "output_type": "stream",
     "text": [
      "{'AP890425-0004': 0.68140054, 'AP890425-0003': 0.71697617, 'AP890425-0002': 0.74149895, 'AP890425-0001': 0.65190053}\n"
     ]
    }
   ],
   "source": [
    "avg_q, queryID = get_q_rep(index, 'University of Massachusetts', savedW2Vmodel)\n",
    "\n",
    "\n",
    "def check_cosine_given_query(avg_q, queryID, internal_docIDs):\n",
    "    word2vec_dict = {}\n",
    "    avg_ds = []\n",
    "    for internal_docID in internal_docIDs: # amount of documents\n",
    "        avg_d = get_d_rep(index.document(internal_docID),savedW2Vmodel)\n",
    "        avg_ds.append(avg_d)\n",
    "        cosine = cosine_similarity(numpy.reshape(avg_q, (1, -1)),  numpy.reshape(avg_d, (1, -1)))[0][0] \n",
    "        external_ID = index.document(internal_docID)[0]\n",
    "        word2vec_dict[external_ID] = cosine\n",
    "    return word2vec_dict\n",
    "\n",
    "cosinesdict = check_cosine_given_query(avg_q, queryID, [1,2,3,4])\n",
    "print(cosinesdict)\n",
    "\n",
    "def check_cosine_all_queries(lijstvandiede):\n",
    "    dic = {}\n",
    "    for queryid in querylist:\n",
    "        \n",
    "        docs = lijstvandiede[queryid]\n",
    "        \n",
    "        queryresult = check_cosine_given_query(docs)\n",
    "        dic[queryid] = make_dict_format(queryresult)\n",
    "    return dic"
   ]
  },
  {
   "cell_type": "code",
   "execution_count": null,
   "metadata": {
    "collapsed": true
   },
   "outputs": [],
   "source": []
  },
  {
   "cell_type": "code",
   "execution_count": 195,
   "metadata": {
    "collapsed": true
   },
   "outputs": [],
   "source": [
    "\n",
    "\n",
    "# logging.basicConfig(level=logging.INFO)\n",
    "# if len(sys.argv) <= 1:\n",
    "#     logging.error('Usage: python %s <path-to-indri-index>'.format(sys.argv[0]))\n",
    "\n",
    "#     sys.exit(0)\n",
    "\n",
    "# logging.info('Initializing LSI')\n",
    "\n",
    "\n",
    "# # with pyndri.open(sys.argv[1]) as index:\n",
    "# logging.info('Loading vocabulary.')\n",
    "# print('-1-')\n",
    "# #dictionary = pyndri.extract_dictionary(index)\n",
    "# print('-2-')\n",
    "# sentences = IndriBOW(index, dictionary)\n",
    "# print('-3-')\n",
    "# logging.info('Constructing sentences for LSI.')\n",
    "# print('-4-')\n",
    "# # Build vocab.\n",
    "\n",
    "# lsimodel = gensim.models.LsiModel(sentences, 200, dictionary.id2token, 20000)\n",
    "# print(lsimodel.show_topic(1, topn=1))\n",
    "# print('-5-')\n",
    "# # LsiModel.build_vocab(sentences, trim_rule=None)\n",
    "# print('-6-')\n",
    "# lsimodel.save('lsi_big_overnight')\n",
    "# savedlsimodel = gensim.models.LsiModel.load('lsi_big_overnight')\n",
    "# print(savedlsimodel.show_topic(1, topn=1))\n",
    "\n",
    "\n",
    "# logging.info('Initializing LDA')\n",
    "\n",
    "\n",
    "# # with pyndri.open(sys.argv[1]) as index:\n",
    "# logging.info('Loading vocabulary.')\n",
    "# #print('-1-')\n",
    "# #dictionary = pyndri.extract_dictionary(index)\n",
    "# #print('-2-')\n",
    "# #sentences = IndriBOW(index, dictionary,max_documents=2)\n",
    "\n",
    "# logging.info('Constructing sentences for LDA.')\n",
    "# print('-7-')\n",
    "# # Build vocab.\n",
    "\n",
    "# ldamodel = gensim.models.LdaModel(sentences, 64, dictionary.id2token, 20000, distributed=False)\n",
    "# print(ldamodel.show_topic(1, topn=1))\n",
    "# print('-8-')\n",
    "# # LdaModel.build_vocab(sentences, trim_rule=None)\n",
    "# print('-9-')\n",
    "# ldamodel.save('lda_big')\n",
    "# savedldamodel = gensim.models.LdaModel.load('lda_big')\n",
    "# print(savedldamodel.show_topic(1, topn=1))\n",
    "\n",
    "# Raises error: \n",
    "    \n",
    "#     ---------------------------------------------------------------------------\n",
    "# TypeError                                 Traceback (most recent call last)\n",
    "# <ipython-input-79-b41044639cda> in <module>()\n",
    "#      43 # Build vocab.\n",
    "#      44 \n",
    "# ---> 45 ldamodel = gensim.models.LdaModel(sentences, 64, dictionary.id2token, 20000, distributed=False)\n",
    "#      46 print(ldamodel.show_topic(1, topn=1))\n",
    "#      47 print('-8-')\n",
    "\n",
    "# TypeError: __init__() got multiple values for argument 'distributed'"
   ]
  },
  {
   "cell_type": "code",
   "execution_count": 1,
   "metadata": {
    "collapsed": false
   },
   "outputs": [
    {
     "ename": "NameError",
     "evalue": "name 'index' is not defined",
     "output_type": "error",
     "traceback": [
      "\u001b[0;31m---------------------------------------------------------------------------\u001b[0m",
      "\u001b[0;31mNameError\u001b[0m                                 Traceback (most recent call last)",
      "\u001b[0;32m<ipython-input-1-42a938809c92>\u001b[0m in \u001b[0;36m<module>\u001b[0;34m()\u001b[0m\n\u001b[0;32m----> 1\u001b[0;31m \u001b[0mexample_document\u001b[0m \u001b[0;34m=\u001b[0m \u001b[0mindex\u001b[0m\u001b[0;34m.\u001b[0m\u001b[0mdocument\u001b[0m\u001b[0;34m(\u001b[0m\u001b[0mindex\u001b[0m\u001b[0;34m.\u001b[0m\u001b[0mdocument_base\u001b[0m\u001b[0;34m(\u001b[0m\u001b[0;34m)\u001b[0m\u001b[0;34m)\u001b[0m\u001b[0;34m\u001b[0m\u001b[0m\n\u001b[0m\u001b[1;32m      2\u001b[0m \u001b[0;31m# print(example_document)\u001b[0m\u001b[0;34m\u001b[0m\u001b[0;34m\u001b[0m\u001b[0m\n",
      "\u001b[0;31mNameError\u001b[0m: name 'index' is not defined"
     ]
    }
   ],
   "source": []
  },
  {
   "cell_type": "code",
   "execution_count": 197,
   "metadata": {
    "collapsed": false
   },
   "outputs": [
    {
     "name": "stdout",
     "output_type": "stream",
     "text": [
      "got bow\n"
     ]
    }
   ],
   "source": [
    "## LSI ##\n",
    "'''LSI compares how often words appear together in the same document\n",
    "and compares how often those occurences happen in all of the documents \n",
    "that the dictionary has in its index.'''\n",
    "\n",
    "# Get docs as bag of words #\n",
    "# print(id2token[0]) is not possible, zeroeth token = irrelevant token. Have to leave this out. xxx\n",
    "def getdocs(index, max_docs):\n",
    "    dictionary = pyndri.extract_dictionary(index)\n",
    "    bowdoc=[]\n",
    "    if max_docs == None:\n",
    "        for document in range(index.document_base(), index.maximum_document()):  \n",
    "            bowdoc.append(dictionary.doc2bow(index.document(document)[1])[1:]) #[1:] throws out irrelevant word '0'\n",
    "    else:\n",
    "        for document in range(index.document_base(), index.document_base()+max_docs):  \n",
    "            bowdoc.append(dictionary.doc2bow(index.document(document)[1])[1:])\n",
    "    return bowdoc\n",
    "bowdoc = getdocs(index, 2)\n",
    "\n",
    "print(\"got bow\")\n",
    "lsimodels=[]\n",
    "lsimodel = gensim.models.LsiModel(bowdoc, 2, id2token, 2, 1.0, False, True, 2, 100)\n"
   ]
  },
  {
   "cell_type": "code",
   "execution_count": 198,
   "metadata": {
    "collapsed": false
   },
   "outputs": [
    {
     "name": "stdout",
     "output_type": "stream",
     "text": [
      "[('panama', -0.37052153620176137)]\n"
     ]
    }
   ],
   "source": [
    "print(lsimodel.show_topic(1, topn=1))"
   ]
  },
  {
   "cell_type": "code",
   "execution_count": 199,
   "metadata": {
    "collapsed": false
   },
   "outputs": [
    {
     "name": "stderr",
     "output_type": "stream",
     "text": [
      "WARNING:gensim.models.ldamodel:too few updates, training might not converge; consider increasing the number of passes or iterations to improve accuracy\n",
      "/usr/local/lib/python3.5/dist-packages/gensim/models/ldamodel.py:528: RuntimeWarning: overflow encountered in exp2\n",
      "  (perwordbound, np.exp2(-perwordbound), len(chunk), corpus_words))\n"
     ]
    },
    {
     "name": "stdout",
     "output_type": "stream",
     "text": [
      "[('panama', 9.0568516012420351e-05)]\n"
     ]
    }
   ],
   "source": [
    "## Latent Dirichlet Allocation ##\n",
    "\n",
    "\n",
    "ldamodel = gensim.models.ldamodel.LdaModel(bowdoc, 10, id2token, False, 20, 1, 1,'symmetric', None, 0.5, 1.0, 10, 50, 0.001, 0.01, None, {}, 0.01, False)\n",
    "print(ldamodel.show_topic(1, topn=1))"
   ]
  },
  {
   "cell_type": "code",
   "execution_count": 200,
   "metadata": {
    "collapsed": true
   },
   "outputs": [],
   "source": [
    "## Doc2Vec ##\n",
    "\n",
    "#gensim.models.doc2vec.Doc2Vec(documents=None, dm_mean=None, dm=1, dbow_words=0, dm_concat=0, dm_tag_count=1, docvecs=None, docvecs=mapfile=None, comment=None, trim_rule=None, **kwargs)\n",
    "\n",
    "class IndriDoc2Vec(gensim.interfaces.CorpusABC):\n",
    "\n",
    "    def __init__(self, index, dictionary, max_documents=None):\n",
    "        assert isinstance(index, pyndri.Index)\n",
    "\n",
    "        self.index = index\n",
    "        self.dictionary = dictionary\n",
    "\n",
    "        self.max_documents = max_documents\n",
    "\n",
    "    def _maximum_document(self):\n",
    "        if self.max_documents is None:\n",
    "            return self.index.maximum_document()\n",
    "        else:\n",
    "            return min(\n",
    "                self.max_documents + self.index.document_base(),\n",
    "                self.index.maximum_document())\n",
    "\n",
    "    def __iter__(self): # Doc2Vec\n",
    "        for int_doc_id in range(self.index.document_base(),\n",
    "                                self._maximum_document()):\n",
    "            ext_doc_id, tokens = self.index.document(int_doc_id)\n",
    "\n",
    "            yield gensim.models.doc2vec.TaggedDocument(words =[self.dictionary[token_id]\n",
    "                                                              for token_id in tokens if token_id >0\n",
    "                                                               and token_id in self.dictionary],\n",
    "                                                      tags = ['doc_'+str( int_doc_id) ])\n",
    "\n",
    "    def __len__(self):\n",
    "        return self._maximum_document() - self.index.document_base()\n"
   ]
  },
  {
   "cell_type": "code",
   "execution_count": 213,
   "metadata": {
    "collapsed": false
   },
   "outputs": [
    {
     "name": "stderr",
     "output_type": "stream",
     "text": [
      "WARNING:gensim.models.word2vec:under 10 jobs per worker: consider setting a smaller `batch_words' for smoother alpha decay\n",
      "WARNING:gensim.models.word2vec:under 10 jobs per worker: consider setting a smaller `batch_words' for smoother alpha decay\n",
      "WARNING:gensim.models.word2vec:under 10 jobs per worker: consider setting a smaller `batch_words' for smoother alpha decay\n",
      "WARNING:gensim.models.word2vec:under 10 jobs per worker: consider setting a smaller `batch_words' for smoother alpha decay\n",
      "WARNING:gensim.models.word2vec:under 10 jobs per worker: consider setting a smaller `batch_words' for smoother alpha decay\n",
      "WARNING:gensim.models.word2vec:under 10 jobs per worker: consider setting a smaller `batch_words' for smoother alpha decay\n"
     ]
    },
    {
     "name": "stdout",
     "output_type": "stream",
     "text": [
      "initialised sentences\n",
      "0.07341694831848145\n",
      "going in epoch\n",
      "0.018000364303588867\n",
      "0.02876567840576172\n",
      "0.031171083450317383\n",
      "0.03630709648132324\n",
      "0.026875019073486328\n",
      "Doc2Vec(dbow,d100,n10,s0.001,t8)\n",
      "Doc2Vec(dbow,d100,n10,s0.001,t8)\n"
     ]
    }
   ],
   "source": [
    "doc2vec_init = gensim.models.doc2vec.Doc2Vec(\n",
    " #   size=size,  # Embedding size - initially 300\n",
    "  #  window=window,  # One-sided window size, init was 5\n",
    "    #sg=True,  # Skip-gram.\n",
    "    min_count=1,  # Minimum word frequency.\n",
    "    sample=1e-3,  # Sub-sample threshold.\n",
    "    hs=False,  # Hierarchical softmax.\n",
    "    negative=10,  # Number of negative examples.\n",
    "    iter=1,  # Number of iterations.\n",
    "    workers=8,  # Number of workers.\n",
    "    dm_mean=None, \n",
    "    dm=10, \n",
    "    dbow_words=0, \n",
    "    dm_concat=0, \n",
    ")\n",
    "dictionary = pyndri.extract_dictionary(index)\n",
    "start = time.time()\n",
    "sentences = IndriDoc2Vec(index, dictionary, max_documents=2) # max_documents due to time complexity\n",
    "print('initialised sentences')\n",
    "print(time.time()-start)\n",
    "\n",
    "logging.info('Constructing doc2vec vocabulary.')\n",
    "\n",
    "# Build vocab.\n",
    "doc2vec_init.build_vocab(sentences, trim_rule=None)\n",
    "\n",
    "models = [doc2vec_init]\n",
    "print('going in epoch')\n",
    "for epoch in range(1, 5+1):#range(1, 5 + 1):\n",
    "    start = time.time()\n",
    "    logging.info('Epoch %d', epoch)\n",
    "    model = copy.deepcopy(models[-1])\n",
    "    model.train(sentences)\n",
    "\n",
    "    models.append(model)\n",
    "    print(time.time()-start)\n",
    "logging.info('Trained models: %s', models)\n",
    "print(models[-1]) # last model is most advanced\n",
    "models[-1].save('Small_Morning_Run')\n",
    "savedD2Vmodel = gensim.models.Doc2Vec.load('Small_Morning_Run')\n",
    "print(savedD2Vmodel)\n",
    "\n",
    "Doc2Vec_model = gensim.models.Doc2Vec(sentences, size=100, window=8, min_count=5, workers=4)\n",
    "\n",
    "\n"
   ]
  },
  {
   "cell_type": "markdown",
   "metadata": {},
   "source": [
    "### Task 3: Learning to rank (LTR) [10 points] ###\n",
    "\n",
    "In this task you will get an introduction into learning to rank for information retrieval. You will experiment with a pointwise learning to rank method, logistic regression, implemented in [scikit-learn](http://scikit-learn.org/stable/modules/generated/sklearn.linear_model.LogisticRegression.html).\n",
    "\n",
    "**NOTE**: you can only perform this task if you have completely finished Task 1 and Task 2.\n",
    "\n",
    "In this experiment, you will use the retrieval methods you implemented in Task 1 and Task 2 as features for the learning to rank model. Train your LTR model using 10-fold cross validation on the test set. For every query, first create a document candidate set using the top-1000 documents using TF-IDF. Secondly, compute query-document values using the retrieval models above and use them as features. Note that the feature values of different retrieval methods are likely to be distributed differently.\n",
    "\n",
    "Your approach will definitely not be as good as the state-of-the-art since you are taking a pointwise approach, but we do not ask you to try pair- or listwise methods because they will be the main topic of the next assignment."
   ]
  },
  {
   "cell_type": "code",
   "execution_count": null,
   "metadata": {
    "collapsed": false
   },
   "outputs": [],
   "source": [
    "from sklearn.linear_model import LogisticRegression"
   ]
  },
  {
   "cell_type": "markdown",
   "metadata": {
    "collapsed": true
   },
   "source": [
    "### Task 4: Write a report [20 points; instant FAIL if not provided] ###\n",
    "\n",
    "The report should be a PDF file created using the [sigconf ACM template](https://www.acm.org/publications/proceedings-template) and will determine a significant part of your grade.\n",
    "\n",
    "   * It should explain what you have implemented, motivate your experiments and detail what you expect to learn from them. **[10 points]**\n",
    "   * Lastly, provide a convincing analysis of your results and conclude the report accordingly. **[10 points]**\n",
    "      * Do all methods perform similarly on all queries? Why?\n",
    "      * Is there a single retrieval model that outperforms all other retrieval models (i.e., silver bullet)?\n",
    "      * ...\n",
    "\n",
    "**Hand in the report and your self-contained implementation source files.** Do not send us the VirtualBox, but only the files that matter, organized in a well-documented zip/tgz file with clear instructions on how to reproduce your results. That is, we want to be able to regenerate all your results with minimal effort. You can assume that the index and ground-truth information is present in the same file system structure as on the VirtualBox.\n"
   ]
  }
 ],
 "metadata": {
  "anaconda-cloud": {},
  "kernelspec": {
   "display_name": "Python 3",
   "language": "python",
   "name": "python3"
  },
  "language_info": {
   "codemirror_mode": {
    "name": "ipython",
    "version": 3
   },
   "file_extension": ".py",
   "mimetype": "text/x-python",
   "name": "python",
   "nbconvert_exporter": "python",
   "pygments_lexer": "ipython3",
   "version": "3.5.2"
  }
 },
 "nbformat": 4,
 "nbformat_minor": 0
}
