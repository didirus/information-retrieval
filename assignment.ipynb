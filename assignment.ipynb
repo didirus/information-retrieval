{
 "cells": [
  {
   "cell_type": "markdown",
   "metadata": {},
   "source": [
    "# Information Retrieval I #\n",
    "## Assignment 2: retrieval models [100 points + 10 bonus points] ##\n",
    "**TA**: Christophe Van Gysel (cvangysel@uva.nl; C3.258B, Science Park 904)\n",
    "\n",
    "**Secondary TAs**: Harrie Oosterhuis, Nikos Voskarides"
   ]
  },
  {
   "cell_type": "markdown",
   "metadata": {},
   "source": [
    "In this assignment you will get familiar with basic information retrieval concepts. You will implement and evaluate different information retrieval ranking models and evaluate their performance.\n",
    "\n",
    "We provide you with a VirtualBox image that comes pre-loaded with an index and a Python installation. To query the index, you'll use a Python package ([pyndri](https://github.com/cvangysel/pyndri)) that allows easy access to the underlying document statistics.\n",
    "\n",
    "For evaluation you'll use the [TREC Eval](https://github.com/usnistgov/trec_eval) utility, provided by the National Institute of Standards and Technology of the United States. TREC Eval is the de facto standard way to compute Information Retrieval measures and is frequently referenced in scientific papers.\n",
    "\n",
    "This is a **groups-of-two assignment**, the deadline is **23:59 - 25 January, 2017**. Code quality, informative comments and convincing analysis of the results will be considered when grading. Submission should be done through blackboard, questions can be asked on the course [Piazza](https://piazza.com/class/ixoz63p156g1ts).\n",
    "\n",
    "### Technicalities (must-read!) ###\n",
    "This assignment comes pre-loaded on a VirtualBox running Ubuntu. We have configured the indexing software and Python environment such that it works out of the box. You are allowed to extract the files from the VirtualBox and set-up your own non-virtualized environment. However, in this case you are on your own w.r.t. software support.\n",
    "\n",
    "The assignment directory is organized as follows:\n",
    "   * `./assignment.ipynb` (this file): the description of the assignment.\n",
    "   * `./index/`: the index we prepared for you.\n",
    "   * `./ap_88_90/`: directory with ground-truth and evaluation sets:\n",
    "      * `qrel_test`: test query relevance collection (**test set**).\n",
    "      * `qrel_validation`: validation query relevance collection (**validation set**).\n",
    "      * `topics_title`: semicolon-separated file with query identifiers and terms.\n",
    "      \n",
    "`Python + Jupyter`, `Indri`, `Gensim` and `Pyndri` come pre-installed (see `$HOME/.local`). TREC Eval can be found in `$HOME/Downloads/trec_eval.9.0`. The password of the `student` account on the VirtualBox is `datascience`."
   ]
  },
  {
   "cell_type": "markdown",
   "metadata": {},
   "source": [
    "### TREC Eval primer ###\n",
    "The TREC Eval utility can be downloaded and compiled as follows:\n",
    "\n",
    "    git clone https://github.com/usnistgov/trec_eval.git\n",
    "    cd trec_eval\n",
    "    make\n",
    "\n",
    "TREC Eval computes evaluation scores given two files: ground-truth information regarding relevant documents, named *query relevance* or *qrel*, and a ranking of documents for a set of queries, referred to as a *run*. The *qrel* will be supplied by us and should not be changed. For every retrieval model (or combinations thereof) you will generate a run of the top-1000 documents for every query. The format of the *run* file is as follows:\n",
    "\n",
    "    $query_identifier Q0 $document_identifier $rank_of_document_for_query $query_document_similarity $run_identifier\n",
    "    \n",
    "where\n",
    "   * `$query_identifier` is the unique identifier corresponding to a query (usually this follows a sequential numbering).\n",
    "   * `Q0` is a legacy field that you can ignore.\n",
    "   * `$document_identifier` corresponds to the unique identifier of a document (e.g., APXXXXXXX where AP denotes the collection and the Xs correspond to a unique numerical identifier).\n",
    "   * `$rank_of_document_for_query` denotes the rank of the document for the particular query. This field is ignored by TREC Eval and is only maintained for legacy support. The ranks are computed by TREC Eval itself using the `$query_document_similarity` field (see next). However, it remains good practice to correctly compute this field.\n",
    "   * `$query_document_similarity` is a score indicating the similarity between query and document where a higher score denotes greater similarity.\n",
    "   * `$run_identifier` is an identifier of the run. This field is for your own convenience and has no purpose beyond bookkeeping.\n",
    "   \n",
    "For example, say we have two queries: `Q1` and `Q2` and we rank three documents (`DOC1`, `DOC2`, `DOC3`). For query `Q1`, we find the following similarity scores `score(Q1, DOC1) = 1.0`, `score(Q1, DOC2) = 0.5`, `score(Q1, DOC3) = 0.75`; and for `Q2`: `score(Q2, DOC1) = -0.1`, `score(Q2, DOC2) = 1.25`, `score(Q1, DOC3) = 0.0`. We can generate run using the following snippet:"
   ]
  },
  {
   "cell_type": "code",
   "execution_count": 1,
   "metadata": {
    "collapsed": false,
    "scrolled": false
   },
   "outputs": [
    {
     "name": "stdout",
     "output_type": "stream",
     "text": [
      "Q1 Q0 DOC1 1 1.0 example\n",
      "Q1 Q0 DOC3 2 0.75 example\n",
      "Q1 Q0 DOC2 3 0.5 example\n",
      "Q2 Q0 DOC2 1 1.25 example\n",
      "Q2 Q0 DOC3 2 0.0 example\n",
      "Q2 Q0 DOC1 3 -0.1 example\n"
     ]
    }
   ],
   "source": [
    "import logging\n",
    "import sys\n",
    "\n",
    "def write_run(model_name, data, out_f,\n",
    "              max_objects_per_query=sys.maxsize,\n",
    "              skip_sorting=False):\n",
    "    \"\"\"\n",
    "    Write a run to an output file.\n",
    "    Parameters:\n",
    "        - model_name: identifier of run.\n",
    "        - data: dictionary mapping topic_id to object_assesments;\n",
    "            object_assesments is an iterable (list or tuple) of\n",
    "            (relevance, object_id) pairs.\n",
    "            The object_assesments iterable is sorted by decreasing order.\n",
    "        - out_f: output file stream.\n",
    "        - max_objects_per_query: cut-off for number of objects per query.\n",
    "    \"\"\"\n",
    "    for subject_id, object_assesments in data.items():\n",
    "        if not object_assesments:\n",
    "            logging.warning('Received empty ranking for %s; ignoring.',\n",
    "                            subject_id)\n",
    "\n",
    "            continue\n",
    "\n",
    "        # Probe types, to make sure everything goes alright.\n",
    "        # assert isinstance(object_assesments[0][0], float) or \\\n",
    "        #     isinstance(object_assesments[0][0], np.float32)\n",
    "        assert isinstance(object_assesments[0][1], str) or \\\n",
    "            isinstance(object_assesments[0][1], bytes)\n",
    "\n",
    "        if not skip_sorting:\n",
    "            object_assesments = sorted(object_assesments, reverse=True)\n",
    "\n",
    "        if max_objects_per_query < sys.maxsize:\n",
    "            object_assesments = object_assesments[:max_objects_per_query]\n",
    "\n",
    "        if isinstance(subject_id, bytes):\n",
    "            subject_id = subject_id.decode('utf8')\n",
    "\n",
    "        for rank, (relevance, object_id) in enumerate(object_assesments):\n",
    "            if isinstance(object_id, bytes):\n",
    "                object_id = object_id.decode('utf8')\n",
    "\n",
    "            out_f.write(\n",
    "                '{subject} Q0 {object} {rank} {relevance} '\n",
    "                '{model_name}\\n'.format(\n",
    "                    subject=subject_id,\n",
    "                    object=object_id,\n",
    "                    rank=rank + 1,\n",
    "                    relevance=relevance,\n",
    "                    model_name=model_name))\n",
    "            \n",
    "# The following writes the run to standard output.\n",
    "# In your code, you should write the runs to local\n",
    "# storage in order to pass them to trec_eval.\n",
    "write_run(\n",
    "    model_name='example',\n",
    "    data={\n",
    "        'Q1': ((1.0, 'DOC1'), (0.5, 'DOC2'), (0.75, 'DOC3')),\n",
    "        'Q2': ((-0.1, 'DOC1'), (1.25, 'DOC2'), (0.0, 'DOC3')),\n",
    "    },\n",
    "    out_f=sys.stdout,\n",
    "    max_objects_per_query=1000)"
   ]
  },
  {
   "cell_type": "markdown",
   "metadata": {},
   "source": [
    "Now, imagine that we know that `DOC1` is relevant and `DOC3` is non-relevant for `Q1`. In addition, for `Q2` we only know of the relevance of `DOC3`. The query relevance file looks like:\n",
    "\n",
    "    Q1 0 DOC1 1\n",
    "    Q1 0 DOC3 0\n",
    "    Q2 0 DOC3 1\n",
    "    \n",
    "We store the run and qrel in files `example.run` and `example.qrel` respectively on disk. We can now use TREC Eval to compute evaluation measures. In this example, we're only interested in Mean Average Precision and we'll only show this below for brevity. However, TREC Eval outputs much more information such as NDCG, recall, precision, etc.\n",
    "\n",
    "    $ trec_eval -m all_trec -q example.qrel example.run | grep -E \"^map\\s\"\n",
    "    > map                   \tQ1\t1.0000\n",
    "    > map                   \tQ2\t0.5000\n",
    "    > map                   \tall\t0.7500\n",
    "    \n",
    "Now that we've discussed the output format of rankings and how you can compute evaluation measures from these rankings, we'll now proceed with an overview of the indexing framework you'll use."
   ]
  },
  {
   "cell_type": "markdown",
   "metadata": {},
   "source": [
    "### Pyndri primer ###\n",
    "For this assignment you will use [Pyndri](https://github.com/cvangysel/pyndri) [[1](https://arxiv.org/abs/1701.00749)], a python interface for [Indri](https://www.lemurproject.org/indri.php). We have indexed the document collection and you can query the index using Pyndri. We will start by giving you some examples of what Pyndri can do:\n",
    "\n",
    "First we read the document collection index with Pyndri:"
   ]
  },
  {
   "cell_type": "code",
   "execution_count": 19,
   "metadata": {
    "collapsed": false,
    "scrolled": true
   },
   "outputs": [],
   "source": [
    "import pyndri\n",
    "\n",
    "index = pyndri.Index('index/')"
   ]
  },
  {
   "cell_type": "markdown",
   "metadata": {},
   "source": [
    "The loaded index can be used to access a collection of documents in an easy manner. We'll give you some examples to get some idea of what it can do, it is up to you to figure out how to use it for the remainder of the assignment.\n",
    "\n",
    "First let's look at the number of documents, since Pyndri indexes the documents using incremental identifiers we can simply take the lowest index and the maximum document and consider the difference:"
   ]
  },
  {
   "cell_type": "code",
   "execution_count": 20,
   "metadata": {
    "collapsed": false
   },
   "outputs": [],
   "source": [
    "# print(\"There are %d documents in this collection.\" % (index.maximum_document() - index.document_base()))\n",
    "# print(index.maximum_document())\n",
    "# print(index.document_base())\n",
    "# print(index.maximum_document()-index.document_base())\n"
   ]
  },
  {
   "cell_type": "markdown",
   "metadata": {},
   "source": [
    "Let's take the first document out of the collection and take a look at it:"
   ]
  },
  {
   "cell_type": "code",
   "execution_count": 21,
   "metadata": {
    "collapsed": false,
    "scrolled": true
   },
   "outputs": [],
   "source": [
    "# example_document = index.document(index.document_base())\n",
    "# # print(example_document)"
   ]
  },
  {
   "cell_type": "markdown",
   "metadata": {},
   "source": [
    "Here we see a document consists of two things, a string representing the external document identifier and an integer list representing the identifiers of words that make up the document. Pyndri uses integer representations for words or terms, thus a token_id is an integer that represents a word whereas the token is the actual text of the word/term. Every id has a unique token and vice versa with the exception of stop words: words so common that there are uninformative, all of these receive the zero id.\n",
    "\n",
    "To see what some ids and their matching tokens we take a look at the dictionary of the index:"
   ]
  },
  {
   "cell_type": "code",
   "execution_count": 22,
   "metadata": {
    "collapsed": false
   },
   "outputs": [],
   "source": [
    "token2id, id2token, _ = index.get_dictionary()\n",
    "# print(list(id2token.items())[:15])"
   ]
  },
  {
   "cell_type": "markdown",
   "metadata": {},
   "source": [
    "Using this dictionary we can see the tokens for the (non-stop) words in our example document:"
   ]
  },
  {
   "cell_type": "code",
   "execution_count": 23,
   "metadata": {
    "collapsed": false
   },
   "outputs": [],
   "source": [
    "# print([id2token[word_id] for word_id in example_document[1] if word_id > 0])"
   ]
  },
  {
   "cell_type": "markdown",
   "metadata": {},
   "source": [
    "The reverse can also be done, say we want to look for news about the \"University of Massachusetts\", the tokens of that query can be converted to ids using the reverse dictionary:"
   ]
  },
  {
   "cell_type": "code",
   "execution_count": 24,
   "metadata": {
    "collapsed": false
   },
   "outputs": [],
   "source": [
    "# query_tokens = index.tokenize(\"University of Massachusetts\")\n",
    "# print(\"Query by tokens:\", query_tokens)\n",
    "# query_id_tokens = [token2id.get(query_token,0) for query_token in query_tokens]\n",
    "# print(\"Query by ids with stopwords:\", query_id_tokens)\n",
    "# query_id_tokens = [word_id for word_id in query_id_tokens if word_id > 0]\n",
    "# print(\"Query by ids without stopwords:\", query_id_tokens)\n",
    "# print(token2id.get('university'))"
   ]
  },
  {
   "cell_type": "markdown",
   "metadata": {},
   "source": [
    "Naturally we can now match the document and query in the id space, let's see how often a word from the query occurs in our example document:"
   ]
  },
  {
   "cell_type": "code",
   "execution_count": 25,
   "metadata": {
    "collapsed": false
   },
   "outputs": [],
   "source": [
    "# matching_words = sum([True for word_id in example_document[1] if word_id in query_id_tokens])\n",
    "# print(\"Document %s has %d word matches with query: \\\"%s\\\".\" % (example_document[0], matching_words, ' '.join(query_tokens)))\n",
    "# print(\"Document %s and query \\\"%s\\\" have a %.01f%% overlap.\" % (example_document[0], ' '.join(query_tokens),matching_words/float(len(example_document[1]))*100))"
   ]
  },
  {
   "cell_type": "markdown",
   "metadata": {},
   "source": [
    "While this is certainly not everything Pyndri can do, it should give you an idea of how to use it. Please take a look at the [examples](https://github.com/cvangysel/pyndri) as it will help you a lot with this assignment.\n",
    "\n",
    "**CAUTION**: Avoid printing out the whole index in this Notebook as it will generate a lot of output and is likely to corrupt the Notebook."
   ]
  },
  {
   "cell_type": "markdown",
   "metadata": {},
   "source": [
    "### Parsing the query file\n",
    "You can parse the query file (`ap_88_89/topics_title`) using the following snippet:"
   ]
  },
  {
   "cell_type": "code",
   "execution_count": 26,
   "metadata": {
    "collapsed": false
   },
   "outputs": [],
   "source": [
    "import collections\n",
    "import io\n",
    "import logging\n",
    "import sys\n",
    "\n",
    "def parse_topics(file_or_files,\n",
    "                 max_topics=sys.maxsize, delimiter=';'):\n",
    "    assert max_topics >= 0 or max_topics is None\n",
    "\n",
    "    topics = collections.OrderedDict()\n",
    "\n",
    "    if not isinstance(file_or_files, list) and \\\n",
    "            not isinstance(file_or_files, tuple):\n",
    "        if hasattr(file_or_files, '__iter__'):\n",
    "            file_or_files = list(file_or_files)\n",
    "        else:\n",
    "            file_or_files = [file_or_files]\n",
    "\n",
    "    for f in file_or_files:\n",
    "        assert isinstance(f, io.IOBase)\n",
    "\n",
    "        for line in f:\n",
    "            assert(isinstance(line, str))\n",
    "\n",
    "            line = line.strip()\n",
    "\n",
    "            if not line:\n",
    "                continue\n",
    "\n",
    "            topic_id, terms = line.split(delimiter, 1)\n",
    "\n",
    "            if topic_id in topics and (topics[topic_id] != terms):\n",
    "                    logging.error('Duplicate topic \"%s\" (%s vs. %s).',\n",
    "                                  topic_id,\n",
    "                                  topics[topic_id],\n",
    "                                  terms)\n",
    "\n",
    "            topics[topic_id] = terms\n",
    "\n",
    "            if max_topics > 0 and len(topics) >= max_topics:\n",
    "                break\n",
    "\n",
    "    return topics"
   ]
  },
  {
   "cell_type": "markdown",
   "metadata": {},
   "source": [
    "### Task 1: Implement and compare lexical IR methods [45 points] ### \n",
    "\n",
    "In this task you will implement a number of lexical methods for IR using the **Pyndri** framework. Then you will evaluate these methods on the dataset we have provided using **TREC Eval**.\n",
    "\n",
    "Use the **Pyndri** framework to get statistics of the documents (term frequency, document frequency, collection frequency; **you are not allowed to use the query functionality of Pyndri**) and implement the following scoring methods in **Python**:\n",
    "\n",
    "- [TF-IDF](http://nlp.stanford.edu/IR-book/html/htmledition/tf-idf-weighting-1.html). **[5 points]**\n",
    "- [BM25](http://nlp.stanford.edu/IR-book/html/htmledition/okapi-bm25-a-non-binary-model-1.html) with k1=1.2 and b=0.75. **[5 points]**\n",
    "- Language models ([survey](https://drive.google.com/file/d/0B-zklbckv9CHc0c3b245UW90NE0/view))\n",
    "    - Jelinek-Mercer (explore different values of 𝛌 in the range [0.1, 0.2, ..., 0.9]). **[5 points]**\n",
    "    - Dirichlet Prior (explore different values of 𝛍 [500, 1000, ..., 2000]). **[5 points]**\n",
    "    - Absolute discounting (explore different values of 𝛅 in the range [0.1, 0.2, ..., 0.9]). **[5 points]**\n",
    "    - [Positional Language Models](http://sifaka.cs.uiuc.edu/~ylv2/pub/sigir09-plm.pdf) define a language model for each position of a document, and score a document based on the scores of its PLMs. The PLM is estimated based on propagated counts of words within a document through a proximity-based density function, which both captures proximity heuristics and achieves an effect of “soft” passage retrieval. Implement the PLM, all five kernels, but only the Best position strategy to score documents. Use 𝛔 equal to 50, and Dirichlet smoothing with 𝛍 optimized on the validation set (decide how to optimize this value yourself and motivate your decision in the report). **[10 points]**\n",
    "    \n",
    "Implement the above methods and report evaluation measures (on the test set) using the hyper parameter values you optimized on the validation set (also report the values of the hyper parameters). Use TREC Eval to obtain the results and report on `NDCG@10`, Mean Average Precision (`MAP@1000`), `Precision@5` and `Recall@1000`.\n",
    "\n",
    "For the language models, create plots showing `NDCG@10` with varying values of the parameters. You can do this by chaining small scripts using shell scripting (preferred) or execute trec_eval using Python's `subprocess`.\n",
    "\n",
    "Compute significance of the results using a [two-tailed paired Student t-test](https://docs.scipy.org/doc/scipy/reference/generated/scipy.stats.ttest_rel.html) **[10 points]**. Be wary of false rejection of the null hypothesis caused by the [multiple comparisons problem](https://en.wikipedia.org/wiki/Multiple_comparisons_problem). There are multiple ways to mitigate this problem and it is up to you to choose one.\n",
    "\n",
    "Analyse the results by identifying specific queries where different methods succeed or fail and discuss possible reasons that cause these differences.\n",
    "\n",
    "**NOTE**: Don’t forget to use log computations in your calculations to avoid underflows. "
   ]
  },
  {
   "cell_type": "markdown",
   "metadata": {},
   "source": [
    "## Setups"
   ]
  },
  {
   "cell_type": "code",
   "execution_count": 27,
   "metadata": {
    "collapsed": false
   },
   "outputs": [],
   "source": [
    "import time\n",
    "import pickle\n",
    "import math\n",
    "from itertools import islice\n",
    "import random"
   ]
  },
  {
   "cell_type": "code",
   "execution_count": 28,
   "metadata": {
    "collapsed": true
   },
   "outputs": [],
   "source": [
    "n = index.maximum_document()-index.document_base()\n",
    "def get_rid_of_zeros(n):\n",
    "    collection = []\n",
    "    for i in range(1,n+1):\n",
    "        collection.append([word for word in index.document(i)[1] if word > 0])\n",
    "    return collection"
   ]
  },
  {
   "cell_type": "code",
   "execution_count": 29,
   "metadata": {
    "collapsed": false
   },
   "outputs": [],
   "source": [
    "# collection = get_rid_of_zeros(n)\n",
    "# pickle.dump(collection, open(\"./results/collection.p\", \"wb\"))"
   ]
  },
  {
   "cell_type": "code",
   "execution_count": 30,
   "metadata": {
    "collapsed": true
   },
   "outputs": [],
   "source": [
    "collection = pickle.load(open( \"./results/collection.p\", \"rb\"))"
   ]
  },
  {
   "cell_type": "code",
   "execution_count": 31,
   "metadata": {
    "collapsed": false
   },
   "outputs": [],
   "source": [
    "def get_collection_length():\n",
    "    length_collection = 0\n",
    "    for i in range(n):\n",
    "        length_collection += len(collection[i])\n",
    "    return length_collection"
   ]
  },
  {
   "cell_type": "code",
   "execution_count": 32,
   "metadata": {
    "collapsed": false
   },
   "outputs": [],
   "source": [
    "col_len = get_collection_length()"
   ]
  },
  {
   "cell_type": "code",
   "execution_count": 33,
   "metadata": {
    "collapsed": false
   },
   "outputs": [],
   "source": [
    "def get_unique_collection(n):\n",
    "    unique_words_docs = []\n",
    "    for doc in collection:\n",
    "        unique_words_docs.append(list(set(doc)))\n",
    "    return unique_words_docs"
   ]
  },
  {
   "cell_type": "code",
   "execution_count": 34,
   "metadata": {
    "collapsed": true
   },
   "outputs": [],
   "source": [
    "# unique_words_docs = get_unique_collection(n)\n",
    "# pickle.dump(unique_words_docs, open(\"./results/unique_words_docs.p\", \"wb\"))"
   ]
  },
  {
   "cell_type": "code",
   "execution_count": 35,
   "metadata": {
    "collapsed": true
   },
   "outputs": [],
   "source": [
    "unique_words_docs = pickle.load(open( \"./results/unique_words_docs.p\", \"rb\"))"
   ]
  },
  {
   "cell_type": "code",
   "execution_count": 36,
   "metadata": {
    "collapsed": false
   },
   "outputs": [],
   "source": [
    "# the query ids of the validation list\n",
    "with open('./ap_88_89/qrel_validation', 'r') as val_queries: \n",
    "    val_queries = list(set([line.split(' ')[0] for line in val_queries]))"
   ]
  },
  {
   "cell_type": "markdown",
   "metadata": {},
   "source": [
    "** Inverted Index List **"
   ]
  },
  {
   "cell_type": "code",
   "execution_count": 37,
   "metadata": {
    "collapsed": false
   },
   "outputs": [],
   "source": [
    "queries_dict = {} # {qid: qstring, qid: qstring...}\n",
    "with open('./ap_88_89/topics_title', 'r') as f_topics: \n",
    "    for query in parse_topics([f_topics]).items():\n",
    "        queries_dict[query[0]] = query\n"
   ]
  },
  {
   "cell_type": "code",
   "execution_count": 38,
   "metadata": {
    "collapsed": false
   },
   "outputs": [],
   "source": [
    "def get_inverted_index():\n",
    "    inverted_list = {}\n",
    "    query_list = []\n",
    "\n",
    "    with open('./ap_88_89/topics_title', 'r') as f_topics:   \n",
    "        for query in parse_topics([f_topics]).items():\n",
    "            query_list.append(query)\n",
    "\n",
    "    nr = 0\n",
    "    for query in query_list:\n",
    "        nr += 1\n",
    "        if nr % 10 == 0: #\n",
    "            print(str(nr)+'/'+str(len(query_list)))\n",
    "\n",
    "        # getting the query term ids\n",
    "        query_id = query[0]\n",
    "        query_string = query[1]\n",
    "        query_tokens = index.tokenize(query_string)\n",
    "        query_id_tokens = [token2id.get(query_token,0) for query_token in query_tokens]\n",
    "        query_id_tokens = [word_id for word_id in query_id_tokens if word_id > 0]\n",
    "\n",
    "        for qti in query_id_tokens: # for every query term\n",
    "            if qti not in inverted_list: # only check unique query token once\n",
    "                tot_count = 0\n",
    "                inverted_list[qti] = [[],0]\n",
    "                for i in range(n):                \n",
    "                    word_counter = collection[i].count(qti)\n",
    "                    if word_counter > 0:\n",
    "                        tot_count += word_counter\n",
    "                        docid = index.document_ids([index.document(i+1)[0]])[0][1]\n",
    "                        inverted_list[qti][0].append(docid) # add document to query tok id\n",
    "                inverted_list[qti][1]= (tot_count)\n",
    "    return inverted_list, query_list"
   ]
  },
  {
   "cell_type": "markdown",
   "metadata": {},
   "source": [
    "Get lists:"
   ]
  },
  {
   "cell_type": "code",
   "execution_count": 39,
   "metadata": {
    "collapsed": true
   },
   "outputs": [],
   "source": [
    "# inverted_list, query_list = get_inverted_index()\n",
    "# pickle.dump(inverted_list, open(\"./results/inverted_index.p\", \"wb\"))\n",
    "# pickle.dump(query_list, open(\"./results/query_list.p\", \"wb\"))"
   ]
  },
  {
   "cell_type": "markdown",
   "metadata": {},
   "source": [
    "Load lists:"
   ]
  },
  {
   "cell_type": "code",
   "execution_count": 40,
   "metadata": {
    "collapsed": true
   },
   "outputs": [],
   "source": [
    "inverted_list = pickle.load(open( \"./results/inverted_index.p\", \"rb\"))\n",
    "# query_list = pickle.load(open( \"./results/query_list.p\", \"rb\"))"
   ]
  },
  {
   "cell_type": "code",
   "execution_count": 52,
   "metadata": {
    "collapsed": false
   },
   "outputs": [],
   "source": [
    "def make_dict_format(dic):\n",
    "    results = []\n",
    "    for doc, score in dic.items():\n",
    "        results.append((score, doc))\n",
    "    return tuple(results)"
   ]
  },
  {
   "cell_type": "code",
   "execution_count": 27,
   "metadata": {
    "collapsed": false
   },
   "outputs": [],
   "source": [
    "def get_query_val_docs():\n",
    "    query_val_docs = {}\n",
    "    nr = 0\n",
    "    for query_id in val_queries:\n",
    "        nr +=1\n",
    "        if nr % 5 ==0:\n",
    "            print('doc', nr)\n",
    "        query_tokens = index.tokenize(queries_dict[str(query_id)][1])\n",
    "        query_id_tokens = [token2id.get(query_token,0) for query_token in query_tokens]\n",
    "        query_id_tokens = [word_id for word_id in query_id_tokens if word_id > 0]\n",
    "\n",
    "        relev_documents = []\n",
    "        for token in query_id_tokens:\n",
    "            for doc in inverted_list[token][0]:\n",
    "                if doc not in relev_documents:\n",
    "                    relev_documents.append(doc)\n",
    "\n",
    "        query_val_docs[query_id] = relev_documents\n",
    "    return query_val_docs"
   ]
  },
  {
   "cell_type": "code",
   "execution_count": 28,
   "metadata": {
    "collapsed": true
   },
   "outputs": [],
   "source": [
    "# query_val_docs = get_query_val_docs()\n",
    "# pickle.dump(query_val_docs, open(\"./results/query_val_docs.p\", \"wb\"))"
   ]
  },
  {
   "cell_type": "code",
   "execution_count": 17,
   "metadata": {
    "collapsed": false
   },
   "outputs": [],
   "source": [
    "query_val_docs = pickle.load(open( \"./results/query_val_docs.p\", \"rb\"))"
   ]
  },
  {
   "cell_type": "markdown",
   "metadata": {},
   "source": [
    "# Retrieval Models"
   ]
  },
  {
   "cell_type": "markdown",
   "metadata": {},
   "source": [
    "## TF-IDF  (Vector-space)"
   ]
  },
  {
   "cell_type": "code",
   "execution_count": 41,
   "metadata": {
    "collapsed": true
   },
   "outputs": [],
   "source": [
    "def idf(t):\n",
    "    return math.log(n)-math.log(len(inverted_list[t][0]))"
   ]
  },
  {
   "cell_type": "code",
   "execution_count": 42,
   "metadata": {
    "collapsed": false
   },
   "outputs": [],
   "source": [
    "def tf_idf(t, d):\n",
    "    return math.log(1+collection[d].count(t)) * idf(t)"
   ]
  },
  {
   "cell_type": "code",
   "execution_count": 43,
   "metadata": {
    "collapsed": true
   },
   "outputs": [],
   "source": [
    "def score_TFIDF(q,d):\n",
    "    unique = unique_words_docs[d-1]\n",
    "    score = 0\n",
    "    for word in q:\n",
    "        score += tf_idf(word,d-1)   \n",
    "    return score"
   ]
  },
  {
   "cell_type": "code",
   "execution_count": 32,
   "metadata": {
    "collapsed": false
   },
   "outputs": [],
   "source": [
    "def get_TFIDF_scores():\n",
    "    TFIDF_dict = {}\n",
    "    \n",
    "    nr = 0\n",
    "    for query_id in val_queries:\n",
    "        r = {}\n",
    "        print('\\r',str(nr)+'/'+str(len(val_queries)), end=\" \")\n",
    "        query_tokens = index.tokenize(queries_dict[str(query_id)][1])\n",
    "        query_id_tokens = [token2id.get(query_token,0) for query_token in query_tokens]\n",
    "        query_id_tokens = [word_id for word_id in query_id_tokens if word_id > 0]\n",
    "\n",
    "        for d in query_val_docs[query_id]:\n",
    "            d_id = str(index.document(d)[0])\n",
    "            r[d_id] = score_TFIDF(query_id_tokens, d)\n",
    "            \n",
    "        while len(r) < 1000:\n",
    "            i = random.randrange(1,n)\n",
    "            i = str(index.document(i)[0])\n",
    "            r[i] = 0 if i not in r else r[i]\n",
    "\n",
    "        TFIDF_dict[str(query_id)] = make_dict_format(r)\n",
    "        nr += 1\n",
    "        \n",
    "    return TFIDF_dict"
   ]
  },
  {
   "cell_type": "markdown",
   "metadata": {},
   "source": [
    "Get scores:"
   ]
  },
  {
   "cell_type": "code",
   "execution_count": 33,
   "metadata": {
    "collapsed": false
   },
   "outputs": [],
   "source": [
    "# TFIDF_scores = get_TFIDF_scores()\n",
    "# pickle.dump(TFIDF_scores, open(\"./results/tfidf_results.p\", \"wb\"))"
   ]
  },
  {
   "cell_type": "markdown",
   "metadata": {},
   "source": [
    "Load scores:"
   ]
  },
  {
   "cell_type": "code",
   "execution_count": 34,
   "metadata": {
    "collapsed": true
   },
   "outputs": [],
   "source": [
    "TFIDF_scores = pickle.load(open( \"./results/tfidf_results.p\", \"rb\"))"
   ]
  },
  {
   "cell_type": "markdown",
   "metadata": {},
   "source": [
    "## BM25 (Probabilistic)"
   ]
  },
  {
   "cell_type": "code",
   "execution_count": 35,
   "metadata": {
    "collapsed": true
   },
   "outputs": [],
   "source": [
    "def average_length():\n",
    "    l = 0\n",
    "    for i in range(n):\n",
    "        l += len(collection[i])\n",
    "    return l/float(n)\n",
    "\n",
    "l_av = average_length()"
   ]
  },
  {
   "cell_type": "code",
   "execution_count": 36,
   "metadata": {
    "collapsed": false
   },
   "outputs": [],
   "source": [
    "def BM25(t,d):\n",
    "    k1 = 1.2\n",
    "#     k3 = 1.2\n",
    "    b = 0.75\n",
    "    first = ((k1+1)* collection[d].count(t)) / (k1*((1-b)+b*(len(collection[d])/l_av))+collection[d].count(t))\n",
    "#     second = ((k3+1)*tf(query_id_tokens,t))/(k3*tf(query_id_tokens, t))\n",
    "    return  first*idf(t)"
   ]
  },
  {
   "cell_type": "code",
   "execution_count": 37,
   "metadata": {
    "collapsed": true
   },
   "outputs": [],
   "source": [
    "def score_BM25(q,d):\n",
    "    unique = unique_words_docs[d-1]\n",
    "    score = 0\n",
    "    for word in set(q):\n",
    "        score += BM25(word,d-1)\n",
    "        \n",
    "    return score"
   ]
  },
  {
   "cell_type": "code",
   "execution_count": 38,
   "metadata": {
    "collapsed": true
   },
   "outputs": [],
   "source": [
    "def get_BM25_scores():\n",
    "    BM25_dict = {}\n",
    "    \n",
    "    nr = 0\n",
    "    for query_id in val_queries:\n",
    "        r = {}\n",
    "        print('\\r',str(nr)+'/'+str(len(val_queries)), end=\" \")\n",
    "        query_tokens = index.tokenize(queries_dict[str(query_id)][1])\n",
    "        query_id_tokens = [token2id.get(query_token,0) for query_token in query_tokens]\n",
    "        query_id_tokens = [word_id for word_id in query_id_tokens if word_id > 0]\n",
    "\n",
    "        for d in query_val_docs[query_id]:\n",
    "            d_id = str(index.document(d)[0])\n",
    "            r[d_id] = score_BM25(query_id_tokens, d)\n",
    "            \n",
    "        while len(r) < 1000:\n",
    "            i = random.randrange(1,n)\n",
    "            i = str(index.document(i)[0])\n",
    "            r[i] = 0 if i not in r else r[i]\n",
    "\n",
    "        BM25_dict[str(query_id)] = make_dict_format(r)\n",
    "        nr += 1\n",
    "        \n",
    "    return BM25_dict"
   ]
  },
  {
   "cell_type": "markdown",
   "metadata": {},
   "source": [
    "Get scores:"
   ]
  },
  {
   "cell_type": "code",
   "execution_count": 39,
   "metadata": {
    "collapsed": false
   },
   "outputs": [],
   "source": [
    "BM25_scores = get_BM25_scores()\n",
    "pickle.dump(BM25_scores, open(\"./results/bm25_results.p\", \"wb\"))"
   ]
  },
  {
   "cell_type": "markdown",
   "metadata": {},
   "source": [
    "Load scores:"
   ]
  },
  {
   "cell_type": "code",
   "execution_count": 40,
   "metadata": {
    "collapsed": true
   },
   "outputs": [],
   "source": [
    "BM25_scores = pickle.load(open( \"./results/bm25_results.p\", \"rb\"))"
   ]
  },
  {
   "cell_type": "markdown",
   "metadata": {},
   "source": [
    "**Background probability**\n"
   ]
  },
  {
   "cell_type": "code",
   "execution_count": 50,
   "metadata": {
    "collapsed": false
   },
   "outputs": [],
   "source": [
    "def background_prob(w):\n",
    "    if w in inverted_list:\n",
    "        tf_w_C = inverted_list[w][-1]\n",
    "    else: \n",
    "        tf_w_C = 0\n",
    "    return tf_w_C/float(col_len)"
   ]
  },
  {
   "cell_type": "markdown",
   "metadata": {},
   "source": [
    "## Smoothing"
   ]
  },
  {
   "cell_type": "markdown",
   "metadata": {},
   "source": [
    "## Jelinek-Mercer\n"
   ]
  },
  {
   "cell_type": "code",
   "execution_count": 67,
   "metadata": {
    "collapsed": false
   },
   "outputs": [],
   "source": [
    "def jelinek_mercer(lamb, d, w):\n",
    "    if len(collection[d]) == 0:\n",
    "        print(d)\n",
    "    P = (lamb * (collection[d].count(w)/len(collection[d]))) + ((1-lamb) * background_prob(w))\n",
    "    return P"
   ]
  },
  {
   "cell_type": "code",
   "execution_count": 68,
   "metadata": {
    "collapsed": true
   },
   "outputs": [],
   "source": [
    "def jelinek_score(lamb,query,d):\n",
    "    score = 0\n",
    "    for q in query:\n",
    "        score += math.log(jelinek_mercer(lamb,d,q))\n",
    "    return score"
   ]
  },
  {
   "cell_type": "code",
   "execution_count": 69,
   "metadata": {
    "collapsed": true
   },
   "outputs": [],
   "source": [
    "def get_jelinek_scores(lamb):\n",
    "    print('\\r','lamb:',lamb)\n",
    "    jelinek_dict = {}\n",
    "    nr = 0\n",
    "    for query_id in val_queries:\n",
    "        r = {}\n",
    "        print('\\r',str(nr)+'/'+str(len(val_queries)), end=\" \")\n",
    "        query_tokens = index.tokenize(queries_dict[str(query_id)][1])\n",
    "        query_id_tokens = [token2id.get(query_token,0) for query_token in query_tokens]\n",
    "        query_id_tokens = [word_id for word_id in query_id_tokens if word_id > 0]\n",
    "        \n",
    "    \n",
    "        for d in query_val_docs[query_id]:\n",
    "            d_id = str(index.document(d)[0])\n",
    "            r[d_id] = jelinek_score(lamb, query_id_tokens, d-1)\n",
    "            \n",
    "        while len(r) < 1000:\n",
    "            i = random.randrange(1,n)\n",
    "            j = str(index.document(i)[0])\n",
    "            r[j] = jelinek_score(lamb, query_id_tokens, i-1) if j not in r else r[j]\n",
    "\n",
    "        jelinek_dict[str(query_id)] = make_dict_format(r)\n",
    "        nr += 1\n",
    "        \n",
    "    return jelinek_dict"
   ]
  },
  {
   "cell_type": "markdown",
   "metadata": {},
   "source": [
    "Getting scores:"
   ]
  },
  {
   "cell_type": "code",
   "execution_count": 70,
   "metadata": {
    "collapsed": false
   },
   "outputs": [
    {
     "name": "stdout",
     "output_type": "stream",
     "text": [
      " lamb: 0.6\n",
      " lamb: 0.7\n",
      " lamb: 0.8\n",
      " lamb: 0.9\n",
      " 29/30 "
     ]
    }
   ],
   "source": [
    "# jelinek_scores_0_1 = get_jelinek_scores(0.1)\n",
    "# jelinek_scores_0_2 = get_jelinek_scores(0.2)\n",
    "# jelinek_scores_0_3 = get_jelinek_scores(0.3)\n",
    "# jelinek_scores_0_4 = get_jelinek_scores(0.4)\n",
    "# jelinek_scores_0_5 = get_jelinek_scores(0.5)\n",
    "# jelinek_scores_0_6 = get_jelinek_scores(0.6)\n",
    "# jelinek_scores_0_7 = get_jelinek_scores(0.7)\n",
    "# jelinek_scores_0_8 = get_jelinek_scores(0.8)\n",
    "# jelinek_scores_0_9 = get_jelinek_scores(0.9)"
   ]
  },
  {
   "cell_type": "code",
   "execution_count": 71,
   "metadata": {
    "collapsed": true
   },
   "outputs": [],
   "source": [
    "# pickle.dump(jelinek_scores_0_1, open(\"./results/jelinek_scores_0_1.p\", \"wb\"))\n",
    "# pickle.dump(jelinek_scores_0_2, open(\"./results/jelinek_scores_0_2.p\", \"wb\"))\n",
    "# pickle.dump(jelinek_scores_0_3, open(\"./results/jelinek_scores_0_3.p\", \"wb\"))\n",
    "# pickle.dump(jelinek_scores_0_4, open(\"./results/jelinek_scores_0_4.p\", \"wb\"))\n",
    "# pickle.dump(jelinek_scores_0_5, open(\"./results/jelinek_scores_0_5.p\", \"wb\"))\n",
    "# pickle.dump(jelinek_scores_0_6, open(\"./results/jelinek_scores_0_6.p\", \"wb\"))\n",
    "# pickle.dump(jelinek_scores_0_7, open(\"./results/jelinek_scores_0_7.p\", \"wb\"))\n",
    "# pickle.dump(jelinek_scores_0_8, open(\"./results/jelinek_scores_0_8.p\", \"wb\"))\n",
    "# pickle.dump(jelinek_scores_0_9, open(\"./results/jelinek_scores_0_9.p\", \"wb\"))"
   ]
  },
  {
   "cell_type": "markdown",
   "metadata": {},
   "source": [
    "Loading scores:"
   ]
  },
  {
   "cell_type": "code",
   "execution_count": null,
   "metadata": {
    "collapsed": true
   },
   "outputs": [],
   "source": [
    "jelinek_scores_0_1 = pickle.load(open( \"./results/jelinek_scores_0_1.p\", \"rb\"))\n",
    "jelinek_scores_0_2 = pickle.load(open( \"./results/jelinek_scores_0_2.p\", \"rb\"))\n",
    "jelinek_scores_0_3 = pickle.load(open( \"./results/jelinek_scores_0_3.p\", \"rb\"))\n",
    "jelinek_scores_0_4 = pickle.load(open( \"./results/jelinek_scores_0_4.p\", \"rb\"))\n",
    "jelinek_scores_0_5 = pickle.load(open( \"./results/jelinek_scores_0_5.p\", \"rb\"))\n",
    "jelinek_scores_0_6 = pickle.load(open( \"./results/jelinek_scores_0_6.p\", \"rb\"))\n",
    "jelinek_scores_0_7 = pickle.load(open( \"./results/jelinek_scores_0_7.p\", \"rb\"))\n",
    "jelinek_scores_0_8 = pickle.load(open( \"./results/jelinek_scores_0_8.p\", \"rb\"))\n",
    "jelinek_scores_0_9 = pickle.load(open( \"./results/jelinek_scores_0_9.p\", \"rb\"))"
   ]
  },
  {
   "cell_type": "markdown",
   "metadata": {},
   "source": [
    "## Dirichlet Prior"
   ]
  },
  {
   "cell_type": "code",
   "execution_count": 78,
   "metadata": {
    "collapsed": true
   },
   "outputs": [],
   "source": [
    "def dirichlet_prior(mu,d,w):\n",
    "    return ((len(collection[d])/(len(collection[d])+mu)) * (collection[d].count(w)/len(collection[d]))) + ((mu/(mu+len(collection[d]))) * background_prob(w))"
   ]
  },
  {
   "cell_type": "code",
   "execution_count": 79,
   "metadata": {
    "collapsed": true
   },
   "outputs": [],
   "source": [
    "def dirichlet_score(mu,query,d):\n",
    "    score = 0\n",
    "    for q in query:\n",
    "        score += math.log(dirichlet_prior(mu,d,q))\n",
    "    return score"
   ]
  },
  {
   "cell_type": "code",
   "execution_count": 80,
   "metadata": {
    "collapsed": false
   },
   "outputs": [],
   "source": [
    "def get_dirichlet_scores(mu):\n",
    "    print('\\r','mu:',mu)\n",
    "    dirichlet_dict = {}\n",
    "    nr = 0\n",
    "    for query_id in val_queries:\n",
    "        r = {}\n",
    "        print('\\r',str(nr)+'/'+str(len(val_queries)), end=\" \")\n",
    "        query_tokens = index.tokenize(queries_dict[str(query_id)][1])\n",
    "        query_id_tokens = [token2id.get(query_token,0) for query_token in query_tokens]\n",
    "        query_id_tokens = [word_id for word_id in query_id_tokens if word_id > 0]      \n",
    "    \n",
    "        for d in query_val_docs[query_id]:\n",
    "            d_id = str(index.document(d)[0])\n",
    "            r[d_id] = dirichlet_score(mu, query_id_tokens, d-1)\n",
    "            \n",
    "        while len(r) < 1000:\n",
    "            i = random.randrange(1,n)\n",
    "            j = str(index.document(i)[0])\n",
    "            r[j] = dirichlet_score(mu, query_id_tokens, i-1) if j not in r else r[j]\n",
    "\n",
    "        dirichlet_dict[str(query_id)] = make_dict_format(r)\n",
    "        nr += 1\n",
    "        \n",
    "    return dirichlet_dict"
   ]
  },
  {
   "cell_type": "markdown",
   "metadata": {},
   "source": [
    "Getting scores:"
   ]
  },
  {
   "cell_type": "code",
   "execution_count": 85,
   "metadata": {
    "collapsed": false
   },
   "outputs": [],
   "source": [
    "# dirichlet_scores_500 = get_dirichlet_scores(500)\n",
    "# dirichlet_scores_1000 = get_dirichlet_scores(1000)\n",
    "# dirichlet_scores_1500 = get_dirichlet_scores(1500)\n",
    "# dirichlet_scores_2000 = get_dirichlet_scores(2000)"
   ]
  },
  {
   "cell_type": "code",
   "execution_count": 84,
   "metadata": {
    "collapsed": true
   },
   "outputs": [],
   "source": [
    "# pickle.dump(dirichlet_scores_500, open(\"./results/dirichlet_scores_500.p\", \"wb\"))\n",
    "# pickle.dump(dirichlet_scores_1000, open(\"./results/dirichlet_scores_1000.p\", \"wb\"))\n",
    "# pickle.dump(dirichlet_scores_1500, open(\"./results/dirichlet_scores_1500.p\", \"wb\"))\n",
    "# pickle.dump(dirichlet_scores_2000, open(\"./results/dirichlet_scores_2000.p\", \"wb\"))"
   ]
  },
  {
   "cell_type": "markdown",
   "metadata": {},
   "source": [
    "Loading scores:"
   ]
  },
  {
   "cell_type": "code",
   "execution_count": null,
   "metadata": {
    "collapsed": true
   },
   "outputs": [],
   "source": [
    "dirichlet_scores_500 = pickle.load(open( \"./results/dirichlet_scores_500.p\", \"rb\"))\n",
    "dirichlet_scores_1000 = pickle.load(open( \"./results/dirichlet_scores_1000.p\", \"rb\"))\n",
    "dirichlet_scores_1500 = pickle.load(open( \"./results/dirichlet_scores_1500.p\", \"rb\"))\n",
    "dirichlet_scores_2000 = pickle.load(open( \"./results/dirichlet_scores_2000.p\", \"rb\"))\n"
   ]
  },
  {
   "cell_type": "markdown",
   "metadata": {},
   "source": [
    "**Absolute Discounting**"
   ]
  },
  {
   "cell_type": "code",
   "execution_count": 92,
   "metadata": {
    "collapsed": false
   },
   "outputs": [],
   "source": [
    "def absolute_discounting(delta, d, w):\n",
    "    if len(collection[d]) == 0:\n",
    "        print(d)\n",
    "    return (max(collection[d].count(w)-delta, 0)/len(collection[d])) + (((delta * len(unique_words_docs[d]))/len(collection[d])) * (background_prob(w)))"
   ]
  },
  {
   "cell_type": "code",
   "execution_count": 93,
   "metadata": {
    "collapsed": true
   },
   "outputs": [],
   "source": [
    "def AD_score(delta,query,d):\n",
    "    score = 0\n",
    "    for q in query:\n",
    "        score += math.log(absolute_discounting(delta,d,q))\n",
    "    return score"
   ]
  },
  {
   "cell_type": "code",
   "execution_count": 94,
   "metadata": {
    "collapsed": false
   },
   "outputs": [],
   "source": [
    "def get_AD_scores(delta):\n",
    "    print('\\r','delta:',delta)\n",
    "    AD_dict = {}\n",
    "    nr = 1\n",
    "    for query_id in val_queries:\n",
    "        r = {}\n",
    "        print('\\r',str(nr)+'/'+str(len(val_queries)), end=\" \")\n",
    "        query_tokens = index.tokenize(queries_dict[str(query_id)][1])\n",
    "        query_id_tokens = [token2id.get(query_token,0) for query_token in query_tokens]\n",
    "        query_id_tokens = [word_id for word_id in query_id_tokens if word_id > 0]      \n",
    "    \n",
    "        for d in query_val_docs[query_id]:\n",
    "            d_id = str(index.document(d)[0])\n",
    "            r[d_id] = AD_score(delta, query_id_tokens, d-1)\n",
    "            \n",
    "        while len(r) < 1000:\n",
    "            i = random.randrange(1,n)\n",
    "            j = str(index.document(i)[0])\n",
    "            r[j] = AD_score(delta, query_id_tokens, i-1) if j not in r else r[j]\n",
    "\n",
    "        AD_dict[str(query_id)] = make_dict_format(r)\n",
    "        nr += 1\n",
    "        \n",
    "    return AD_dict"
   ]
  },
  {
   "cell_type": "code",
   "execution_count": null,
   "metadata": {
    "collapsed": false
   },
   "outputs": [
    {
     "name": "stdout",
     "output_type": "stream",
     "text": [
      " delta: 0.1\n",
      " 23/30 "
     ]
    }
   ],
   "source": [
    "AD_scores_0_1 = get_AD_scores(0.1)\n",
    "AD_scores_0_2 = get_AD_scores(0.2)\n",
    "AD_scores_0_3 = get_AD_scores(0.3)\n",
    "AD_scores_0_4 = get_AD_scores(0.4)\n",
    "AD_scores_0_5 = get_AD_scores(0.5)\n",
    "AD_scores_0_6 = get_AD_scores(0.6)\n",
    "AD_scores_0_7 = get_AD_scores(0.7)\n",
    "AD_scores_0_8 = get_AD_scores(0.8)\n",
    "AD_scores_0_9 = get_AD_scores(0.9)"
   ]
  },
  {
   "cell_type": "markdown",
   "metadata": {},
   "source": [
    "## Positional Language Models"
   ]
  },
  {
   "cell_type": "code",
   "execution_count": null,
   "metadata": {
    "collapsed": false
   },
   "outputs": [],
   "source": [
    "query_terms =[]\n",
    "for query in query_list:\n",
    "    query_tokens = index.tokenize(query[1])\n",
    "    query_id_tokens = [token2id.get(query_token,0) for query_token in query_tokens]\n",
    "    query_id_tokens = [word_id for word_id in query_id_tokens if word_id > 0]\n",
    "\n",
    "    for query_token in query_id_tokens:\n",
    "        if query_token not in query_terms:\n",
    "            query_terms.append(query_token)"
   ]
  },
  {
   "cell_type": "code",
   "execution_count": null,
   "metadata": {
    "collapsed": false
   },
   "outputs": [],
   "source": [
    "# q_docs = []\n",
    "# nr = 0\n",
    "# for doc in collection:\n",
    "#     nr +=1\n",
    "#     if nr % 1000 ==0:\n",
    "#         print(nr)\n",
    "#     query_doc = []\n",
    "#     for i in range(len(doc)):\n",
    "#         if doc[i] in query_terms:\n",
    "#             for qterm in query_terms:\n",
    "#                 if qterm == doc[i]:\n",
    "#                     query_doc.append([qterm, i])\n",
    "#     q_docs.append(query_doc)               "
   ]
  },
  {
   "cell_type": "code",
   "execution_count": null,
   "metadata": {
    "collapsed": true
   },
   "outputs": [],
   "source": [
    "# pickle.dump(q_docs, open(\"./results/query_docs.p\", \"wb\"))"
   ]
  },
  {
   "cell_type": "code",
   "execution_count": null,
   "metadata": {
    "collapsed": false
   },
   "outputs": [],
   "source": [
    "def kernel_gaussian(sigma,i,j):\n",
    "    return math.exp((-1*((i-j)**2))/(2*(sigma**2)))\n",
    "    \n",
    "def kernel_triangle(sigma,i,j):\n",
    "    if i-j <= sigma:\n",
    "        return 1-((i-j)/sigma)\n",
    "    else:\n",
    "        return 0.0\n",
    "\n",
    "def kernel_cosine(sigma,i,j):\n",
    "    if i-j <= sigma:\n",
    "        return 0.5*(1+math.cos(((i-j)*math.pi)/sigma))\n",
    "    else:\n",
    "        return 0.0\n",
    "\n",
    "def kernel_circle(sigma,i,j):\n",
    "    if i-j <= sigma:\n",
    "        return math.sqrt(1-(((i-j)/sigma)**2))\n",
    "    else:\n",
    "        return 0.0\n",
    "\n",
    "def kernel_passage(sigma,i,j):\n",
    "    if i-j <= sigma:\n",
    "        return 1.0\n",
    "    else:\n",
    "        return 0.0  "
   ]
  },
  {
   "cell_type": "code",
   "execution_count": null,
   "metadata": {
    "collapsed": false
   },
   "outputs": [],
   "source": [
    "def c(w,j,d): \n",
    "    if w == d[j]:\n",
    "        return 1\n",
    "    else: return 0"
   ]
  },
  {
   "cell_type": "code",
   "execution_count": null,
   "metadata": {
    "collapsed": false
   },
   "outputs": [],
   "source": [
    "def c_prime(w,i,d): # 0.0003 seconds\n",
    "    c_prime = 0\n",
    "    \n",
    "    for query in q_docs[d]:\n",
    "        if query[0] == w:\n",
    "            j = query[1]\n",
    "            c_prime += kernel_gaussian(50,i,j)\n",
    "        \n",
    "#     for j in range(len(collection[d])): \n",
    "#         c_prime += c(w,j,collection[d])*kernel_gaussian(50,i,j)\n",
    "    return c_prime"
   ]
  },
  {
   "cell_type": "code",
   "execution_count": null,
   "metadata": {
    "collapsed": false
   },
   "outputs": [],
   "source": [
    "def Z(i,d): # 0.25 seconds\n",
    "    Z = 0\n",
    "    for word in unique_words_docs[d]:\n",
    "        Z += c_prime(word,i,d)\n",
    "    return Z\n",
    "    "
   ]
  },
  {
   "cell_type": "code",
   "execution_count": null,
   "metadata": {
    "collapsed": true
   },
   "outputs": [],
   "source": [
    "def get_all_zs():\n",
    "    Z = []\n",
    "    \n",
    "    max_len = 0\n",
    "    for doc in collection:\n",
    "        if len(doc) > max_len:\n",
    "            max_len = len(doc)\n",
    "    \n",
    "    for i in range(max_len):\n",
    "        z = 0\n",
    "        for j in range(max_len):\n",
    "            z += kernel_gaussian(50,i,j)\n",
    "        Z.append(z)\n",
    "    return Z\n"
   ]
  },
  {
   "cell_type": "code",
   "execution_count": null,
   "metadata": {
    "collapsed": false
   },
   "outputs": [],
   "source": [
    "# Zs = get_all_zs()"
   ]
  },
  {
   "cell_type": "code",
   "execution_count": null,
   "metadata": {
    "collapsed": true
   },
   "outputs": [],
   "source": [
    "def PLM(mu,w,i,d): # 0.25 seconds\n",
    "    P = (c_prime(w,i,d) + (mu * background_prob(w))) / (Zs[i] + mu)#(Z(i,d) + mu)\n",
    "    return P"
   ]
  },
  {
   "cell_type": "code",
   "execution_count": 9,
   "metadata": {
    "collapsed": false
   },
   "outputs": [],
   "source": [
    "def PLM_score(q,d):\n",
    "#     unique = list(set(collection[d-1]))\n",
    "    unique = unique_words_docs[d-1]\n",
    "    max_score = -100000\n",
    "    for i in range(len(collection[d-1])):   \n",
    "        scores = []\n",
    "        for word in q:\n",
    "            if inverted_list[word][0]:\n",
    "                scores.append(((q.count(word)/float(len(q))) * (math.log((q.count(word)/float(len(q)))/PLM(1000,word,i,d-1)))))\n",
    "        if -sum(scores) > max_score:\n",
    "            max_score = -sum(scores)\n",
    "    return max_score"
   ]
  },
  {
   "cell_type": "code",
   "execution_count": null,
   "metadata": {
    "collapsed": false
   },
   "outputs": [],
   "source": [
    "def get_PLM_scores():\n",
    "#     nr = 0\n",
    "    \n",
    "    PLM_dict = {}\n",
    "    secdoc = 0\n",
    "    for query in query_list:\n",
    "        query_id = query[0]\n",
    "        query_tokens = index.tokenize(query[1])\n",
    "        query_id_tokens = [token2id.get(query_token,0) for query_token in query_tokens]\n",
    "        query_id_tokens = [word_id for word_id in query_id_tokens if word_id > 0]\n",
    "        relev_documents = []\n",
    "        for token in query_id_tokens:\n",
    "            for doc in inverted_list[token][0]:\n",
    "                if doc not in relev_documents:\n",
    "                    relev_documents.append(doc)\n",
    "        print('Q'+str(query_id), 'estimated time: '+ str(round((secdoc*len(relev_documents))/60.0,2)), 'min')\n",
    "        if relev_documents:\n",
    "            PLM_dict[str(query_id)] = []\n",
    "            start = time.time()\n",
    "            for d in relev_documents:\n",
    "                PLM_dict[str(query_id)].append((PLM_score(query_id_tokens, d), str(index.document(d)[0])))\n",
    "            PLM_dict[str(query_id)] = tuple(PLM_dict[str(query_id)])\n",
    "            secdoc = (time.time()-start)/float(len(relev_documents))\n",
    "        output = open(\"./results/PLM_parts.p\", \"wb\")\n",
    "        pickle.dump(PLM_dict, output)\n",
    "        output.close()\n",
    "    return PLM_dict\n",
    "\n",
    "    PLM_dict = {}\n",
    "    secdoc = 0\n",
    "    \n",
    "    for query_id in val_queries:\n",
    "        r = {}\n",
    "        print('\\r',str(nr)+'/'+str(len(val_queries)), end=\" \")\n",
    "        query_tokens = index.tokenize(queries_dict[str(query_id)][1])\n",
    "        query_id_tokens = [token2id.get(query_token,0) for query_token in query_tokens]\n",
    "        query_id_tokens = [word_id for word_id in query_id_tokens if word_id > 0]\n",
    "\n",
    "        for d in query_val_docs[query_id]:\n",
    "            d_id = str(index.document(d)[0])\n",
    "            r[d_id] = score_BM25(query_id_tokens, d)\n",
    "            \n",
    "        while len(r) < 1000:\n",
    "            i = random.randrange(1,n)\n",
    "            i = str(index.document(i)[0])\n",
    "            r[i] = 0 if i not in r else r[i]\n",
    "\n",
    "        BM25_dict[str(query_id)] = make_dict_format(r)\n",
    "        nr += 1\n",
    "        \n",
    "    return BM25_dict\n",
    "\n"
   ]
  },
  {
   "cell_type": "code",
   "execution_count": null,
   "metadata": {
    "collapsed": false
   },
   "outputs": [],
   "source": [
    "PLM_scores = get_PLM_scores()\n",
    "pickle.dump(PLM_scores, open(\"./results/plm_results.p\", \"wb\"))\n"
   ]
  },
  {
   "cell_type": "code",
   "execution_count": null,
   "metadata": {
    "collapsed": false
   },
   "outputs": [],
   "source": [
    "# new_dict = pickle.load(open( \"./results/plm_results.p\", \"rb\"))\n",
    "# print(new_dict)"
   ]
  },
  {
   "cell_type": "markdown",
   "metadata": {},
   "source": [
    "### Task 2: Latent Semantic Models (LSMs) [25 points + 10 bonus points] ###\n",
    "\n",
    "In this task you will experiment with applying a distributional semantics methods ([word2vec](http://arxiv.org/abs/1411.2738)  **[5 points]**, [LSI](http://lsa3.colorado.edu/papers/JASIS.lsi.90.pdf) **[5 points]**, [LDA](https://www.cs.princeton.edu/~blei/papers/BleiNgJordan2003.pdf) **[5 points]** and [doc2vec](https://cs.stanford.edu/~quocle/paragraph_vector.pdf) **[5 points]**) for retrieval.\n",
    "\n",
    "You do not need to implement word2vec, LSI, LDA and doc2vec on your own. Instead, you can use [gensim](http://radimrehurek.com/gensim/index.html) (pre-loaded on the VirtualBox). An example on how to integrate Pyndri with Gensim for word2vec can be found [here](https://github.com/cvangysel/pyndri/blob/master/examples/word2vec.py). For the remaining latent vector space models, you will need to implement connector classes (such as `IndriSentences`) by yourself.\n",
    "\n",
    "In order to use a latent semantic model for retrieval, you need to:\n",
    "   * build a representation of the query **q**,\n",
    "   * build a representation of the document **d**,\n",
    "   * calculate the similarity between **q** and **d** (e.g., cosine similarity, KL-divergence).\n",
    "     \n",
    "The exact implementation here depends on the latent semantic model you are using. For example, in the case of word2vec, you only have vectors for individual words and not for documents or phrases. Try one of the following methods for producing these representations:\n",
    "   * Average or sum the word vectors.\n",
    "   * Cluster words in the document using [k-means](http://scikit-learn.org/stable/modules/generated/sklearn.cluster.KMeans.html) and use the centroid of the most important cluster. Experiment with different values of K for k-means.\n",
    "   * Using the [bag-of-word-embeddings representation](https://ciir-publications.cs.umass.edu/pub/web/getpdf.php?id=1248). **[10 bonus points]**\n",
    "   \n",
    "Each of these LSMs come with various hyperparameters to tune. Make a choice on the parameters, and explicitly mention the reasons that led you to these decisions. You can use the validation set to optimize hyper parameters you see fit; motivate your decisions. In addition, mention clearly how the query/document representations were constructed for each LSM and explain your choices.\n",
    "\n",
    "In this experiment, you will first obtain an initial top-1000 ranking for each query using TF-IDF in **Task 1**, and then re-rank the documents using the LSMs. Use TREC Eval to obtain the results and report on `NDCG@10`, Mean Average Precision (`MAP@1000`), `Precision@5` and `Recall@1000`.\n",
    "\n",
    "Perform significance testing **[5 points]** (similar as in Task 1) in the class of semantic matching methods."
   ]
  },
  {
   "cell_type": "code",
   "execution_count": null,
   "metadata": {
    "collapsed": true
   },
   "outputs": [],
   "source": []
  },
  {
   "cell_type": "code",
   "execution_count": null,
   "metadata": {
    "collapsed": false
   },
   "outputs": [],
   "source": [
    "# # Provide right gensim input with pyndri for word2vec, this code is provided with the assignment.\n",
    "# # IndriSentences gives sentences in the right format for word2vec.\n",
    "# # It works as a bridge between gensim and pyndri -> we have to do this for the other distributional semantic methods as well.\n",
    "# # Understanding which input parameters in what format that are needed for each model shows understanding of the model itself.\n",
    "\n",
    "# import pyndri.compat\n",
    "# import gensim\n",
    "# import copy\n",
    "# import logging\n",
    "# word2vec_init = gensim.models.Word2Vec(\n",
    "#     size=64,  # Embedding size - initially 300\n",
    "#     window=5,  # One-sided window size, init was 5\n",
    "#     sg=True,  # Skip-gram.\n",
    "#     min_count=1,  # Minimum word frequency.\n",
    "#     sample=1e-3,  # Sub-sample threshold.\n",
    "#     hs=False,  # Hierarchical softmax.\n",
    "#     negative=10,  # Number of negative examples.\n",
    "#     iter=1,  # Number of iterations.\n",
    "#     workers=8,  # Number of workers.\n",
    "# )\n",
    "\n",
    "# dictionary = pyndri.extract_dictionary(index)\n",
    "# sentences = pyndri.compat.IndriSentences(index, dictionary, max_documents=200) # max_documents due to time complexity\n",
    "\n",
    "# logging.info('Constructing word2vec vocabulary.')\n",
    "\n",
    "# # Build vocab.\n",
    "# word2vec_init.build_vocab(sentences, trim_rule=None)\n",
    "\n",
    "# models = [word2vec_init]\n",
    "\n",
    "# for epoch in range(1, 6):#range(1, 5 + 1):\n",
    "#     logging.info('Epoch %d', epoch)\n",
    "#     model = copy.deepcopy(models[-1])\n",
    "#     model.train(sentences)\n",
    "\n",
    "#     models.append(model)\n",
    "\n",
    "# logging.info('Trained models: %s', models)\n",
    "# print(models[-1]) # last model is most advanced\n",
    "\n",
    "# ### END OF CODE AS PROVIDED BY ASSIGNMENT\n"
   ]
  },
  {
   "cell_type": "code",
   "execution_count": null,
   "metadata": {
    "collapsed": true
   },
   "outputs": [],
   "source": [
    "\n",
    "# list(token2id.keys())[:20]\n",
    "# models[-1].most_similar(positive=['king'], negative=['man'])\n",
    "# ## LSI ##\n",
    "# '''LSI compares how often words appear together in the same document\n",
    "# and compares how often those occurences happen in all of the documents \n",
    "# that the dictionary has in its index.'''\n",
    "\n",
    "# # Get docs as bag of words #\n",
    "# # print(id2token[0]) is not possible, zeroeth token = irrelevant token. Have to leave this out. xxx\n",
    "# def getdocs(index, max_docs):\n",
    "#     dictionary = pyndri.extract_dictionary(index)\n",
    "#     bowdoc=[]\n",
    "#     if max_docs == None:\n",
    "#         for document in range(index.document_base(), index.maximum_document()):  \n",
    "#             bowdoc.append(dictionary.doc2bow(index.document(document)[1])[1:]) #[1:] throws out irrelevant word '0'\n",
    "#     else:\n",
    "#         for document in range(index.document_base(), index.document_base()+max_docs):  \n",
    "#             bowdoc.append(dictionary.doc2bow(index.document(document)[1])[1:])\n",
    "#     return bowdoc\n",
    "# bowdoc = getdocs(index, 2)\n",
    "# #print(bowdoc)\n",
    "# print(\"got bow\")\n",
    "# lsimodel = gensim.models.LsiModel(bowdoc, 2, id2token, 2, 1.0, False, True, 2, 100)\n",
    "# print(\"trained model\")\n",
    "\n",
    "\n",
    "# print(lsimodel.show_topic(1, topn=1))\n",
    "\n",
    "\n"
   ]
  },
  {
   "cell_type": "markdown",
   "metadata": {},
   "source": [
    "### Task 3: Learning to rank (LTR) [10 points] ###\n",
    "\n",
    "In this task you will get an introduction into learning to rank for information retrieval. You will experiment with a pointwise learning to rank method, logistic regression, implemented in [scikit-learn](http://scikit-learn.org/stable/modules/generated/sklearn.linear_model.LogisticRegression.html).\n",
    "\n",
    "**NOTE**: you can only perform this task if you have completely finished Task 1 and Task 2.\n",
    "\n",
    "In this experiment, you will use the retrieval methods you implemented in Task 1 and Task 2 as features for the learning to rank model. Train your LTR model using 10-fold cross validation on the test set. For every query, first create a document candidate set using the top-1000 documents using TF-IDF. Secondly, compute query-document values using the retrieval models above and use them as features. Note that the feature values of different retrieval methods are likely to be distributed differently.\n",
    "\n",
    "Your approach will definitely not be as good as the state-of-the-art since you are taking a pointwise approach, but we do not ask you to try pair- or listwise methods because they will be the main topic of the next assignment."
   ]
  },
  {
   "cell_type": "code",
   "execution_count": null,
   "metadata": {
    "collapsed": false
   },
   "outputs": [],
   "source": [
    "# from sklearn.linear_model import LogisticRegression"
   ]
  },
  {
   "cell_type": "markdown",
   "metadata": {
    "collapsed": true
   },
   "source": [
    "### Task 4: Write a report [20 points; instant FAIL if not provided] ###\n",
    "\n",
    "The report should be a PDF file created using the [sigconf ACM template](https://www.acm.org/publications/proceedings-template) and will determine a significant part of your grade.\n",
    "\n",
    "   * It should explain what you have implemented, motivate your experiments and detail what you expect to learn from them. **[10 points]**\n",
    "   * Lastly, provide a convincing analysis of your results and conclude the report accordingly. **[10 points]**\n",
    "      * Do all methods perform similarly on all queries? Why?\n",
    "      * Is there a single retrieval model that outperforms all other retrieval models (i.e., silver bullet)?\n",
    "      * ...\n",
    "\n",
    "**Hand in the report and your self-contained implementation source files.** Do not send us the VirtualBox, but only the files that matter, organized in a well-documented zip/tgz file with clear instructions on how to reproduce your results. That is, we want to be able to regenerate all your results with minimal effort. You can assume that the index and ground-truth information is present in the same file system structure as on the VirtualBox.\n"
   ]
  }
 ],
 "metadata": {
  "anaconda-cloud": {},
  "kernelspec": {
   "display_name": "Python 3",
   "language": "python",
   "name": "python3"
  },
  "language_info": {
   "codemirror_mode": {
    "name": "ipython",
    "version": 3
   },
   "file_extension": ".py",
   "mimetype": "text/x-python",
   "name": "python",
   "nbconvert_exporter": "python",
   "pygments_lexer": "ipython3",
   "version": "3.5.2"
  }
 },
 "nbformat": 4,
 "nbformat_minor": 0
}
