{
 "cells": [
  {
   "cell_type": "code",
   "execution_count": 1,
   "metadata": {
    "collapsed": true
   },
   "outputs": [],
   "source": [
    "import itertools\n",
    "import math\n",
    "import random\n",
    "import numpy as np\n",
    "import copy\n",
    "from random import shuffle"
   ]
  },
  {
   "cell_type": "code",
   "execution_count": 95,
   "metadata": {
    "collapsed": true
   },
   "outputs": [],
   "source": [
    "nr_documents = 5\n",
    "relevances_cats = ['N', 'R', 'HR']\n",
    "rel_values = [0.0, 1.0, 2.0]"
   ]
  },
  {
   "cell_type": "markdown",
   "metadata": {},
   "source": [
    "STEP 1"
   ]
  },
  {
   "cell_type": "code",
   "execution_count": 3,
   "metadata": {
    "collapsed": true
   },
   "outputs": [],
   "source": [
    "def split_list(a_list):\n",
    "    half = len(a_list)/2\n",
    "    return [a_list[:half], a_list[half:]]"
   ]
  },
  {
   "cell_type": "code",
   "execution_count": 4,
   "metadata": {
    "collapsed": false
   },
   "outputs": [],
   "source": [
    "def get_combinations_list(relevances):  \n",
    "    combinations = []\n",
    "    for i in itertools.product(relevances, repeat = nr_documents*2):\n",
    "        i = list(i)\n",
    "        i = split_list(i)\n",
    "        combinations.append(i)\n",
    "    return combinations"
   ]
  },
  {
   "cell_type": "code",
   "execution_count": 74,
   "metadata": {
    "collapsed": true
   },
   "outputs": [],
   "source": [
    "combinations_cats = get_combinations_list(relevances_cats)\n",
    "pairs = [i for i in combinations_cats]\n",
    "shuffle(pairs)\n",
    "pairs_sample = pairs[:20000]"
   ]
  },
  {
   "cell_type": "markdown",
   "metadata": {},
   "source": [
    "STEP 2"
   ]
  },
  {
   "cell_type": "markdown",
   "metadata": {},
   "source": [
    "Precision\n",
    "\n",
    "Calculates precision at rank k with a list with 3 relevance levels (R, HR and N). 'Precision at rank k' though, asks for a binary classication problem, so HR and R is counted as relevant (1) and N as non-relevant(0).\n",
    "\n",
    "k must be 5 or smaller"
   ]
  },
  {
   "cell_type": "code",
   "execution_count": 79,
   "metadata": {
    "collapsed": true
   },
   "outputs": [],
   "source": [
    "def precision_at(k, pairs):\n",
    "    count_TP = 0 # amount of true positives\n",
    "    count_FP = 0 # amount of false positives\n",
    "    precision_list =[]\n",
    "    for pair in pairs:\n",
    "        for m in range(0, k):\n",
    "            l = pair[0][m]\n",
    "            if l == 'R': count_TP += 1\n",
    "            elif l == 'HR': count_TP += 1\n",
    "            else : count_FP+=1\n",
    "            precision_P = count_TP / float(count_TP + count_FP)\n",
    "        count_TP = 0\n",
    "        count_FP = 0\n",
    "        for m in range(0,k):\n",
    "            l = pair[1][m]\n",
    "            if l == 'R': count_TP += 1\n",
    "            elif l == 'HR': count_TP += 1\n",
    "            else : count_FP += 1\n",
    "            precision_E = count_TP / float(count_TP + count_FP)\n",
    "        precisions = [precision_P, precision_E]\n",
    "        precision_list.append(precisions)\n",
    "    return precision_list"
   ]
  },
  {
   "cell_type": "markdown",
   "metadata": {},
   "source": [
    "DCG\n",
    "\n",
    "k must be 5 or smaller"
   ]
  },
  {
   "cell_type": "code",
   "execution_count": 101,
   "metadata": {
    "collapsed": true
   },
   "outputs": [],
   "source": [
    "def dcg_at(k, pairs):\n",
    "    EP_results = []\n",
    "    for pair in pairs:\n",
    "        rank_dcgs = []\n",
    "        for ranking in pair:\n",
    "            dcg = 0\n",
    "            for r in range(1,k+1): # r = 1,2,3,4,5\n",
    "                if ranking[r-1] == relevances_cats[0]:\n",
    "                    rel_value = rel_values[0]\n",
    "                elif ranking[r-1] == relevances_cats[1]:\n",
    "                    rel_value = rel_values[1]\n",
    "                else:\n",
    "                    rel_value = rel_values[2]\n",
    "                dcg += ((2**rel_value)-1)/(math.log(1+r,2))\n",
    "            rank_dcgs.append(dcg)\n",
    "        EP_results.append(rank_dcgs)\n",
    "    return EP_results"
   ]
  },
  {
   "cell_type": "markdown",
   "metadata": {},
   "source": [
    "ERR\n"
   ]
  },
  {
   "cell_type": "code",
   "execution_count": 90,
   "metadata": {
    "collapsed": true
   },
   "outputs": [],
   "source": [
    "def R(g): # mapping from relevance grades g to probability of relevance  \n",
    "    if g == relevances_cats[0]:\n",
    "        rel_value = rel_values[0]\n",
    "    elif g == relevances_cats[1]:\n",
    "        rel_value = rel_values[1]\n",
    "    else:\n",
    "        rel_value = rel_values[2]\n",
    "        \n",
    "    return ((2**rel_value)-1)/float((2**max(rel_values)))"
   ]
  },
  {
   "cell_type": "code",
   "execution_count": 91,
   "metadata": {
    "collapsed": true
   },
   "outputs": [],
   "source": [
    "def P(seq, r): # probability that user stops at position r\n",
    "    P = 1\n",
    "    for i in range(1,(r-1)+1):\n",
    "        P *= (1-R(seq[i])) * R(seq[r])\n",
    "    return P "
   ]
  },
  {
   "cell_type": "code",
   "execution_count": 92,
   "metadata": {
    "collapsed": true
   },
   "outputs": [],
   "source": [
    "def err(pairs): # a cascade based metric with x(r) = 1/r\n",
    "    ERR_results = []\n",
    "    for pair in pairs:\n",
    "        rank_err = []\n",
    "        for ranking in pair:\n",
    "            err = 0\n",
    "            for r in range(1, len(ranking)+1):\n",
    "                err += (1/float(r))*P(ranking, r)\n",
    "            rank_err.append(err)\n",
    "        ERR_results.append(rank_err)\n",
    "    return ERR_results "
   ]
  },
  {
   "cell_type": "markdown",
   "metadata": {},
   "source": [
    "STEP 3"
   ]
  },
  {
   "cell_type": "code",
   "execution_count": 93,
   "metadata": {
    "collapsed": true
   },
   "outputs": [],
   "source": [
    "def calculate_differences(results):\n",
    "    difference_measures=[]\n",
    "    for algo in results:\n",
    "        a = algo[0]\n",
    "        b = algo[1]\n",
    "        difference = b - a\n",
    "        if (difference > 0 ): difference_measures.append(difference)\n",
    "    return difference_measures"
   ]
  },
  {
   "cell_type": "code",
   "execution_count": 102,
   "metadata": {
    "collapsed": false
   },
   "outputs": [
    {
     "ename": "IndexError",
     "evalue": "list index out of range",
     "output_type": "error",
     "traceback": [
      "\u001b[0;31m---------------------------------------------------------------------------\u001b[0m",
      "\u001b[0;31mIndexError\u001b[0m                                Traceback (most recent call last)",
      "\u001b[0;32m<ipython-input-102-d36a74096780>\u001b[0m in \u001b[0;36m<module>\u001b[0;34m()\u001b[0m\n\u001b[1;32m      4\u001b[0m \u001b[0mprecision\u001b[0m \u001b[0;34m=\u001b[0m \u001b[0mprecision_at\u001b[0m\u001b[0;34m(\u001b[0m\u001b[0;36m5\u001b[0m\u001b[0;34m,\u001b[0m \u001b[0mcombinations_cats\u001b[0m\u001b[0;34m)\u001b[0m\u001b[0;34m\u001b[0m\u001b[0m\n\u001b[1;32m      5\u001b[0m \u001b[0mdcg\u001b[0m \u001b[0;34m=\u001b[0m \u001b[0mdcg_at\u001b[0m\u001b[0;34m(\u001b[0m\u001b[0;36m5\u001b[0m\u001b[0;34m,\u001b[0m \u001b[0mcombinations_vals\u001b[0m\u001b[0;34m)\u001b[0m\u001b[0;34m\u001b[0m\u001b[0m\n\u001b[0;32m----> 6\u001b[0;31m \u001b[0merr\u001b[0m \u001b[0;34m=\u001b[0m \u001b[0merr\u001b[0m\u001b[0;34m(\u001b[0m\u001b[0mcombinations_vals\u001b[0m\u001b[0;34m)\u001b[0m\u001b[0;34m\u001b[0m\u001b[0m\n\u001b[0m\u001b[1;32m      7\u001b[0m \u001b[0;34m\u001b[0m\u001b[0m\n\u001b[1;32m      8\u001b[0m \u001b[0mdifference_measures_prec\u001b[0m \u001b[0;34m=\u001b[0m \u001b[0mcalculate_differences\u001b[0m\u001b[0;34m(\u001b[0m\u001b[0mprecision\u001b[0m\u001b[0;34m)\u001b[0m\u001b[0;34m\u001b[0m\u001b[0m\n",
      "\u001b[0;32m<ipython-input-92-9b6ea6cc002b>\u001b[0m in \u001b[0;36merr\u001b[0;34m(pairs)\u001b[0m\n\u001b[1;32m      6\u001b[0m             \u001b[0merr\u001b[0m \u001b[0;34m=\u001b[0m \u001b[0;36m0\u001b[0m\u001b[0;34m\u001b[0m\u001b[0m\n\u001b[1;32m      7\u001b[0m             \u001b[0;32mfor\u001b[0m \u001b[0mr\u001b[0m \u001b[0;32min\u001b[0m \u001b[0mrange\u001b[0m\u001b[0;34m(\u001b[0m\u001b[0;36m1\u001b[0m\u001b[0;34m,\u001b[0m \u001b[0mlen\u001b[0m\u001b[0;34m(\u001b[0m\u001b[0mranking\u001b[0m\u001b[0;34m)\u001b[0m\u001b[0;34m+\u001b[0m\u001b[0;36m1\u001b[0m\u001b[0;34m)\u001b[0m\u001b[0;34m:\u001b[0m\u001b[0;34m\u001b[0m\u001b[0m\n\u001b[0;32m----> 8\u001b[0;31m                 \u001b[0merr\u001b[0m \u001b[0;34m+=\u001b[0m \u001b[0;34m(\u001b[0m\u001b[0;36m1\u001b[0m\u001b[0;34m/\u001b[0m\u001b[0mfloat\u001b[0m\u001b[0;34m(\u001b[0m\u001b[0mr\u001b[0m\u001b[0;34m)\u001b[0m\u001b[0;34m)\u001b[0m\u001b[0;34m*\u001b[0m\u001b[0mP\u001b[0m\u001b[0;34m(\u001b[0m\u001b[0mranking\u001b[0m\u001b[0;34m,\u001b[0m \u001b[0mr\u001b[0m\u001b[0;34m)\u001b[0m\u001b[0;34m\u001b[0m\u001b[0m\n\u001b[0m\u001b[1;32m      9\u001b[0m             \u001b[0mrank_err\u001b[0m\u001b[0;34m.\u001b[0m\u001b[0mappend\u001b[0m\u001b[0;34m(\u001b[0m\u001b[0merr\u001b[0m\u001b[0;34m)\u001b[0m\u001b[0;34m\u001b[0m\u001b[0m\n\u001b[1;32m     10\u001b[0m         \u001b[0mERR_results\u001b[0m\u001b[0;34m.\u001b[0m\u001b[0mappend\u001b[0m\u001b[0;34m(\u001b[0m\u001b[0mrank_err\u001b[0m\u001b[0;34m)\u001b[0m\u001b[0;34m\u001b[0m\u001b[0m\n",
      "\u001b[0;32m<ipython-input-91-28a56673c937>\u001b[0m in \u001b[0;36mP\u001b[0;34m(seq, r)\u001b[0m\n\u001b[1;32m      2\u001b[0m     \u001b[0mP\u001b[0m \u001b[0;34m=\u001b[0m \u001b[0;36m1\u001b[0m\u001b[0;34m\u001b[0m\u001b[0m\n\u001b[1;32m      3\u001b[0m     \u001b[0;32mfor\u001b[0m \u001b[0mi\u001b[0m \u001b[0;32min\u001b[0m \u001b[0mrange\u001b[0m\u001b[0;34m(\u001b[0m\u001b[0;36m1\u001b[0m\u001b[0;34m,\u001b[0m\u001b[0;34m(\u001b[0m\u001b[0mr\u001b[0m\u001b[0;34m-\u001b[0m\u001b[0;36m1\u001b[0m\u001b[0;34m)\u001b[0m\u001b[0;34m+\u001b[0m\u001b[0;36m1\u001b[0m\u001b[0;34m)\u001b[0m\u001b[0;34m:\u001b[0m\u001b[0;34m\u001b[0m\u001b[0m\n\u001b[0;32m----> 4\u001b[0;31m         \u001b[0mP\u001b[0m \u001b[0;34m*=\u001b[0m \u001b[0;34m(\u001b[0m\u001b[0;36m1\u001b[0m\u001b[0;34m-\u001b[0m\u001b[0mR\u001b[0m\u001b[0;34m(\u001b[0m\u001b[0mseq\u001b[0m\u001b[0;34m[\u001b[0m\u001b[0mi\u001b[0m\u001b[0;34m]\u001b[0m\u001b[0;34m)\u001b[0m\u001b[0;34m)\u001b[0m \u001b[0;34m*\u001b[0m \u001b[0mR\u001b[0m\u001b[0;34m(\u001b[0m\u001b[0mseq\u001b[0m\u001b[0;34m[\u001b[0m\u001b[0mr\u001b[0m\u001b[0;34m]\u001b[0m\u001b[0;34m)\u001b[0m\u001b[0;34m\u001b[0m\u001b[0m\n\u001b[0m\u001b[1;32m      5\u001b[0m     \u001b[0;32mreturn\u001b[0m \u001b[0mP\u001b[0m\u001b[0;34m\u001b[0m\u001b[0m\n",
      "\u001b[0;31mIndexError\u001b[0m: list index out of range"
     ]
    }
   ],
   "source": [
    "combinations_cats = get_combinations_list(relevances_cats)\n",
    "combinations_vals = get_combinations_list(relevances_vals)\n",
    "\n",
    "precision = precision_at(5, combinations_cats)\n",
    "dcg = dcg_at(5, combinations_vals)\n",
    "err = err(combinations_vals)\n",
    "\n",
    "difference_measures_prec = calculate_differences(precision)\n",
    "difference_measures_dcg = calculate_differences(dcg)\n",
    "difference_measures_err = calculate_differences(err)"
   ]
  },
  {
   "cell_type": "markdown",
   "metadata": {},
   "source": [
    "STEP 4"
   ]
  },
  {
   "cell_type": "code",
   "execution_count": 12,
   "metadata": {
    "collapsed": true
   },
   "outputs": [],
   "source": [
    "def flip_coin():\n",
    "    random.seed()\n",
    "    return random.getrandbits(1)"
   ]
  },
  {
   "cell_type": "code",
   "execution_count": 13,
   "metadata": {
    "collapsed": true
   },
   "outputs": [],
   "source": [
    "# generates a list with 10 random bits. 1 represents a click.\n",
    "\n",
    "def generate_random_clicks():\n",
    "    clicks = []\n",
    "    for i in range(nr_documents*2):\n",
    "        clicks.append(flip_coin())\n",
    "    return clicks"
   ]
  },
  {
   "cell_type": "markdown",
   "metadata": {},
   "source": [
    "Team-draft interleaving"
   ]
  },
  {
   "cell_type": "code",
   "execution_count": 14,
   "metadata": {
    "collapsed": true
   },
   "outputs": [],
   "source": [
    "def team_draft_interleaving(rankings):\n",
    "    random.seed()\n",
    "    new_ranking = []\n",
    "    for i in range(nr_documents):\n",
    "        winner = flip_coin()\n",
    "        new_ranking.append([rankings[winner][i], winner])       \n",
    "        new_ranking.append([rankings[1-winner][i], 1-winner])\n",
    "       \n",
    "    return new_ranking"
   ]
  },
  {
   "cell_type": "markdown",
   "metadata": {},
   "source": [
    "Probabilistic interleaving"
   ]
  },
  {
   "cell_type": "code",
   "execution_count": 15,
   "metadata": {
    "collapsed": true
   },
   "outputs": [],
   "source": [
    "def init_softmaxes(rankings, tau):\n",
    "    denominator = 0\n",
    "    for i in range(1, (len(rankings[0])+1)):\n",
    "        denominator += 1 / float(i ** tau)\n",
    "    index = 1\n",
    "    softmax1 = []\n",
    "    softmax2 = []\n",
    "    for ranking in rankings[0]:\n",
    "        prob = (1/float(index**tau))/float(denominator)\n",
    "        softmax1.append(prob)\n",
    "        softmax2.append(prob)\n",
    "        index += 1\n",
    "    return softmax1, softmax2"
   ]
  },
  {
   "cell_type": "code",
   "execution_count": 16,
   "metadata": {
    "collapsed": true
   },
   "outputs": [],
   "source": [
    "def recalculate_softmax(softmax, pick):\n",
    "    softmax.remove(softmax[pick])\n",
    "    softmax[:] = [x/float(sum(softmax)) for x in softmax]\n",
    "    return softmax"
   ]
  },
  {
   "cell_type": "code",
   "execution_count": 17,
   "metadata": {
    "collapsed": false
   },
   "outputs": [],
   "source": [
    "def probabilistic_interleaving(rankings1, tau):\n",
    "    probrankings = copy.deepcopy(rankings1)\n",
    "    conc_list = []\n",
    "    s1, s2 = init_softmaxes(probrankings, tau)\n",
    "    \n",
    "    while probrankings[0] or probrankings[1]:\n",
    "        \n",
    "        winner = flip_coin() # keep flipping until all lists are empty\n",
    "        \n",
    "        if winner == 0 and probrankings[0]:\n",
    "            \n",
    "            pick = np.random.choice(len(probrankings[0]), 1, p=s1)\n",
    "            conc_list.append([probrankings[winner][pick], winner]) # add pick to the concatenated list\n",
    "            probrankings[winner].remove(probrankings[winner][pick]) # remove the pick from the document list\n",
    "            s1 = recalculate_softmax(s1, pick) # recalculate the softmax of that list to normalise\n",
    "                \n",
    "        elif winner == 1 and probrankings[1]:\n",
    "            \n",
    "            pick = np.random.choice(len(probrankings[1]), 1, p=s2)\n",
    "            conc_list.append([probrankings[winner][pick], winner]) # add pick to the concatenated list\n",
    "            probrankings[winner].remove(probrankings[winner][pick]) # remove the pick from the document list\n",
    "            s2 = recalculate_softmax(s2, pick) # recalculate the softmax of that list to normalise\n",
    "                \n",
    "    return conc_list"
   ]
  },
  {
   "cell_type": "code",
   "execution_count": 18,
   "metadata": {
    "collapsed": true
   },
   "outputs": [],
   "source": [
    "def get_interleaf_credits(ranking, clicks):\n",
    "    credits = [0,0]\n",
    "    for i in range(len(clicks)):\n",
    "        if clicks[i] == 1:\n",
    "            credits[ranking[i][1]] += 1\n",
    "    return credits"
   ]
  },
  {
   "cell_type": "markdown",
   "metadata": {},
   "source": [
    "STEP 5"
   ]
  },
  {
   "cell_type": "code",
   "execution_count": 19,
   "metadata": {
    "collapsed": false
   },
   "outputs": [],
   "source": [
    "def process_data(filename):\n",
    "    data = []\n",
    "    with open(filename) as f:  \n",
    "        f = f.readlines()\n",
    "        for line in f:\n",
    "            data.append(line.split())\n",
    "    return data\n",
    "\n",
    "data = process_data(\"training_data.txt\")"
   ]
  },
  {
   "cell_type": "code",
   "execution_count": 20,
   "metadata": {
    "collapsed": true
   },
   "outputs": [],
   "source": [
    "def rand():\n",
    "    return random.random()"
   ]
  },
  {
   "cell_type": "code",
   "execution_count": 49,
   "metadata": {
    "collapsed": true
   },
   "outputs": [],
   "source": [
    "# required method (c)\n",
    "def is_clicked(P):\n",
    "    result = 1 if rand() < P else 0\n",
    "    return result"
   ]
  },
  {
   "cell_type": "markdown",
   "metadata": {},
   "source": [
    "RCM"
   ]
  },
  {
   "cell_type": "code",
   "execution_count": 22,
   "metadata": {
    "collapsed": true
   },
   "outputs": [],
   "source": [
    "# required method (b)\n",
    "def predict_click_probabilities_RCM(nr_clicks, nr_docs):\n",
    "    return nr_clicks / float(nr_docs)"
   ]
  },
  {
   "cell_type": "markdown",
   "metadata": {},
   "source": [
    "Calculated with the assumption that people do not see the same query-page pair more than once:"
   ]
  },
  {
   "cell_type": "code",
   "execution_count": 33,
   "metadata": {
    "collapsed": true
   },
   "outputs": [],
   "source": [
    "# required method (a)\n",
    "def get_parameter_RCM():\n",
    "    nr_clicks = 0\n",
    "    nr_doc_pages = 0\n",
    "    for row in data:\n",
    "        if 'C' in row:\n",
    "            nr_clicks += 1\n",
    "        else:\n",
    "            nr_doc_pages += 1\n",
    "    nr_docs = nr_doc_pages*10\n",
    "    return nr_clicks, nr_docs"
   ]
  },
  {
   "cell_type": "code",
   "execution_count": 34,
   "metadata": {
    "collapsed": false
   },
   "outputs": [],
   "source": [
    "nr_clicks, nr_docs = get_parameter_RCM()\n",
    "click_probability_RCM = predict_click_probabilities_RCM(nr_clicks, nr_docs)"
   ]
  },
  {
   "cell_type": "code",
   "execution_count": 35,
   "metadata": {
    "collapsed": false
   },
   "outputs": [
    {
     "name": "stdout",
     "output_type": "stream",
     "text": [
      "RCM click probability:  0.13445559411\n"
     ]
    }
   ],
   "source": [
    "print 'RCM click probability: ', click_probability_RCM"
   ]
  },
  {
   "cell_type": "code",
   "execution_count": 36,
   "metadata": {
    "collapsed": false
   },
   "outputs": [],
   "source": [
    "# printing the simulated clicks\n",
    "def get_clicks_RCM(documents):\n",
    "    sim_clicks_RCM = []   \n",
    "    \n",
    "    for document in range(len(documents)):\n",
    "        sim_clicks_RCM.append(is_clicked(click_probability_RCM))\n",
    "    return sim_clicks_RCM"
   ]
  },
  {
   "cell_type": "markdown",
   "metadata": {},
   "source": [
    "Position-based model PBM"
   ]
  },
  {
   "cell_type": "code",
   "execution_count": 69,
   "metadata": {
    "collapsed": true
   },
   "outputs": [],
   "source": [
    "def predict_click_probabilities_PBM(documents, g):\n",
    "    click_probabilities = []\n",
    "    \n",
    "    alphas = [0] * (nr_documents*2)\n",
    "    for i in range(len(documents)):\n",
    "        if documents[i][0] == relevances_cats[0]:\n",
    "            alphas[i] = 0.2\n",
    "        if documents[i][0] == relevances_cats[1]:\n",
    "            alphas[i] = 0.8\n",
    "        if documents[i][0] == relevances_cats[-1]:\n",
    "            alphas[i] = 0.95\n",
    "\n",
    "    for i in range(nr_documents*2):\n",
    "        P = alphas[i] * g[i]\n",
    "        click_probabilities.append(P)\n",
    "        \n",
    "    return click_probabilities\n",
    "    "
   ]
  },
  {
   "cell_type": "code",
   "execution_count": 53,
   "metadata": {
    "collapsed": true
   },
   "outputs": [],
   "source": [
    "def new_gammas(g, a, queries):\n",
    "    all_query_gammas = [0] * 50 \n",
    "    for values in queries.values(): #[[docid, boolean],[...,...]] \n",
    "        query_gammas = g[:] # [0.5, 0.5, ...]\n",
    "        index = 0\n",
    "        for doc in values: # [docid, boolean]  \n",
    "            clicked = doc[1] # boolean\n",
    "            gamma = clicked + ((1-clicked)*(((1-a[index])*query_gammas[index])/(1-query_gammas[index]*a[index])))\n",
    "            query_gammas[index] = gamma\n",
    "            index +=1   \n",
    "        for i in range(len(query_gammas)):\n",
    "            all_query_gammas[i] += query_gammas[i]\n",
    "    \n",
    "    for i in range(len(all_query_gammas)):\n",
    "        all_query_gammas[i] /= len(queries)\n",
    "        \n",
    "    return all_query_gammas"
   ]
  },
  {
   "cell_type": "code",
   "execution_count": 54,
   "metadata": {
    "collapsed": false
   },
   "outputs": [],
   "source": [
    "def get_click_results(session):\n",
    "    query_results = {}\n",
    "    last_query = 0\n",
    "    for row in session:\n",
    "        # query action\n",
    "        if 'Q' in row: \n",
    "            last_query = row[3]\n",
    "            retrieved_docs = row[5:]\n",
    "            for docid in range(len((retrieved_docs))):\n",
    "                retrieved_docs[docid] = [retrieved_docs[docid], 0]\n",
    "            if row[3] not in query_results:     \n",
    "                query_results[row[3]] = retrieved_docs\n",
    "            else:\n",
    "                for i in range(len(retrieved_docs)):\n",
    "                    exists = False\n",
    "                    for document in query_results[row[3]]:\n",
    "                        if retrieved_docs[i][0] in document:\n",
    "                            exists = True\n",
    "                            break\n",
    "                    if not exists:\n",
    "                        query_results[row[3]] += [retrieved_docs[i]]\n",
    "                        \n",
    "        # click action\n",
    "        else:\n",
    "            found = False\n",
    "            while not found:\n",
    "                # check if its in the last query (most likely the correct query page)\n",
    "                for values in query_results[last_query]:\n",
    "                    if row[3] == values[0]:\n",
    "                        values[1] = 1\n",
    "                        found = True\n",
    "                        \n",
    "                # otherwise, check in other query pages\n",
    "                for queries in query_results.values():\n",
    "                    for values in queries:\n",
    "                        \n",
    "                        if row[3] == values[0]:\n",
    "                            values[1] = 1\n",
    "                            found = True\n",
    "                            \n",
    "    return query_results"
   ]
  },
  {
   "cell_type": "code",
   "execution_count": 58,
   "metadata": {
    "collapsed": false
   },
   "outputs": [],
   "source": [
    "# required method (a)\n",
    "def get_parameters_PBM(data_slice):\n",
    "    alphas = [0.2] * 50 \n",
    "    \n",
    "    gammas = [0.5] * 50\n",
    "    learned_gammas = [0] * 50\n",
    "    \n",
    "    # get examination probabilities\n",
    "    sessions = set(map(lambda x:x[0], data_slice))\n",
    "    sessions_data = [[y for y in data_slice if y[0]==x] for x in sessions]\n",
    "    session_nr = 1\n",
    "    for session in sessions_data:\n",
    "        session_nr += 1\n",
    "        query_results = get_click_results(session)\n",
    "        session_gammas = new_gammas(gammas, alphas, query_results)\n",
    "        for i in range(len(session_gammas)):\n",
    "            learned_gammas[i] += session_gammas[i]\n",
    "    for i in range(len(learned_gammas)):\n",
    "        learned_gammas[i] /= len(sessions_data)\n",
    "        learned_gammas[i] = learned_gammas[i]\n",
    "    return learned_gammas[:nr_documents*2]        "
   ]
  },
  {
   "cell_type": "code",
   "execution_count": 59,
   "metadata": {
    "collapsed": false
   },
   "outputs": [],
   "source": [
    "data_slice = data[0:20000]\n",
    "gammas = get_parameters_PBM(data_slice)"
   ]
  },
  {
   "cell_type": "code",
   "execution_count": 67,
   "metadata": {
    "collapsed": false,
    "scrolled": true
   },
   "outputs": [],
   "source": [
    "# printing the simulated clicks\n",
    "def get_clicks_PBM(documents):\n",
    "    sim_clicks_PBM = []\n",
    "    \n",
    "    click_probabilities_PBM = predict_click_probabilities_PBM(documents, gammas)\n",
    "\n",
    "    for document_index in range(len(documents)):\n",
    "        sim_clicks_PBM.append(is_clicked(click_probabilities_PBM[document_index]))\n",
    "\n",
    "    return sim_clicks_PBM"
   ]
  },
  {
   "cell_type": "markdown",
   "metadata": {},
   "source": [
    "STEP 6 \n",
    "\n",
    "Experiments.\n",
    "\n",
    "\n",
    "This method runs N experiments with a list of categorical rankings E and P with categories (HR/R/N).\n",
    "It takes one of the rankings and runs both a team_draft and probabilistic interleave with different random click values, but with the same ranking.\n",
    "\n",
    "\n",
    "We should think of what it means to use different ranking combinations or the same click values for each simulation.\n",
    "\n",
    "\n",
    "It prints out the E proportion for both the team-draft and the probabilistic interleave.\n",
    "\n",
    "\n",
    "We should make a measure for which we can compare results between on- and offline evaluation, between the 2 interleaves and the different click models."
   ]
  },
  {
   "cell_type": "code",
   "execution_count": 71,
   "metadata": {
    "collapsed": false,
    "scrolled": true
   },
   "outputs": [],
   "source": [
    "def interleaving_experiment(ranking_pairs, N):\n",
    "    print 'p_messures: [team: RCM, PBM], [prob: RCM, PBM]'\n",
    "    all_p_meassures = []\n",
    "    nr_pair = 0\n",
    "    for pair in ranking_pairs:\n",
    "        total_games = [[0,0],[0,0]]\n",
    "        p_meassures = [[0,0],[0,0]]\n",
    "        nr_pair += 1\n",
    "        \n",
    "\n",
    "        # executing the N simulations\n",
    "        for i in range(N):\n",
    "            \n",
    "            interleaf_rankings = [team_draft_interleaving(pair), probabilistic_interleaving(pair, 3)]\n",
    "            \n",
    "            interleaf_algo_nr = 0\n",
    "            for ranking in interleaf_rankings:\n",
    "                \n",
    "                \n",
    "                # generating 2 sets of clicks of the models          \n",
    "                click_models = [get_clicks_RCM(ranking), get_clicks_PBM(ranking)]\n",
    "                \n",
    "                click_algo_nr = 0\n",
    "                for clicks in click_models:\n",
    "                    credits = get_interleaf_credits(ranking, clicks)\n",
    "                    total_games[interleaf_algo_nr][click_algo_nr] += 1\n",
    "                    if credits[0] != credits[1]: # if not a tie:\n",
    "                        winner = credits.index(max(credits)) # 0 or 1: P or E\n",
    "                        if winner == 1:\n",
    "                            p_meassures[interleaf_algo_nr][click_algo_nr] += 1\n",
    "                    click_algo_nr += 1\n",
    "                interleaf_algo_nr += 1\n",
    "                            \n",
    "        # dividing the E-win-counts by the total nr of games to get the P meassure                        \n",
    "        for i in range(len(p_meassures)): # 0 and 1\n",
    "            for j in range(len(p_meassures[i])): # \n",
    "                p_meassures[i][j] /= float(total_games[i][j])\n",
    "                \n",
    "        print 'Pair: ', nr_pair, '/', len(ranking_pairs), p_meassures\n",
    "        \n",
    "        all_p_meassures.append(p_meassures)\n",
    "\n",
    "                   \n",
    "    \n",
    "                        \n",
    "    # printing the results\n",
    "    return all_p_meassures"
   ]
  },
  {
   "cell_type": "code",
   "execution_count": 73,
   "metadata": {
    "collapsed": false
   },
   "outputs": [
    {
     "name": "stdout",
     "output_type": "stream",
     "text": [
      "p_messures: [team: RCM, PBM], [prob: RCM, PBM]\n"
     ]
    },
    {
     "name": "stderr",
     "output_type": "stream",
     "text": [
      "/Users/diederusticus/anaconda/lib/python2.7/site-packages/ipykernel/__main__.py:13: VisibleDeprecationWarning: converting an array with ndim > 0 to an index will result in an error in the future\n",
      "/Users/diederusticus/anaconda/lib/python2.7/site-packages/ipykernel/__main__.py:14: VisibleDeprecationWarning: converting an array with ndim > 0 to an index will result in an error in the future\n",
      "/Users/diederusticus/anaconda/lib/python2.7/site-packages/ipykernel/__main__.py:2: VisibleDeprecationWarning: converting an array with ndim > 0 to an index will result in an error in the future\n",
      "  from ipykernel import kernelapp as app\n",
      "/Users/diederusticus/anaconda/lib/python2.7/site-packages/ipykernel/__main__.py:20: VisibleDeprecationWarning: converting an array with ndim > 0 to an index will result in an error in the future\n",
      "/Users/diederusticus/anaconda/lib/python2.7/site-packages/ipykernel/__main__.py:21: VisibleDeprecationWarning: converting an array with ndim > 0 to an index will result in an error in the future\n"
     ]
    },
    {
     "name": "stdout",
     "output_type": "stream",
     "text": [
      "Pair:  1 / 1000 [[0.23333333333333334, 0.5333333333333333], [0.36666666666666664, 0.5666666666666667]]\n",
      "Pair:  2 / 1000 [[0.3333333333333333, 0.26666666666666666], [0.2, 0.26666666666666666]]\n",
      "Pair:  3 / 1000 [[0.26666666666666666, 0.2], [0.23333333333333334, 0.23333333333333334]]\n",
      "Pair:  4 / 1000 [[0.36666666666666664, 0.3333333333333333], [0.36666666666666664, 0.43333333333333335]]\n",
      "Pair:  5 / 1000 [[0.3, 0.2], [0.4, 0.16666666666666666]]\n",
      "Pair:  6 / 1000 [[0.3333333333333333, 0.4666666666666667], [0.16666666666666666, 0.4666666666666667]]\n",
      "Pair:  7 / 1000 [[0.2, 0.4], [0.26666666666666666, 0.1]]\n",
      "Pair:  8 / 1000 [[0.3333333333333333, 0.3333333333333333], [0.26666666666666666, 0.43333333333333335]]\n",
      "Pair:  9 / 1000 [[0.3, 0.43333333333333335], [0.3, 0.6333333333333333]]\n",
      "Pair:  10 / 1000 [[0.3, 0.3333333333333333], [0.23333333333333334, 0.43333333333333335]]\n",
      "Pair:  11 / 1000 [[0.36666666666666664, 0.6666666666666666], [0.2, 0.6666666666666666]]\n",
      "Pair:  12 / 1000 [[0.3, 0.2], [0.36666666666666664, 0.3]]\n",
      "Pair:  13 / 1000 [[0.26666666666666666, 0.6], [0.1, 0.5]]\n",
      "Pair:  14 / 1000 [[0.13333333333333333, 0.5333333333333333], [0.4, 0.6333333333333333]]\n",
      "Pair:  15 / 1000 [[0.3333333333333333, 0.4], [0.43333333333333335, 0.43333333333333335]]\n",
      "Pair:  16 / 1000 [[0.23333333333333334, 0.5666666666666667], [0.26666666666666666, 0.6]]\n",
      "Pair:  17 / 1000 [[0.3333333333333333, 0.26666666666666666], [0.23333333333333334, 0.3333333333333333]]\n",
      "Pair:  18 / 1000 [[0.26666666666666666, 0.4], [0.2, 0.5333333333333333]]\n",
      "Pair:  19 / 1000 [[0.36666666666666664, 0.2], [0.26666666666666666, 0.23333333333333334]]\n",
      "Pair:  20 / 1000 [[0.36666666666666664, 0.16666666666666666], [0.36666666666666664, 0.03333333333333333]]\n",
      "Pair:  21 / 1000 [[0.3, 0.23333333333333334], [0.2, 0.13333333333333333]]\n",
      "Pair:  22 / 1000 [[0.3, 0.36666666666666664], [0.26666666666666666, 0.5333333333333333]]\n",
      "Pair:  23 / 1000 [[0.23333333333333334, 0.36666666666666664], [0.3, 0.3333333333333333]]\n",
      "Pair:  24 / 1000 [[0.26666666666666666, 0.4666666666666667], [0.26666666666666666, 0.3]]\n",
      "Pair:  25 / 1000 [[0.3333333333333333, 0.2], [0.36666666666666664, 0.2]]\n",
      "Pair:  26 / 1000 [[0.4, 0.3333333333333333], [0.26666666666666666, 0.26666666666666666]]\n",
      "Pair:  27 / 1000 [[0.36666666666666664, 0.03333333333333333], [0.3, 0.0]]\n",
      "Pair:  28 / 1000 [[0.26666666666666666, 0.26666666666666666], [0.13333333333333333, 0.3333333333333333]]\n",
      "Pair:  29 / 1000 [[0.26666666666666666, 0.6], [0.16666666666666666, 0.6333333333333333]]\n",
      "Pair:  30 / 1000 [[0.13333333333333333, 0.4], [0.36666666666666664, 0.36666666666666664]]\n",
      "Pair:  31 / 1000 [[0.4, 0.13333333333333333], [0.4, 0.23333333333333334]]\n",
      "Pair:  32 / 1000 [[0.43333333333333335, 0.3333333333333333], [0.36666666666666664, 0.5]]\n",
      "Pair:  33 / 1000 [[0.26666666666666666, 0.26666666666666666], [0.23333333333333334, 0.06666666666666667]]\n",
      "Pair:  34 / 1000 [[0.23333333333333334, 0.26666666666666666], [0.36666666666666664, 0.3]]\n",
      "Pair:  35 / 1000 [[0.3, 0.5], [0.3333333333333333, 0.26666666666666666]]\n",
      "Pair:  36 / 1000 [[0.4, 0.6333333333333333], [0.3, 0.6666666666666666]]\n",
      "Pair:  37 / 1000 [[0.3, 0.36666666666666664], [0.3333333333333333, 0.36666666666666664]]\n",
      "Pair:  38 / 1000 [[0.3, 0.1], [0.23333333333333334, 0.13333333333333333]]\n",
      "Pair:  39 / 1000 [[0.43333333333333335, 0.3333333333333333], [0.23333333333333334, 0.4666666666666667]]\n",
      "Pair:  40 / 1000 [[0.43333333333333335, 0.13333333333333333], [0.43333333333333335, 0.26666666666666666]]\n",
      "Pair:  41 / 1000 [[0.43333333333333335, 0.2], [0.23333333333333334, 0.23333333333333334]]\n",
      "Pair:  42 / 1000 [[0.36666666666666664, 0.36666666666666664], [0.26666666666666666, 0.5333333333333333]]\n",
      "Pair:  43 / 1000 [[0.36666666666666664, 0.2], [0.2, 0.4]]\n",
      "Pair:  44 / 1000 [[0.23333333333333334, 0.5666666666666667], [0.3, 0.6]]\n",
      "Pair:  45 / 1000 [[0.26666666666666666, 0.5], [0.4666666666666667, 0.5]]\n",
      "Pair:  46 / 1000 [[0.23333333333333334, 0.1], [0.3, 0.2]]\n",
      "Pair:  47 / 1000 [[0.2, 0.3], [0.26666666666666666, 0.16666666666666666]]\n",
      "Pair:  48 / 1000 [[0.16666666666666666, 0.5333333333333333], [0.2, 0.5]]\n",
      "Pair:  49 / 1000 [[0.43333333333333335, 0.3333333333333333], [0.3333333333333333, 0.4]]\n",
      "Pair:  50 / 1000 [[0.4, 0.3333333333333333], [0.3333333333333333, 0.3333333333333333]]\n",
      "Pair:  51 / 1000 [[0.23333333333333334, 0.4], [0.2, 0.26666666666666666]]\n",
      "Pair:  52 / 1000 [[0.3333333333333333, 0.3333333333333333], [0.16666666666666666, 0.3]]\n",
      "Pair:  53 / 1000 [[0.3, 0.2], [0.3333333333333333, 0.3]]\n",
      "Pair:  54 / 1000 [[0.36666666666666664, 0.3333333333333333], [0.13333333333333333, 0.43333333333333335]]\n",
      "Pair:  55 / 1000 [[0.3, 0.2], [0.23333333333333334, 0.3]]\n",
      "Pair:  56 / 1000 [[0.3333333333333333, 0.5], [0.4, 0.4666666666666667]]\n",
      "Pair:  57 / 1000 [[0.26666666666666666, 0.26666666666666666], [0.23333333333333334, 0.23333333333333334]]\n",
      "Pair:  58 / 1000 [[0.4, 0.7333333333333333], [0.3333333333333333, 0.7333333333333333]]\n",
      "Pair:  59 / 1000 [[0.3, 0.5333333333333333], [0.3, 0.5]]\n",
      "Pair:  60 / 1000 [[0.36666666666666664, 0.4], [0.23333333333333334, 0.4666666666666667]]\n",
      "Pair:  61 / 1000 [[0.5, 0.26666666666666666], [0.26666666666666666, 0.26666666666666666]]\n",
      "Pair:  62 / 1000 [[0.23333333333333334, 0.26666666666666666], [0.23333333333333334, 0.23333333333333334]]\n",
      "Pair:  63 / 1000 [[0.26666666666666666, 0.5666666666666667], [0.26666666666666666, 0.5333333333333333]]\n",
      "Pair:  64 / 1000 [[0.4, 0.4666666666666667], [0.36666666666666664, 0.4666666666666667]]\n",
      "Pair:  65 / 1000 [[0.5666666666666667, 0.26666666666666666], [0.4, 0.4]]\n",
      "Pair:  66 / 1000 [[0.23333333333333334, 0.2], [0.3333333333333333, 0.2]]\n",
      "Pair:  67 / 1000 [[0.26666666666666666, 0.3], [0.3333333333333333, 0.43333333333333335]]\n",
      "Pair:  68 / 1000 [[0.43333333333333335, 0.1], [0.2, 0.1]]\n",
      "Pair:  69 / 1000 [[0.3333333333333333, 0.3333333333333333], [0.3, 0.2]]\n",
      "Pair:  70 / 1000 [[0.36666666666666664, 0.5666666666666667], [0.16666666666666666, 0.5666666666666667]]\n",
      "Pair:  71 / 1000 [[0.16666666666666666, 0.5333333333333333], [0.36666666666666664, 0.43333333333333335]]\n",
      "Pair:  72 / 1000 [[0.16666666666666666, 0.26666666666666666], [0.36666666666666664, 0.23333333333333334]]\n",
      "Pair:  73 / 1000 [[0.23333333333333334, 0.6666666666666666], [0.3, 0.5666666666666667]]\n",
      "Pair:  74 / 1000 [[0.3333333333333333, 0.7666666666666667], [0.23333333333333334, 0.6333333333333333]]\n",
      "Pair:  75 / 1000 [[0.43333333333333335, 0.36666666666666664], [0.3333333333333333, 0.3333333333333333]]\n",
      "Pair:  76 / 1000 [[0.23333333333333334, 0.13333333333333333], [0.4666666666666667, 0.06666666666666667]]\n",
      "Pair:  77 / 1000 [[0.26666666666666666, 0.2], [0.23333333333333334, 0.26666666666666666]]\n",
      "Pair:  78 / 1000 [[0.16666666666666666, 0.13333333333333333], [0.3, 0.2]]\n",
      "Pair:  79 / 1000 [[0.23333333333333334, 0.1], [0.3, 0.16666666666666666]]\n",
      "Pair:  80 / 1000 [[0.23333333333333334, 0.4], [0.23333333333333334, 0.5]]\n",
      "Pair:  81 / 1000 [[0.3, 0.4666666666666667], [0.4, 0.4]]\n",
      "Pair:  82 / 1000 [[0.3, 0.26666666666666666], [0.3333333333333333, 0.3]]\n",
      "Pair:  83 / 1000 [[0.26666666666666666, 0.4666666666666667], [0.2, 0.5333333333333333]]\n",
      "Pair:  84 / 1000 [[0.26666666666666666, 0.7333333333333333], [0.26666666666666666, 0.6666666666666666]]\n",
      "Pair:  85 / 1000 [[0.36666666666666664, 0.3], [0.2, 0.5]]\n",
      "Pair:  86 / 1000 [[0.26666666666666666, 0.23333333333333334], [0.36666666666666664, 0.3]]\n",
      "Pair:  87 / 1000 [[0.26666666666666666, 0.26666666666666666], [0.23333333333333334, 0.16666666666666666]]\n",
      "Pair:  88 / 1000 [[0.26666666666666666, 0.5], [0.23333333333333334, 0.5666666666666667]]\n",
      "Pair:  89 / 1000 [[0.26666666666666666, 0.4], [0.3, 0.26666666666666666]]\n",
      "Pair:  90 / 1000 [[0.3333333333333333, 0.16666666666666666], [0.5333333333333333, 0.4]]\n",
      "Pair:  91 / 1000 [[0.16666666666666666, 0.16666666666666666], [0.3333333333333333, 0.06666666666666667]]\n",
      "Pair:  92 / 1000 [[0.4, 0.23333333333333334], [0.16666666666666666, 0.2]]\n",
      "Pair:  93 / 1000 [[0.3, 0.5], [0.36666666666666664, 0.3]]\n",
      "Pair:  94 / 1000 [[0.26666666666666666, 0.6666666666666666], [0.36666666666666664, 0.5666666666666667]]\n",
      "Pair:  95 / 1000 [[0.3, 0.6], [0.26666666666666666, 0.26666666666666666]]\n",
      "Pair:  96 / 1000 [[0.4, 0.26666666666666666], [0.13333333333333333, 0.16666666666666666]]\n",
      "Pair:  97 / 1000 [[0.4, 0.23333333333333334], [0.23333333333333334, 0.23333333333333334]]\n",
      "Pair:  98 / 1000 [[0.26666666666666666, 0.7666666666666667], [0.36666666666666664, 0.5666666666666667]]\n",
      "Pair:  99 / 1000 [[0.26666666666666666, 0.5333333333333333], [0.4666666666666667, 0.6]]\n",
      "Pair:  100 / 1000 [[0.2, 0.3333333333333333], [0.3333333333333333, 0.2]]\n",
      "Pair:  101 / 1000 [[0.3, 0.43333333333333335], [0.26666666666666666, 0.6]]\n",
      "Pair:  102 / 1000 [[0.5, 0.23333333333333334], [0.36666666666666664, 0.3333333333333333]]\n",
      "Pair:  103 / 1000 [[0.26666666666666666, 0.5333333333333333], [0.3, 0.5]]\n",
      "Pair:  104 / 1000 [[0.2, 0.23333333333333334], [0.36666666666666664, 0.4]]\n",
      "Pair:  105 / 1000 [[0.13333333333333333, 0.43333333333333335], [0.2, 0.5666666666666667]]\n",
      "Pair:  106 / 1000 [[0.26666666666666666, 0.5], [0.13333333333333333, 0.4]]\n",
      "Pair:  107 / 1000 [[0.3, 0.5666666666666667], [0.2, 0.5666666666666667]]\n",
      "Pair:  108 / 1000 [[0.16666666666666666, 0.4], [0.26666666666666666, 0.6]]\n",
      "Pair:  109 / 1000 [[0.4, 0.26666666666666666], [0.3, 0.16666666666666666]]\n",
      "Pair:  110 / 1000 [[0.3333333333333333, 0.5333333333333333], [0.26666666666666666, 0.7]]\n",
      "Pair:  111 / 1000 [[0.3, 0.4666666666666667], [0.26666666666666666, 0.5666666666666667]]\n",
      "Pair:  112 / 1000 [[0.3333333333333333, 0.43333333333333335], [0.13333333333333333, 0.3333333333333333]]\n",
      "Pair:  113 / 1000 [[0.36666666666666664, 0.6], [0.26666666666666666, 0.7666666666666667]]\n",
      "Pair:  114 / 1000 [[0.3, 0.36666666666666664], [0.3, 0.3333333333333333]]\n",
      "Pair:  115 / 1000 [[0.26666666666666666, 0.7], [0.4666666666666667, 0.5]]\n",
      "Pair:  116 / 1000 [[0.16666666666666666, 0.7333333333333333], [0.23333333333333334, 0.6]]\n",
      "Pair:  117 / 1000 [[0.23333333333333334, 0.5], [0.36666666666666664, 0.6]]\n",
      "Pair:  118 / 1000 [[0.4, 0.4], [0.3333333333333333, 0.1]]\n",
      "Pair:  119 / 1000 [[0.36666666666666664, 0.4666666666666667], [0.3333333333333333, 0.4666666666666667]]\n",
      "Pair:  120 / 1000 [[0.3, 0.6666666666666666], [0.3333333333333333, 0.7333333333333333]]\n",
      "Pair:  121 / 1000 [[0.36666666666666664, 0.3], [0.26666666666666666, 0.4]]\n",
      "Pair:  122 / 1000 [[0.2, 0.26666666666666666], [0.26666666666666666, 0.16666666666666666]]\n",
      "Pair:  123 / 1000 [[0.26666666666666666, 0.36666666666666664], [0.36666666666666664, 0.3333333333333333]]\n",
      "Pair:  124 / 1000 [[0.3, 0.5333333333333333], [0.3333333333333333, 0.6333333333333333]]\n",
      "Pair:  125 / 1000 [[0.5, 0.6666666666666666], [0.3333333333333333, 0.6333333333333333]]\n",
      "Pair:  126 / 1000 [[0.5, 0.6333333333333333], [0.23333333333333334, 0.6666666666666666]]\n",
      "Pair:  127 / 1000 [[0.43333333333333335, 0.6666666666666666], [0.16666666666666666, 0.5333333333333333]]\n",
      "Pair:  128 / 1000 [[0.36666666666666664, 0.23333333333333334], [0.3, 0.23333333333333334]]\n",
      "Pair:  129 / 1000 [[0.26666666666666666, 0.3333333333333333], [0.36666666666666664, 0.36666666666666664]]\n",
      "Pair:  130 / 1000 [[0.4, 0.3333333333333333], [0.36666666666666664, 0.26666666666666666]]\n",
      "Pair:  131 / 1000 [[0.36666666666666664, 0.16666666666666666], [0.3, 0.3]]\n",
      "Pair:  132 / 1000 [[0.2, 0.3], [0.36666666666666664, 0.23333333333333334]]\n",
      "Pair:  133 / 1000 [[0.3, 0.06666666666666667], [0.3, 0.1]]\n",
      "Pair:  134 / 1000 [[0.3333333333333333, 0.3333333333333333], [0.3333333333333333, 0.36666666666666664]]\n",
      "Pair:  135 / 1000 [[0.26666666666666666, 0.4666666666666667], [0.3, 0.5333333333333333]]\n",
      "Pair:  136 / 1000 [[0.43333333333333335, 0.3333333333333333], [0.26666666666666666, 0.3333333333333333]]\n",
      "Pair:  137 / 1000 [[0.2, 0.3], [0.2, 0.13333333333333333]]\n",
      "Pair:  138 / 1000 [[0.3, 0.3], [0.3333333333333333, 0.1]]\n",
      "Pair:  139 / 1000 [[0.26666666666666666, 0.36666666666666664], [0.2, 0.36666666666666664]]\n",
      "Pair:  140 / 1000 [[0.2, 0.6333333333333333], [0.3, 0.5666666666666667]]\n",
      "Pair:  141 / 1000 [[0.26666666666666666, 0.26666666666666666], [0.26666666666666666, 0.23333333333333334]]\n",
      "Pair:  142 / 1000 [[0.26666666666666666, 0.13333333333333333], [0.4, 0.13333333333333333]]\n",
      "Pair:  143 / 1000 [[0.26666666666666666, 0.13333333333333333], [0.4, 0.23333333333333334]]\n",
      "Pair:  144 / 1000 [[0.3, 0.2], [0.2, 0.4666666666666667]]\n",
      "Pair:  145 / 1000 [[0.13333333333333333, 0.5666666666666667], [0.3, 0.7333333333333333]]\n",
      "Pair:  146 / 1000 [[0.26666666666666666, 0.3], [0.23333333333333334, 0.16666666666666666]]\n",
      "Pair:  147 / 1000 [[0.3, 0.3333333333333333], [0.2, 0.13333333333333333]]\n",
      "Pair:  148 / 1000 [[0.3333333333333333, 0.7333333333333333], [0.36666666666666664, 0.7333333333333333]]\n",
      "Pair:  149 / 1000 [[0.26666666666666666, 0.26666666666666666], [0.13333333333333333, 0.4666666666666667]]\n",
      "Pair:  150 / 1000 [[0.3333333333333333, 0.03333333333333333], [0.26666666666666666, 0.13333333333333333]]\n",
      "Pair:  151 / 1000 [[0.3333333333333333, 0.3333333333333333], [0.23333333333333334, 0.3333333333333333]]\n",
      "Pair:  152 / 1000 [[0.3, 0.16666666666666666], [0.43333333333333335, 0.13333333333333333]]\n",
      "Pair:  153 / 1000 [[0.3, 0.06666666666666667], [0.3, 0.03333333333333333]]\n",
      "Pair:  154 / 1000 [[0.3, 0.26666666666666666], [0.4, 0.2]]\n",
      "Pair:  155 / 1000 [[0.26666666666666666, 0.03333333333333333], [0.3, 0.2]]\n",
      "Pair:  156 / 1000 [[0.36666666666666664, 0.3], [0.26666666666666666, 0.6]]\n",
      "Pair:  157 / 1000 [[0.3, 0.5], [0.36666666666666664, 0.43333333333333335]]\n",
      "Pair:  158 / 1000 [[0.4, 0.6], [0.16666666666666666, 0.6666666666666666]]\n",
      "Pair:  159 / 1000 [[0.26666666666666666, 0.1], [0.26666666666666666, 0.2]]\n",
      "Pair:  160 / 1000 [[0.43333333333333335, 0.16666666666666666], [0.43333333333333335, 0.2]]\n",
      "Pair:  161 / 1000 [[0.36666666666666664, 0.36666666666666664], [0.23333333333333334, 0.36666666666666664]]\n",
      "Pair:  162 / 1000 [[0.2, 0.5], [0.36666666666666664, 0.7]]\n",
      "Pair:  163 / 1000 [[0.3, 0.23333333333333334], [0.16666666666666666, 0.2]]\n",
      "Pair:  164 / 1000 [[0.4666666666666667, 0.4666666666666667], [0.3333333333333333, 0.7]]\n",
      "Pair:  165 / 1000 [[0.2, 0.2], [0.4, 0.06666666666666667]]\n",
      "Pair:  166 / 1000 [[0.3, 0.26666666666666666], [0.26666666666666666, 0.3]]\n",
      "Pair:  167 / 1000 [[0.3333333333333333, 0.43333333333333335], [0.26666666666666666, 0.5]]\n",
      "Pair:  168 / 1000 [[0.36666666666666664, 0.6333333333333333], [0.3333333333333333, 0.3]]\n",
      "Pair:  169 / 1000 [[0.26666666666666666, 0.16666666666666666], [0.16666666666666666, 0.03333333333333333]]\n",
      "Pair:  170 / 1000 [[0.3, 0.23333333333333334], [0.3, 0.3]]\n",
      "Pair:  171 / 1000 [[0.3, 0.5333333333333333], [0.43333333333333335, 0.6]]\n",
      "Pair:  172 / 1000 [[0.3333333333333333, 0.43333333333333335], [0.3333333333333333, 0.3333333333333333]]\n",
      "Pair:  173 / 1000 [[0.23333333333333334, 0.3333333333333333], [0.4, 0.4666666666666667]]\n",
      "Pair:  174 / 1000 [[0.3, 0.4], [0.26666666666666666, 0.4666666666666667]]\n",
      "Pair:  175 / 1000 [[0.3333333333333333, 0.6666666666666666], [0.16666666666666666, 0.7333333333333333]]\n",
      "Pair:  176 / 1000 [[0.2, 0.4666666666666667], [0.26666666666666666, 0.4]]\n",
      "Pair:  177 / 1000 [[0.4666666666666667, 0.5], [0.5, 0.4666666666666667]]\n",
      "Pair:  178 / 1000 [[0.5, 0.16666666666666666], [0.26666666666666666, 0.1]]\n",
      "Pair:  179 / 1000 [[0.3, 0.43333333333333335], [0.3, 0.4]]\n",
      "Pair:  180 / 1000 [[0.23333333333333334, 0.36666666666666664], [0.26666666666666666, 0.26666666666666666]]\n",
      "Pair:  181 / 1000 [[0.4666666666666667, 0.3], [0.2, 0.26666666666666666]]\n",
      "Pair:  182 / 1000 [[0.36666666666666664, 0.4], [0.26666666666666666, 0.3]]\n",
      "Pair:  183 / 1000 [[0.3333333333333333, 0.16666666666666666], [0.3333333333333333, 0.4]]\n",
      "Pair:  184 / 1000 [[0.26666666666666666, 0.6666666666666666], [0.36666666666666664, 0.7333333333333333]]\n",
      "Pair:  185 / 1000 [[0.3, 0.26666666666666666], [0.4, 0.43333333333333335]]\n",
      "Pair:  186 / 1000 [[0.3, 0.3], [0.3333333333333333, 0.26666666666666666]]\n",
      "Pair:  187 / 1000 [[0.26666666666666666, 0.3], [0.26666666666666666, 0.43333333333333335]]\n",
      "Pair:  188 / 1000 [[0.2, 0.23333333333333334], [0.36666666666666664, 0.23333333333333334]]\n",
      "Pair:  189 / 1000 [[0.4, 0.5], [0.43333333333333335, 0.6]]\n",
      "Pair:  190 / 1000 [[0.3, 0.43333333333333335], [0.3333333333333333, 0.4666666666666667]]\n",
      "Pair:  191 / 1000 [[0.4666666666666667, 0.7], [0.26666666666666666, 0.6666666666666666]]\n",
      "Pair:  192 / 1000 [[0.26666666666666666, 0.4], [0.23333333333333334, 0.4666666666666667]]\n",
      "Pair:  193 / 1000 [[0.4, 0.23333333333333334], [0.3333333333333333, 0.2]]\n",
      "Pair:  194 / 1000 [[0.23333333333333334, 0.36666666666666664], [0.26666666666666666, 0.36666666666666664]]\n",
      "Pair:  195 / 1000 [[0.4, 0.1], [0.26666666666666666, 0.23333333333333334]]\n",
      "Pair:  196 / 1000 [[0.23333333333333334, 0.4], [0.2, 0.3333333333333333]]\n",
      "Pair:  197 / 1000 [[0.3333333333333333, 0.4666666666666667], [0.4, 0.43333333333333335]]\n",
      "Pair:  198 / 1000 [[0.26666666666666666, 0.5666666666666667], [0.3, 0.6666666666666666]]\n",
      "Pair:  199 / 1000 [[0.3, 0.1], [0.3333333333333333, 0.13333333333333333]]\n",
      "Pair:  200 / 1000 [[0.23333333333333334, 0.6], [0.3333333333333333, 0.5666666666666667]]\n",
      "Pair:  201 / 1000 [[0.3333333333333333, 0.4], [0.16666666666666666, 0.4]]\n",
      "Pair:  202 / 1000 [[0.36666666666666664, 0.36666666666666664], [0.26666666666666666, 0.2]]\n",
      "Pair:  203 / 1000 [[0.3333333333333333, 0.5666666666666667], [0.36666666666666664, 0.4666666666666667]]\n",
      "Pair:  204 / 1000 [[0.5, 0.3333333333333333], [0.26666666666666666, 0.36666666666666664]]\n",
      "Pair:  205 / 1000 [[0.26666666666666666, 0.4], [0.23333333333333334, 0.5]]\n",
      "Pair:  206 / 1000 [[0.3333333333333333, 0.23333333333333334], [0.3, 0.3]]\n",
      "Pair:  207 / 1000 [[0.36666666666666664, 0.36666666666666664], [0.26666666666666666, 0.3333333333333333]]\n",
      "Pair:  208 / 1000 [[0.36666666666666664, 0.5], [0.3333333333333333, 0.43333333333333335]]\n",
      "Pair:  209 / 1000 [[0.26666666666666666, 0.23333333333333334], [0.1, 0.4]]\n",
      "Pair:  210 / 1000 [[0.2, 0.36666666666666664], [0.3, 0.6333333333333333]]\n",
      "Pair:  211 / 1000 [[0.4, 0.4666666666666667], [0.3, 0.4]]\n",
      "Pair:  212 / 1000 [[0.3, 0.6666666666666666], [0.4, 0.6333333333333333]]\n",
      "Pair:  213 / 1000 [[0.26666666666666666, 0.4666666666666667], [0.2, 0.4666666666666667]]\n",
      "Pair:  214 / 1000 [[0.3333333333333333, 0.43333333333333335], [0.26666666666666666, 0.5666666666666667]]\n",
      "Pair:  215 / 1000 [[0.2, 0.23333333333333334], [0.5333333333333333, 0.3]]\n",
      "Pair:  216 / 1000 [[0.4, 0.5666666666666667], [0.3333333333333333, 0.6333333333333333]]\n",
      "Pair:  217 / 1000 [[0.3, 0.2], [0.26666666666666666, 0.3333333333333333]]\n",
      "Pair:  218 / 1000 [[0.2, 0.5333333333333333], [0.26666666666666666, 0.7]]\n",
      "Pair:  219 / 1000 [[0.26666666666666666, 0.3], [0.13333333333333333, 0.2]]\n",
      "Pair:  220 / 1000 [[0.13333333333333333, 0.23333333333333334], [0.23333333333333334, 0.3333333333333333]]\n",
      "Pair:  221 / 1000 [[0.26666666666666666, 0.13333333333333333], [0.4, 0.1]]\n",
      "Pair:  222 / 1000 [[0.3333333333333333, 0.13333333333333333], [0.23333333333333334, 0.3]]\n",
      "Pair:  223 / 1000 [[0.36666666666666664, 0.5666666666666667], [0.23333333333333334, 0.36666666666666664]]\n",
      "Pair:  224 / 1000 [[0.36666666666666664, 0.36666666666666664], [0.23333333333333334, 0.36666666666666664]]\n",
      "Pair:  225 / 1000 [[0.23333333333333334, 0.5666666666666667], [0.23333333333333334, 0.43333333333333335]]\n",
      "Pair:  226 / 1000 [[0.4, 0.3333333333333333], [0.26666666666666666, 0.26666666666666666]]\n",
      "Pair:  227 / 1000 [[0.36666666666666664, 0.5333333333333333], [0.2, 0.4666666666666667]]\n",
      "Pair:  228 / 1000 [[0.16666666666666666, 0.6666666666666666], [0.36666666666666664, 0.5]]\n",
      "Pair:  229 / 1000 [[0.26666666666666666, 0.4], [0.16666666666666666, 0.43333333333333335]]\n",
      "Pair:  230 / 1000 [[0.3333333333333333, 0.5333333333333333], [0.3, 0.5]]\n",
      "Pair:  231 / 1000 [[0.3333333333333333, 0.3], [0.26666666666666666, 0.3]]\n",
      "Pair:  232 / 1000 [[0.23333333333333334, 0.36666666666666664], [0.13333333333333333, 0.16666666666666666]]\n",
      "Pair:  233 / 1000 [[0.36666666666666664, 0.13333333333333333], [0.3333333333333333, 0.2]]\n",
      "Pair:  234 / 1000 [[0.26666666666666666, 0.4], [0.26666666666666666, 0.36666666666666664]]\n",
      "Pair:  235 / 1000 [[0.2, 0.23333333333333334], [0.16666666666666666, 0.3333333333333333]]\n",
      "Pair:  236 / 1000 [[0.43333333333333335, 0.2], [0.4666666666666667, 0.06666666666666667]]\n",
      "Pair:  237 / 1000 [[0.16666666666666666, 0.2], [0.3333333333333333, 0.26666666666666666]]\n",
      "Pair:  238 / 1000 [[0.26666666666666666, 0.4666666666666667], [0.3, 0.5666666666666667]]\n",
      "Pair:  239 / 1000 [[0.36666666666666664, 0.5], [0.3333333333333333, 0.5]]\n",
      "Pair:  240 / 1000 [[0.3333333333333333, 0.26666666666666666], [0.2, 0.3]]\n",
      "Pair:  241 / 1000 [[0.4, 0.23333333333333334], [0.3, 0.4666666666666667]]\n",
      "Pair:  242 / 1000 [[0.4, 0.5666666666666667], [0.5, 0.4]]\n",
      "Pair:  243 / 1000 [[0.26666666666666666, 0.23333333333333334], [0.23333333333333334, 0.3]]\n",
      "Pair:  244 / 1000 [[0.23333333333333334, 0.4], [0.26666666666666666, 0.6333333333333333]]\n",
      "Pair:  245 / 1000 [[0.3333333333333333, 0.1], [0.16666666666666666, 0.26666666666666666]]\n",
      "Pair:  246 / 1000 [[0.5666666666666667, 0.5666666666666667], [0.3333333333333333, 0.5666666666666667]]\n",
      "Pair:  247 / 1000 [[0.3, 0.03333333333333333], [0.4666666666666667, 0.16666666666666666]]\n",
      "Pair:  248 / 1000 [[0.3, 0.3333333333333333], [0.23333333333333334, 0.2]]\n",
      "Pair:  249 / 1000 [[0.43333333333333335, 0.1], [0.26666666666666666, 0.03333333333333333]]\n",
      "Pair:  250 / 1000 [[0.23333333333333334, 0.36666666666666664], [0.4, 0.4666666666666667]]\n",
      "Pair:  251 / 1000 [[0.23333333333333334, 0.3333333333333333], [0.4, 0.5333333333333333]]\n",
      "Pair:  252 / 1000 [[0.43333333333333335, 0.5], [0.3333333333333333, 0.26666666666666666]]\n",
      "Pair:  253 / 1000 [[0.23333333333333334, 0.5], [0.3333333333333333, 0.4]]\n",
      "Pair:  254 / 1000 [[0.43333333333333335, 0.4666666666666667], [0.1, 0.6]]\n",
      "Pair:  255 / 1000 [[0.23333333333333334, 0.3], [0.2, 0.26666666666666666]]\n",
      "Pair:  256 / 1000 [[0.36666666666666664, 0.43333333333333335], [0.36666666666666664, 0.36666666666666664]]\n",
      "Pair:  257 / 1000 [[0.1, 0.2], [0.26666666666666666, 0.1]]\n",
      "Pair:  258 / 1000 [[0.36666666666666664, 0.4], [0.36666666666666664, 0.2]]\n",
      "Pair:  259 / 1000 [[0.36666666666666664, 0.5], [0.3, 0.5]]\n"
     ]
    },
    {
     "ename": "KeyboardInterrupt",
     "evalue": "",
     "output_type": "error",
     "traceback": [
      "\u001b[0;31m---------------------------------------------------------------------------\u001b[0m",
      "\u001b[0;31mKeyboardInterrupt\u001b[0m                         Traceback (most recent call last)",
      "\u001b[0;32m<ipython-input-73-b4a12f1b6917>\u001b[0m in \u001b[0;36m<module>\u001b[0;34m()\u001b[0m\n\u001b[0;32m----> 1\u001b[0;31m \u001b[0mp_meassures\u001b[0m \u001b[0;34m=\u001b[0m \u001b[0minterleaving_experiment\u001b[0m\u001b[0;34m(\u001b[0m\u001b[0mpairs_sample\u001b[0m\u001b[0;34m,\u001b[0m \u001b[0;36m30\u001b[0m\u001b[0;34m)\u001b[0m\u001b[0;34m\u001b[0m\u001b[0m\n\u001b[0m",
      "\u001b[0;32m<ipython-input-71-492f3c3de5d5>\u001b[0m in \u001b[0;36minterleaving_experiment\u001b[0;34m(ranking_pairs, N)\u001b[0m\n\u001b[1;32m     12\u001b[0m         \u001b[0;32mfor\u001b[0m \u001b[0mi\u001b[0m \u001b[0;32min\u001b[0m \u001b[0mrange\u001b[0m\u001b[0;34m(\u001b[0m\u001b[0mN\u001b[0m\u001b[0;34m)\u001b[0m\u001b[0;34m:\u001b[0m\u001b[0;34m\u001b[0m\u001b[0m\n\u001b[1;32m     13\u001b[0m \u001b[0;34m\u001b[0m\u001b[0m\n\u001b[0;32m---> 14\u001b[0;31m             \u001b[0minterleaf_rankings\u001b[0m \u001b[0;34m=\u001b[0m \u001b[0;34m[\u001b[0m\u001b[0mteam_draft_interleaving\u001b[0m\u001b[0;34m(\u001b[0m\u001b[0mpair\u001b[0m\u001b[0;34m)\u001b[0m\u001b[0;34m,\u001b[0m \u001b[0mprobabilistic_interleaving\u001b[0m\u001b[0;34m(\u001b[0m\u001b[0mpair\u001b[0m\u001b[0;34m,\u001b[0m \u001b[0;36m3\u001b[0m\u001b[0;34m)\u001b[0m\u001b[0;34m]\u001b[0m\u001b[0;34m\u001b[0m\u001b[0m\n\u001b[0m\u001b[1;32m     15\u001b[0m \u001b[0;34m\u001b[0m\u001b[0m\n\u001b[1;32m     16\u001b[0m             \u001b[0minterleaf_algo_nr\u001b[0m \u001b[0;34m=\u001b[0m \u001b[0;36m0\u001b[0m\u001b[0;34m\u001b[0m\u001b[0m\n",
      "\u001b[0;32m<ipython-input-17-fd8a8007df16>\u001b[0m in \u001b[0;36mprobabilistic_interleaving\u001b[0;34m(rankings1, tau)\u001b[0m\n\u001b[1;32m      6\u001b[0m     \u001b[0;32mwhile\u001b[0m \u001b[0mprobrankings\u001b[0m\u001b[0;34m[\u001b[0m\u001b[0;36m0\u001b[0m\u001b[0;34m]\u001b[0m \u001b[0;32mor\u001b[0m \u001b[0mprobrankings\u001b[0m\u001b[0;34m[\u001b[0m\u001b[0;36m1\u001b[0m\u001b[0;34m]\u001b[0m\u001b[0;34m:\u001b[0m\u001b[0;34m\u001b[0m\u001b[0m\n\u001b[1;32m      7\u001b[0m \u001b[0;34m\u001b[0m\u001b[0m\n\u001b[0;32m----> 8\u001b[0;31m         \u001b[0mwinner\u001b[0m \u001b[0;34m=\u001b[0m \u001b[0mflip_coin\u001b[0m\u001b[0;34m(\u001b[0m\u001b[0;34m)\u001b[0m \u001b[0;31m# keep flipping until all lists are empty\u001b[0m\u001b[0;34m\u001b[0m\u001b[0m\n\u001b[0m\u001b[1;32m      9\u001b[0m \u001b[0;34m\u001b[0m\u001b[0m\n\u001b[1;32m     10\u001b[0m         \u001b[0;32mif\u001b[0m \u001b[0mwinner\u001b[0m \u001b[0;34m==\u001b[0m \u001b[0;36m0\u001b[0m \u001b[0;32mand\u001b[0m \u001b[0mprobrankings\u001b[0m\u001b[0;34m[\u001b[0m\u001b[0;36m0\u001b[0m\u001b[0;34m]\u001b[0m\u001b[0;34m:\u001b[0m\u001b[0;34m\u001b[0m\u001b[0m\n",
      "\u001b[0;32m<ipython-input-12-7a9c49fb70e7>\u001b[0m in \u001b[0;36mflip_coin\u001b[0;34m()\u001b[0m\n\u001b[1;32m      1\u001b[0m \u001b[0;32mdef\u001b[0m \u001b[0mflip_coin\u001b[0m\u001b[0;34m(\u001b[0m\u001b[0;34m)\u001b[0m\u001b[0;34m:\u001b[0m\u001b[0;34m\u001b[0m\u001b[0m\n\u001b[0;32m----> 2\u001b[0;31m     \u001b[0mrandom\u001b[0m\u001b[0;34m.\u001b[0m\u001b[0mseed\u001b[0m\u001b[0;34m(\u001b[0m\u001b[0;34m)\u001b[0m\u001b[0;34m\u001b[0m\u001b[0m\n\u001b[0m\u001b[1;32m      3\u001b[0m     \u001b[0;32mreturn\u001b[0m \u001b[0mrandom\u001b[0m\u001b[0;34m.\u001b[0m\u001b[0mgetrandbits\u001b[0m\u001b[0;34m(\u001b[0m\u001b[0;36m1\u001b[0m\u001b[0;34m)\u001b[0m\u001b[0;34m\u001b[0m\u001b[0m\n",
      "\u001b[0;32m/Users/diederusticus/anaconda/lib/python2.7/random.pyc\u001b[0m in \u001b[0;36mseed\u001b[0;34m(self, a)\u001b[0m\n\u001b[1;32m    116\u001b[0m                 \u001b[0ma\u001b[0m \u001b[0;34m=\u001b[0m \u001b[0mlong\u001b[0m\u001b[0;34m(\u001b[0m\u001b[0mtime\u001b[0m\u001b[0;34m.\u001b[0m\u001b[0mtime\u001b[0m\u001b[0;34m(\u001b[0m\u001b[0;34m)\u001b[0m \u001b[0;34m*\u001b[0m \u001b[0;36m256\u001b[0m\u001b[0;34m)\u001b[0m \u001b[0;31m# use fractional seconds\u001b[0m\u001b[0;34m\u001b[0m\u001b[0m\n\u001b[1;32m    117\u001b[0m \u001b[0;34m\u001b[0m\u001b[0m\n\u001b[0;32m--> 118\u001b[0;31m         \u001b[0msuper\u001b[0m\u001b[0;34m(\u001b[0m\u001b[0mRandom\u001b[0m\u001b[0;34m,\u001b[0m \u001b[0mself\u001b[0m\u001b[0;34m)\u001b[0m\u001b[0;34m.\u001b[0m\u001b[0mseed\u001b[0m\u001b[0;34m(\u001b[0m\u001b[0ma\u001b[0m\u001b[0;34m)\u001b[0m\u001b[0;34m\u001b[0m\u001b[0m\n\u001b[0m\u001b[1;32m    119\u001b[0m         \u001b[0mself\u001b[0m\u001b[0;34m.\u001b[0m\u001b[0mgauss_next\u001b[0m \u001b[0;34m=\u001b[0m \u001b[0mNone\u001b[0m\u001b[0;34m\u001b[0m\u001b[0m\n\u001b[1;32m    120\u001b[0m \u001b[0;34m\u001b[0m\u001b[0m\n",
      "\u001b[0;31mKeyboardInterrupt\u001b[0m: "
     ]
    }
   ],
   "source": [
    "p_meassures = interleaving_experiment(pairs_sample, 30)"
   ]
  },
  {
   "cell_type": "markdown",
   "metadata": {
    "collapsed": true
   },
   "source": [
    "STEP 7 PBM better because it takes into account the attractiveness and that is based on the true relevance labels"
   ]
  },
  {
   "cell_type": "code",
   "execution_count": null,
   "metadata": {
    "collapsed": true
   },
   "outputs": [],
   "source": [
    "team_rmc = 0.3\n",
    "team_pbm = 0.4\n",
    "prob_rcm = 0.3\n",
    "prob_pbm = 0.5\n",
    "\n",
    "difference_measures_prec\n",
    "difference_measures_dcg\n",
    "difference_measures_err\n",
    "\n",
    "\n",
    "\n",
    "\n"
   ]
  }
 ],
 "metadata": {
  "anaconda-cloud": {},
  "kernelspec": {
   "display_name": "Python [Root]",
   "language": "python",
   "name": "Python [Root]"
  },
  "language_info": {
   "codemirror_mode": {
    "name": "ipython",
    "version": 2
   },
   "file_extension": ".py",
   "mimetype": "text/x-python",
   "name": "python",
   "nbconvert_exporter": "python",
   "pygments_lexer": "ipython2",
   "version": "2.7.12"
  }
 },
 "nbformat": 4,
 "nbformat_minor": 0
}
