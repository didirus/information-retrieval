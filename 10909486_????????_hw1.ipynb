{
 "cells": [
  {
   "cell_type": "markdown",
   "metadata": {},
   "source": [
    "Precision = TP/(TP+FP), fraction of retrieved documents that are relevant\n",
    "\n",
    "Recall = TP/(TP+FN), fraction of relevant documents that are retrieved\n",
    "\n",
    "By returning more documents, recall increases\n",
    "\n",
    "By returning fewer documents, often precision increases\n",
    "\n",
    "Average Precision = sum over precisions of relevant docs and divide by all retrieved documents (or all relevant documents?)"
   ]
  },
  {
   "cell_type": "code",
   "execution_count": null,
   "metadata": {
    "collapsed": true
   },
   "outputs": [],
   "source": []
  }
 ],
 "metadata": {
  "kernelspec": {
   "display_name": "Python [Root]",
   "language": "python",
   "name": "Python [Root]"
  },
  "language_info": {
   "codemirror_mode": {
    "name": "ipython",
    "version": 2
   },
   "file_extension": ".py",
   "mimetype": "text/x-python",
   "name": "python",
   "nbconvert_exporter": "python",
   "pygments_lexer": "ipython2",
   "version": "2.7.12"
  }
 },
 "nbformat": 4,
 "nbformat_minor": 0
}
